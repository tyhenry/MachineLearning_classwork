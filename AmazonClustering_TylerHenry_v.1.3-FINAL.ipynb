{
 "cells": [
  {
   "cell_type": "code",
   "execution_count": 1,
   "metadata": {
    "collapsed": true
   },
   "outputs": [],
   "source": [
    "import numpy as np\n",
    "import pandas as pd\n",
    "import matplotlib.pyplot as plt\n",
    "%matplotlib inline"
   ]
  },
  {
   "cell_type": "code",
   "execution_count": 2,
   "metadata": {
    "collapsed": true
   },
   "outputs": [],
   "source": [
    "import pandas as pd\n",
    "\n",
    "class ProcessAmazon():\n",
    "    \"\"\"Read, filter, aggregate by ProductId, and generate X matrix\"\"\"\n",
    "\n",
    "    def __init__(self, raw_data_filename, num_reviews_filter):\n",
    "        \"\"\"Initialize attributes.\"\"\"\n",
    "        self.raw_data_filename = raw_data_filename\n",
    "        self.num_reviews_filter = num_reviews_filter\n",
    "        self.raw_data = self.read_and_report()\n",
    "        self.grouped_by_userid = self.group_by_userid()\n",
    "        self.filtered = self.filter_()\n",
    "        self.grouped_by_productid = self.group_by_productid()\n",
    "        self.X = self.write_X()\n",
    "    \n",
    "    def read_and_report(self):\n",
    "        \"\"\"Read Amazon csv, report on file structure\"\"\"\n",
    "        data = pd.read_csv(self.raw_data_filename)\n",
    "        print(self.raw_data_filename, \"has\", data.shape[0], \"rows and\", data.shape[1], \"columns. First five observations:\")\n",
    "        print(data.head(5))\n",
    "        print(50 * '-')\n",
    "        return data\n",
    "    \n",
    "    def group_by_userid(self):\n",
    "        \"\"\"Group by UserId and look at the distribution of number of reviews\"\"\"\n",
    "        grouped_by_uid = self.raw_data.groupby('UserId').count()\n",
    "        print('Distribution of number of reviews for each UserId:')\n",
    "        print(grouped_by_uid['ProductId'].value_counts())\n",
    "        print(50 * '-')\n",
    "        return grouped_by_uid\n",
    "    \n",
    "    def filter_(self):\n",
    "        \"\"\"Filter out reviewers with fewer than x reviews\"\"\"\n",
    "        filtered = self.grouped_by_userid[self.grouped_by_userid['Id'] > self.num_reviews_filter]\n",
    "        # remove redundant columns\n",
    "        filtered_final = filtered.drop(filtered.columns[[1, 2, 3, 4, 5, 6, 7, 8, 9, 10, 11]], axis=1)\n",
    "        # recreate UserId from index\n",
    "        filtered_final['UserId'] = filtered_final.index\n",
    "        # rename columns\n",
    "        filtered_final.columns = ['num_reviews', 'UserId']\n",
    "        # left merge filtered list with raw data\n",
    "        filtered = pd.merge(filtered_final, self.raw_data, how='left', on='UserId')\n",
    "        print(\"Filtered data has\", filtered.shape[0], \"rows and\", filtered.shape[1], \"columns. First five observations:\")\n",
    "        print(filtered.head(5))\n",
    "        print(50 * '-')\n",
    "        return filtered\n",
    "    \n",
    "    def group_by_productid(self):\n",
    "        \"\"\"Group by ProductId and create a column that lists each UserId (separated by spaces) who reviewed that product\"\"\"\n",
    "        grouped_by_pid = self.filtered.groupby('ProductId')['UserId'].apply(lambda x: ' '.join(x)).reset_index()\n",
    "        print(\"Data grouped by ProductId has\", grouped_by_pid.shape[0], \"rows and\", grouped_by_pid.shape[1], \"columns. First five observations:\")\n",
    "        print(grouped_by_pid.head(5))\n",
    "        print(50 * '-')\n",
    "        return grouped_by_pid\n",
    "    \n",
    "    def write_X(self):\n",
    "        \"\"\"use bag of words to create boolean X to represent reviews by UserId (one UserId per column)\"\"\"\n",
    "        from sklearn.feature_extraction.text import CountVectorizer\n",
    "        count = CountVectorizer()\n",
    "        uidArray = self.grouped_by_productid.UserId.as_matrix()\n",
    "        userFeatures = count.fit_transform(uidArray)\n",
    "        print(\"Shape of final X matrix:\", userFeatures.shape)\n",
    "        return userFeatures"
   ]
  },
  {
   "cell_type": "code",
   "execution_count": 21,
   "metadata": {
    "collapsed": false
   },
   "outputs": [],
   "source": [
    "import pandas as pd\n",
    "class ViewClusteringResults():\n",
    "    \"\"\"Merge cluster definitions to raw data and view samples of clustering results, showing review summaries and texts.\"\"\"\n",
    "    \n",
    "    def __init__(self, data_instance, model_instance):\n",
    "        \"\"\"Initialize attributes\"\"\"\n",
    "        self.data_instance = data_instance\n",
    "        self.model_instance = model_instance\n",
    "    \n",
    "    def merge_labels(self):\n",
    "        \"\"\"Merge cluster labels to raw data (as structured in Amazon.csv)\"\"\"\n",
    "        labels_tomerge = pd.DataFrame(self.model_instance.labels_)\n",
    "        labelled_products = pd.concat([self.data_instance.grouped_by_productid, labels_tomerge], axis=1, ignore_index=True)\n",
    "        labelled_products.columns = ['ProductId', 'UserIds', 'cluster']\n",
    "        merged = pd.merge(labelled_products, self.data_instance.raw_data, how='left', on='ProductId')\n",
    "        merged_lite = merged[['ProductId', 'cluster', 'Summary', 'Text']]\n",
    "        return merged_lite\n",
    "\n",
    "    def view_cluster_samples(self, n_samples):\n",
    "        \"\"\"Print x samples of cluster results for each cluster, showing details of product reviews.\"\"\"\n",
    "        merged = self.merge_labels()\n",
    "        num_clusters = self.model_instance.cluster_centers_.shape[0]\n",
    "        for i in range(1, num_clusters): \n",
    "            print(50 * '-')\n",
    "            print('cluster: ', i)\n",
    "            cluster = merged.loc[merged['cluster'] == i]\n",
    "            print('cluster size by ProductId: ', cluster.groupby(['ProductId']).size())\n",
    "            print('cluster size: ', cluster.shape)\n",
    "            print(cluster.sample(n_samples))\n",
    "            \n",
    "    # following functions borrowed/modded from Elena (thank you!):\n",
    "            \n",
    "    def print_cluster_samples(self, n_samples, fileName):\n",
    "        merged = self.merge_labels()\n",
    "        num_clusters = self.model_instance.cluster_centers_.shape[0]\n",
    "        target = open(fileName, 'w')\n",
    "        \n",
    "        for i in range(1, num_clusters):\n",
    "            target.write('\\n')\n",
    "            target.write(100 * '-')\n",
    "            target.write('\\n')\n",
    "            target.write('cluster: %d' % i)\n",
    "            target.write('\\n')              \n",
    "            cluster = merged.loc[merged['cluster'] == i]\n",
    "            target.write(100 * '-')\n",
    "            target.write('\\n')            \n",
    "            target.write('\\n')          \n",
    "            target.write('cluster size:')\n",
    "            target.write(np.str(cluster.shape))\n",
    "            target.write('\\n')\n",
    "            target.write('\\n')\n",
    "            target.write('cluster size by ProductId:')\n",
    "            target.write(np.str(cluster.groupby(['ProductId']).size()))\n",
    "            target.write('\\n')\n",
    "            target.write('\\n')  \n",
    "            target.write(np.str(cluster.sample(n_samples)))\n",
    "            target.write('\\n')\n",
    "            target.write('\\n')            \n",
    "        target.close()\n",
    "        \n",
    "    def visualize_bargraph(self):\n",
    "        merged = self.merge_labels()\n",
    "        num_clusters = self.model_instance.cluster_centers_.shape[0]\n",
    "        result = []\n",
    "        \n",
    "        for i in range(1, num_clusters): \n",
    "            cluster = merged.loc[merged['cluster'] == i]            \n",
    "            result.append(cluster.shape[0])\n",
    "        plt.figure(figsize=(35,10))\n",
    "        ind = np.arange(len(result))  # the x locations for the groups\n",
    "        width = 1        \n",
    "        plt.bar(ind + width, result, width, color='red', alpha=0.7)\n",
    "        plt.ylabel('Cluster size')\n",
    "        plt.xlabel('Cluster id')\n",
    "        plt.xticks(ind, ind)\n",
    "        plt.savefig('clusters_size.png')"
   ]
  },
  {
   "cell_type": "code",
   "execution_count": 5,
   "metadata": {
    "collapsed": false
   },
   "outputs": [
    {
     "name": "stdout",
     "output_type": "stream",
     "text": [
      "Amazon.csv has 455000 rows and 13 columns. First five observations:\n",
      "   Unnamed: 0      Id   ProductId          UserId       ProfileName  \\\n",
      "0      138806  138807  B000E63LME  A1CQGW1AOD0LF2  Alena K. \"Alena\"   \n",
      "1      469680  469681  B004ZIH4KM  A37S7U1OX2MCWI        Becky Cole   \n",
      "2      238202  238203  B003ZXE9QA  A2OM6G73E64EQ9              jeff   \n",
      "3      485307  485308  B001RVFERK  A25W349EE97NBK          Tangent4   \n",
      "4      375283  375284  B000OQZNTS  A3CPPW0HUC07YS       Amy Nicolai   \n",
      "\n",
      "   HelpfulnessNumerator  HelpfulnessDenominator  Score        Time  \\\n",
      "0                     1                       2      2  1294185600   \n",
      "1                     0                       0      5  1349740800   \n",
      "2                     0                       0      5  1329264000   \n",
      "3                     1                       1      4  1248307200   \n",
      "4                     0                       0      5  1333238400   \n",
      "\n",
      "                     Summary  \\\n",
      "0           Not as pictured.   \n",
      "1                      seeds   \n",
      "2              I'm addicted!   \n",
      "3  I wanted to love these...   \n",
      "4    Excellent chamomile tea   \n",
      "\n",
      "                                                Text  helpScore helpful  \n",
      "0  I was looking forward to try cranberry apple f...        0.5   False  \n",
      "1  TY for everything.  The seeds arrived quickly,...        NaN   False  \n",
      "2  I've finally found the best cereal in the worl...        NaN   False  \n",
      "3  I originally bought these chips because I'd he...        1.0   False  \n",
      "4  Really excellent tea, flowers are visible in t...        NaN   False  \n",
      "--------------------------------------------------\n",
      "Distribution of number of reviews for each UserId:\n",
      "1      152249\n",
      "2       28392\n",
      "3       12758\n",
      "4        8038\n",
      "5        4586\n",
      "6        3133\n",
      "7        2273\n",
      "8        1623\n",
      "9        1201\n",
      "10        948\n",
      "11        699\n",
      "12        573\n",
      "13        461\n",
      "14        324\n",
      "15        262\n",
      "16        201\n",
      "17        172\n",
      "18        170\n",
      "19        149\n",
      "20        145\n",
      "21        126\n",
      "22        110\n",
      "23         77\n",
      "24         72\n",
      "25         68\n",
      "26         50\n",
      "27         44\n",
      "28         40\n",
      "31         33\n",
      "29         31\n",
      "        ...  \n",
      "107         1\n",
      "138         1\n",
      "105         1\n",
      "126         1\n",
      "101         1\n",
      "124         1\n",
      "356         1\n",
      "109         1\n",
      "171         1\n",
      "95          1\n",
      "157         1\n",
      "66          1\n",
      "71          1\n",
      "72          1\n",
      "293         1\n",
      "204         1\n",
      "80          1\n",
      "81          1\n",
      "158         1\n",
      "85          1\n",
      "145         1\n",
      "65          1\n",
      "342         1\n",
      "87          1\n",
      "320         1\n",
      "89          1\n",
      "90          1\n",
      "68          1\n",
      "93          1\n",
      "127         1\n",
      "Name: ProductId, dtype: int64\n",
      "--------------------------------------------------\n",
      "Filtered data has 133813 rows and 14 columns. First five observations:\n",
      "   num_reviews          UserId  Unnamed: 0      Id   ProductId  \\\n",
      "0            7  A100IC7JRCQDUD      490420  490421  B000CQE3IC   \n",
      "1            7  A100IC7JRCQDUD      163199  163200  B000CQID1A   \n",
      "2            7  A100IC7JRCQDUD      560454  560455  B000CQID1K   \n",
      "3            7  A100IC7JRCQDUD      273658  273659  B00250M2ZY   \n",
      "4            7  A100IC7JRCQDUD       45101   45102  B00016Q6BK   \n",
      "\n",
      "                                        ProfileName  HelpfulnessNumerator  \\\n",
      "0  Joel Elmer Coldwater III \"Research For The Best\"                     0   \n",
      "1  Joel Elmer Coldwater III \"Research For The Best\"                     0   \n",
      "2  Joel Elmer Coldwater III \"Research For The Best\"                     0   \n",
      "3  Joel Elmer Coldwater III \"Research For The Best\"                     1   \n",
      "4  Joel Elmer Coldwater III \"Research For The Best\"                     0   \n",
      "\n",
      "   HelpfulnessDenominator  Score        Time  \\\n",
      "0                       0      5  1307923200   \n",
      "1                       0      5  1307923200   \n",
      "2                       0      5  1307923200   \n",
      "3                       1      3  1307923200   \n",
      "4                       0      5  1301616000   \n",
      "\n",
      "                                    Summary  \\\n",
      "0  Whats not to like? Snap into a slim jim.   \n",
      "1  Whats not to like? Snap into a slim jim.   \n",
      "2  Whats not to like? Snap into a slim jim.   \n",
      "3                   A little stale tasting.   \n",
      "4               This is a 1 lb bag of alum.   \n",
      "\n",
      "                                                Text  helpScore helpful  \n",
      "0  If you like slim Jims, you will like 100 slim ...        NaN   False  \n",
      "1  If you like slim Jims, you will like 100 slim ...        NaN   False  \n",
      "2  If you like slim Jims, you will like 100 slim ...        NaN   False  \n",
      "3  I bought these to replace the typical mint i b...          1   False  \n",
      "4  I use this for hygentic reasons as well as for...        NaN   False  \n",
      "--------------------------------------------------\n",
      "Data grouped by ProductId has 26181 rows and 2 columns. First five observations:\n",
      "    ProductId                                             UserId\n",
      "0  0006641040                                     A367OXCD2R6MC1\n",
      "1  7310172001  A12L1NY994GXSF A12MGOJOF9FY8P A12OC9ZA779927 A...\n",
      "2  7310172101  A11Q5CEJES1CCM A12L1NY994GXSF A12MGOJOF9FY8P A...\n",
      "3  7800648702                                      AR7TAEEUDHMUB\n",
      "4  B00002N8SM                      A29GWIJL72GXXZ A392XPUTJDHSDJ\n",
      "--------------------------------------------------\n",
      "Shape of final X matrix: (26181, 10305)\n"
     ]
    }
   ],
   "source": [
    "# process Amazon.csv, filtering out people who left **6** or fewer reviews\n",
    "amazonData = ProcessAmazon('Amazon.csv', 6)"
   ]
  },
  {
   "cell_type": "code",
   "execution_count": 6,
   "metadata": {
    "collapsed": false
   },
   "outputs": [],
   "source": [
    "# first attempt at fitting K means to view change in Inertia\n",
    "from sklearn.cluster import KMeans\n",
    "\n",
    "# container to store inertia scores over iterations\n",
    "distortions = []\n",
    "\n",
    "# fit KMeans iteratively to begin to assess the appropriate number of clusters\n",
    "for i in range(500, 1500, 200):\n",
    "    km = KMeans(n_clusters=i)\n",
    "    km.fit(amazonData.X)\n",
    "    distortions.append(km.inertia_)"
   ]
  },
  {
   "cell_type": "code",
   "execution_count": 7,
   "metadata": {
    "collapsed": false
   },
   "outputs": [
    {
     "name": "stdout",
     "output_type": "stream",
     "text": [
      "[56166.68517867751, 49528.89003923626, 44611.983137021016, 40896.9061848817, 37844.70665400377]\n"
     ]
    }
   ],
   "source": [
    "print(distortions)"
   ]
  },
  {
   "cell_type": "code",
   "execution_count": 8,
   "metadata": {
    "collapsed": false
   },
   "outputs": [
    {
     "data": {
      "image/png": "[encoded data removed]",
      "text/plain": [
       "<matplotlib.figure.Figure at 0x116b9a320>"
      ]
     },
     "metadata": {},
     "output_type": "display_data"
    }
   ],
   "source": [
    "# vizualize change in inertia\n",
    "plt.plot(range(500, 1500, 200), distortions, marker='o')\n",
    "plt.xlabel('Number of clusters')\n",
    "plt.ylabel('Inertia')\n",
    "plt.show()"
   ]
  },
  {
   "cell_type": "code",
   "execution_count": 9,
   "metadata": {
    "collapsed": false
   },
   "outputs": [
    {
     "data": {
      "text/plain": [
       "KMeans(copy_x=True, init='k-means++', max_iter=300, n_clusters=500, n_init=10,\n",
       "    n_jobs=1, precompute_distances='auto', random_state=None, tol=0.0001,\n",
       "    verbose=0)"
      ]
     },
     "execution_count": 9,
     "metadata": {},
     "output_type": "execute_result"
    }
   ],
   "source": [
    "# fit KMeans with 500 clusters\n",
    "from sklearn.cluster import KMeans\n",
    "km = KMeans(n_clusters=500)\n",
    "km.fit(amazonData.X)"
   ]
  },
  {
   "cell_type": "code",
   "execution_count": 22,
   "metadata": {
    "collapsed": false
   },
   "outputs": [],
   "source": [
    "# create an instance of ViewClusteringResults to view results of final KMeans fit\n",
    "viz = ViewClusteringResults(amazonData, km)"
   ]
  },
  {
   "cell_type": "code",
   "execution_count": 23,
   "metadata": {
    "collapsed": false
   },
   "outputs": [],
   "source": [
    "# view samples of product reviews, organized by KMeans cluster results\n",
    "viz.print_cluster_samples(15,'cluster_samples_500.txt')"
   ]
  },
  {
   "cell_type": "code",
   "execution_count": 24,
   "metadata": {
    "collapsed": false
   },
   "outputs": [
    {
     "data": {
      "image/png": "[encoded data removed]",
      "text/plain": [
       "<matplotlib.figure.Figure at 0x11cbce128>"
      ]
     },
     "metadata": {},
     "output_type": "display_data"
    }
   ],
   "source": [
    "viz.visualize_bargraph()"
   ]
  },
  {
   "cell_type": "code",
   "execution_count": null,
   "metadata": {
    "collapsed": true
   },
   "outputs": [],
   "source": []
  }
 ],
 "metadata": {
  "kernelspec": {
   "display_name": "Python 3",
   "language": "python",
   "name": "python3"
  },
  "language_info": {
   "codemirror_mode": {
    "name": "ipython",
    "version": 3
   },
   "file_extension": ".py",
   "mimetype": "text/x-python",
   "name": "python",
   "nbconvert_exporter": "python",
   "pygments_lexer": "ipython3",
   "version": "3.5.1"
  }
 },
 "nbformat": 4,
 "nbformat_minor": 0
}
