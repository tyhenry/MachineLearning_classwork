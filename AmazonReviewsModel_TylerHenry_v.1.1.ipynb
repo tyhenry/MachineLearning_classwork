{
 "cells": [
  {
   "cell_type": "code",
   "execution_count": 1,
   "metadata": {
    "collapsed": true
   },
   "outputs": [],
   "source": [
    "import pandas as pd\n",
    "import numpy as np\n",
    "import matplotlib.pyplot as plt\n",
    "%matplotlib inline"
   ]
  },
  {
   "cell_type": "code",
   "execution_count": 2,
   "metadata": {
    "collapsed": false
   },
   "outputs": [
    {
     "name": "stdout",
     "output_type": "stream",
     "text": [
      "(455000, 13)\n"
     ]
    },
    {
     "data": {
      "text/html": [
       "<div>\n",
       "<table border=\"1\" class=\"dataframe\">\n",
       "  <thead>\n",
       "    <tr style=\"text-align: right;\">\n",
       "      <th></th>\n",
       "      <th>Unnamed: 0</th>\n",
       "      <th>Id</th>\n",
       "      <th>ProductId</th>\n",
       "      <th>UserId</th>\n",
       "      <th>ProfileName</th>\n",
       "      <th>HelpfulnessNumerator</th>\n",
       "      <th>HelpfulnessDenominator</th>\n",
       "      <th>Score</th>\n",
       "      <th>Time</th>\n",
       "      <th>Summary</th>\n",
       "      <th>Text</th>\n",
       "      <th>helpScore</th>\n",
       "      <th>helpful</th>\n",
       "    </tr>\n",
       "  </thead>\n",
       "  <tbody>\n",
       "    <tr>\n",
       "      <th>0</th>\n",
       "      <td>138806</td>\n",
       "      <td>138807</td>\n",
       "      <td>B000E63LME</td>\n",
       "      <td>A1CQGW1AOD0LF2</td>\n",
       "      <td>Alena K. \"Alena\"</td>\n",
       "      <td>1</td>\n",
       "      <td>2</td>\n",
       "      <td>2</td>\n",
       "      <td>1294185600</td>\n",
       "      <td>Not as pictured.</td>\n",
       "      <td>I was looking forward to try cranberry apple f...</td>\n",
       "      <td>0.5</td>\n",
       "      <td>False</td>\n",
       "    </tr>\n",
       "    <tr>\n",
       "      <th>1</th>\n",
       "      <td>469680</td>\n",
       "      <td>469681</td>\n",
       "      <td>B004ZIH4KM</td>\n",
       "      <td>A37S7U1OX2MCWI</td>\n",
       "      <td>Becky Cole</td>\n",
       "      <td>0</td>\n",
       "      <td>0</td>\n",
       "      <td>5</td>\n",
       "      <td>1349740800</td>\n",
       "      <td>seeds</td>\n",
       "      <td>TY for everything.  The seeds arrived quickly,...</td>\n",
       "      <td>NaN</td>\n",
       "      <td>False</td>\n",
       "    </tr>\n",
       "    <tr>\n",
       "      <th>2</th>\n",
       "      <td>238202</td>\n",
       "      <td>238203</td>\n",
       "      <td>B003ZXE9QA</td>\n",
       "      <td>A2OM6G73E64EQ9</td>\n",
       "      <td>jeff</td>\n",
       "      <td>0</td>\n",
       "      <td>0</td>\n",
       "      <td>5</td>\n",
       "      <td>1329264000</td>\n",
       "      <td>I'm addicted!</td>\n",
       "      <td>I've finally found the best cereal in the worl...</td>\n",
       "      <td>NaN</td>\n",
       "      <td>False</td>\n",
       "    </tr>\n",
       "    <tr>\n",
       "      <th>3</th>\n",
       "      <td>485307</td>\n",
       "      <td>485308</td>\n",
       "      <td>B001RVFERK</td>\n",
       "      <td>A25W349EE97NBK</td>\n",
       "      <td>Tangent4</td>\n",
       "      <td>1</td>\n",
       "      <td>1</td>\n",
       "      <td>4</td>\n",
       "      <td>1248307200</td>\n",
       "      <td>I wanted to love these...</td>\n",
       "      <td>I originally bought these chips because I'd he...</td>\n",
       "      <td>1.0</td>\n",
       "      <td>False</td>\n",
       "    </tr>\n",
       "    <tr>\n",
       "      <th>4</th>\n",
       "      <td>375283</td>\n",
       "      <td>375284</td>\n",
       "      <td>B000OQZNTS</td>\n",
       "      <td>A3CPPW0HUC07YS</td>\n",
       "      <td>Amy Nicolai</td>\n",
       "      <td>0</td>\n",
       "      <td>0</td>\n",
       "      <td>5</td>\n",
       "      <td>1333238400</td>\n",
       "      <td>Excellent chamomile tea</td>\n",
       "      <td>Really excellent tea, flowers are visible in t...</td>\n",
       "      <td>NaN</td>\n",
       "      <td>False</td>\n",
       "    </tr>\n",
       "  </tbody>\n",
       "</table>\n",
       "</div>"
      ],
      "text/plain": [
       "   Unnamed: 0      Id   ProductId          UserId       ProfileName  \\\n",
       "0      138806  138807  B000E63LME  A1CQGW1AOD0LF2  Alena K. \"Alena\"   \n",
       "1      469680  469681  B004ZIH4KM  A37S7U1OX2MCWI        Becky Cole   \n",
       "2      238202  238203  B003ZXE9QA  A2OM6G73E64EQ9              jeff   \n",
       "3      485307  485308  B001RVFERK  A25W349EE97NBK          Tangent4   \n",
       "4      375283  375284  B000OQZNTS  A3CPPW0HUC07YS       Amy Nicolai   \n",
       "\n",
       "   HelpfulnessNumerator  HelpfulnessDenominator  Score        Time  \\\n",
       "0                     1                       2      2  1294185600   \n",
       "1                     0                       0      5  1349740800   \n",
       "2                     0                       0      5  1329264000   \n",
       "3                     1                       1      4  1248307200   \n",
       "4                     0                       0      5  1333238400   \n",
       "\n",
       "                     Summary  \\\n",
       "0           Not as pictured.   \n",
       "1                      seeds   \n",
       "2              I'm addicted!   \n",
       "3  I wanted to love these...   \n",
       "4    Excellent chamomile tea   \n",
       "\n",
       "                                                Text  helpScore helpful  \n",
       "0  I was looking forward to try cranberry apple f...        0.5   False  \n",
       "1  TY for everything.  The seeds arrived quickly,...        NaN   False  \n",
       "2  I've finally found the best cereal in the worl...        NaN   False  \n",
       "3  I originally bought these chips because I'd he...        1.0   False  \n",
       "4  Really excellent tea, flowers are visible in t...        NaN   False  "
      ]
     },
     "execution_count": 2,
     "metadata": {},
     "output_type": "execute_result"
    }
   ],
   "source": [
    "data = pd.read_csv('Amazon.csv')\n",
    "print(data.shape) #print the (rows,cols) of matrix\n",
    "data.head(5) #print 1st 5 rows"
   ]
  },
  {
   "cell_type": "code",
   "execution_count": 3,
   "metadata": {
    "collapsed": true
   },
   "outputs": [],
   "source": [
    "# features from Amazon.csv to add to feature set"
   ]
  },
  {
   "cell_type": "code",
   "execution_count": 4,
   "metadata": {
    "collapsed": false
   },
   "outputs": [],
   "source": [
    "# add review length col to dataset (pandas)\n",
    "data['ReviewLen'] = data['Text'].str.len()\n",
    "\n",
    "# fix summary NaNs\n",
    "data.Summary = data.Summary.fillna(' ') # put a space instead\n",
    "\n",
    "# summary length\n",
    "data['SummaryLen'] = data.Summary.str.len()"
   ]
  },
  {
   "cell_type": "code",
   "execution_count": 5,
   "metadata": {
    "collapsed": false
   },
   "outputs": [],
   "source": [
    "# NOTE: REMOVED THIS STEP\n",
    "# # add cols for one and five star booleans\n",
    "# data['FiveStars'] = 0 # set all rows to 0\n",
    "# data['OneStar'] = 0\n",
    "\n",
    "# # ix == if then\n",
    "# data.ix[data['Score'] == 1, 'OneStar'] = 1 # if score is 1, set to 1\n",
    "# data.ix[data['Score'] == 5, 'FiveStars'] = 1 # if score is 5, set to 1\n",
    "\n",
    "# # maybe plot stars vs helpfulness to see if correlation\n",
    "# use matplotlib?"
   ]
  },
  {
   "cell_type": "code",
   "execution_count": 6,
   "metadata": {
    "collapsed": false
   },
   "outputs": [],
   "source": [
    "# convert unix timestamp to datetime\n",
    "data['DateTime'] = pd.to_datetime(data['Time'], unit='s')\n",
    "# all these Times are midnight of a day\n",
    "\n",
    "# find day of week (0-6, Mon-Sun)\n",
    "data['DayOfWeek'] = data['DateTime'].dt.weekday\n",
    "data['Month'] = data['DateTime'].dt.month\n",
    "data['Year'] = data['DateTime'].dt.year\n",
    "\n",
    "# col for oldest review date"
   ]
  },
  {
   "cell_type": "code",
   "execution_count": 7,
   "metadata": {
    "collapsed": true
   },
   "outputs": [],
   "source": [
    "# n reviews per product ID\n",
    "data['NReviewsProduct'] = data.groupby(['ProductId'])['Id'].transform('count')\n",
    "\n",
    "# n reviews per user ID\n",
    "data['NReviewsUser'] = data.groupby(['UserId'])['UserId'].transform('count')\n",
    "\n",
    "# avg score of product\n",
    "data['AvgScore'] = data.groupby(['ProductId'])['Score'].transform('mean')\n",
    "#'lambda x: x.mean()'\n",
    "\n",
    "# # order of this review on item (first = 0, second = 1, etc.)\n",
    "# data['ReviewOrder'] = 0\n",
    "# # for each row\n",
    "# # group data by ProductId and then order by timestamp\n",
    "\n",
    "# # then save order to 'ReviewOrder'\n",
    "# productId_group = data.groupby('ProductId')"
   ]
  },
  {
   "cell_type": "code",
   "execution_count": 9,
   "metadata": {
    "collapsed": false
   },
   "outputs": [],
   "source": [
    "# count punctuation\n",
    "\n",
    "data['countPeriods'] = data['Text'].str.count('.')\n",
    "data['countBangs'] = data['Text'].str.count('!')\n",
    "data['countQuestions'] = data['Text'].str.count('\\?')\n",
    "data['countCommas'] = data['Text'].str.count(',')\n",
    "data['countSpaces'] = data['Text'].str.count(' ')"
   ]
  },
  {
   "cell_type": "code",
   "execution_count": 11,
   "metadata": {
    "collapsed": false
   },
   "outputs": [
    {
     "data": {
      "text/plain": [
       "(455000, 13)"
      ]
     },
     "execution_count": 11,
     "metadata": {},
     "output_type": "execute_result"
    }
   ],
   "source": [
    "# convert score + reviewLen cols to vectors\n",
    "# [:, 7] denotes all rows in col 7\n",
    "\n",
    "XScore = data.Score.values.reshape(data.shape[0], 1)\n",
    "XTime = data.Time.values.reshape(data.shape[0], 1)\n",
    "XReviewLen = data.ReviewLen.values.reshape(data.shape[0], 1)\n",
    "XSummaryLen = data.SummaryLen.values.reshape(data.shape[0], 1)\n",
    "XDayOfWeek = data.DayOfWeek.values.reshape(data.shape[0], 1)\n",
    "XMonth = data.Month.values.reshape(data.shape[0], 1)\n",
    "XYear = data.Year.values.reshape(data.shape[0], 1)\n",
    "XNReviewsProduct = data.NReviewsProduct.values.reshape(data.shape[0], 1)\n",
    "XNReviewsUser = data.NReviewsUser.values.reshape(data.shape[0], 1)\n",
    "XCountPeriods = data.countPeriods.values.reshape(data.shape[0], 1)\n",
    "XCountBangs = data.countBangs.values.reshape(data.shape[0], 1)\n",
    "XCountQuestions = data.countQuestions.values.reshape(data.shape[0], 1)\n",
    "XCountCommas = data.countCommas.values.reshape(data.shape[0], 1)\n",
    "XCountSpaces = data.countSpaces.values.reshape(data.shape[0], 1)\n",
    "\n",
    "# concatenate to numpy dataset\n",
    "XToAdd = np.concatenate((XScore, XTime, XReviewLen, XDayOfWeek, XMonth, XYear, XNReviewsProduct, XNReviewsUser, XCountPeriods, XCountBangs, XCountQuestions, XCountCommas, XCountSpaces), axis=1)\n",
    "\n",
    "XToAdd.shape"
   ]
  },
  {
   "cell_type": "code",
   "execution_count": 12,
   "metadata": {
    "collapsed": false
   },
   "outputs": [],
   "source": [
    "# vectorize Bag of Words from review text; as sparse matrix\n",
    "from sklearn.feature_extraction.text import HashingVectorizer\n",
    "# Text\n",
    "hvText = HashingVectorizer(stop_words='english', n_features=2 ** 17, non_negative=True)\n",
    "XText = hvText.transform(data.Text)\n",
    "# Summary\n",
    "hvSummary = HashingVectorizer(stop_words='english', n_features=2 ** 17, non_negative=True)\n",
    "XSummary = hvSummary.transform(data.Summary)"
   ]
  },
  {
   "cell_type": "code",
   "execution_count": 13,
   "metadata": {
    "collapsed": true
   },
   "outputs": [],
   "source": [
    "# Tf-idf transformer with pipeline from hash vectorizer?\n",
    "#### example ####\n",
    "# hashing = HashingVectorizer(non_negative=True, norm=None)\n",
    "# tfidf = TfidfTransformer()\n",
    "# hashing_tfidf = Pipeline([(\"hashing\", hashing), (\"tidf\", tfidf)])"
   ]
  },
  {
   "cell_type": "code",
   "execution_count": 14,
   "metadata": {
    "collapsed": false
   },
   "outputs": [],
   "source": [
    "# convert additional features to sparse matrix and concatenate onto the bag of words sparse matrix\n",
    "from scipy.sparse import csr_matrix, hstack\n",
    "XToAddSparse = csr_matrix(XToAdd)\n",
    "XFinal = hstack([XText, XToAddSparse])\n",
    "X = csr_matrix(XFinal)"
   ]
  },
  {
   "cell_type": "code",
   "execution_count": 15,
   "metadata": {
    "collapsed": false
   },
   "outputs": [
    {
     "name": "stdout",
     "output_type": "stream",
     "text": [
      "(455000, 131085)\n"
     ]
    }
   ],
   "source": [
    "# size of feature set\n",
    "print(X.shape)"
   ]
  },
  {
   "cell_type": "code",
   "execution_count": 16,
   "metadata": {
    "collapsed": false
   },
   "outputs": [
    {
     "data": {
      "text/plain": [
       "(455000,)"
      ]
     },
     "execution_count": 16,
     "metadata": {},
     "output_type": "execute_result"
    }
   ],
   "source": [
    "# define y\n",
    "y = data.helpful.values\n",
    "y.shape"
   ]
  },
  {
   "cell_type": "code",
   "execution_count": 17,
   "metadata": {
    "collapsed": false
   },
   "outputs": [],
   "source": [
    "# create training and test sets\n",
    "from sklearn.cross_validation import train_test_split\n",
    "\n",
    "X_train, X_test, y_train, y_test = train_test_split(\n",
    "         X, y, test_size=0.3, random_state=0)"
   ]
  },
  {
   "cell_type": "code",
   "execution_count": 18,
   "metadata": {
    "collapsed": false
   },
   "outputs": [],
   "source": [
    "# feature scaling\n",
    "from sklearn.preprocessing import StandardScaler\n",
    "sc = StandardScaler(with_mean=False)\n",
    "sc.fit(X_train)\n",
    "X_train_std = sc.transform(X_train)\n",
    "X_test_std = sc.transform(X_test)"
   ]
  },
  {
   "cell_type": "code",
   "execution_count": 19,
   "metadata": {
    "collapsed": true
   },
   "outputs": [],
   "source": [
    "# report on training and test sets\n",
    "def print_results():\n",
    "    print('Error rate on training set: ')\n",
    "    print((y_train != y_pred).sum() / X_train.shape[0])\n",
    "    print('Accuracy rate on training set: ')\n",
    "    print(1 - (y_train != y_pred).sum() / X_train.shape[0])\n",
    "    print('True positive rate on training set:')\n",
    "    print(((y_train==True) & (y_pred==True)).sum() / y_train.sum())\n",
    "    print('**************')\n",
    "    print('Error rate on test set: ')\n",
    "    print((y_test != y_pred_test).sum() / X_test.shape[0])\n",
    "    print('Accuracy rate on test set: ')\n",
    "    print(1 - (y_test != y_pred_test).sum() / X_test.shape[0])\n",
    "    print('True positive rate on test set')\n",
    "    print(((y_test==True) & (y_pred_test==True)).sum() / y_test.sum())\n",
    "    print('True negative rate on test set')\n",
    "    print(((y_test==False) & (y_pred_test==False)).sum() / (y_test.shape[0] - y_test.sum()))"
   ]
  },
  {
   "cell_type": "code",
   "execution_count": 20,
   "metadata": {
    "collapsed": false
   },
   "outputs": [
    {
     "name": "stdout",
     "output_type": "stream",
     "text": [
      "Error rate on training set: \n",
      "0.0661569858713\n",
      "Accuracy rate on training set: \n",
      "0.933843014129\n",
      "True positive rate on training set:\n",
      "0.507404856208\n",
      "**************\n",
      "Error rate on test set: \n",
      "0.0957802197802\n",
      "Accuracy rate on test set: \n",
      "0.90421978022\n",
      "True positive rate on test set\n",
      "0.308583991206\n",
      "True negative rate on test set\n",
      "0.951341180935\n"
     ]
    }
   ],
   "source": [
    "# MODEL: SVM, linear\n",
    "from sklearn import linear_model\n",
    "clf = linear_model.SGDClassifier()\n",
    "clf.fit(X_train_std, y_train)\n",
    "y_pred = clf.fit(X_train_std, y_train).predict(X_train_std)\n",
    "y_pred_test = clf.predict(X_test_std)\n",
    "print_results()"
   ]
  },
  {
   "cell_type": "code",
   "execution_count": 21,
   "metadata": {
    "collapsed": false
   },
   "outputs": [
    {
     "name": "stdout",
     "output_type": "stream",
     "text": [
      "Error rate on training set: \n",
      "0.0642480376766\n",
      "Accuracy rate on training set: \n",
      "0.935751962323\n",
      "True positive rate on training set:\n",
      "0.719907008783\n",
      "**************\n",
      "Error rate on test set: \n",
      "0.112161172161\n",
      "Accuracy rate on test set: \n",
      "0.887838827839\n",
      "True positive rate on test set\n",
      "0.438792845008\n",
      "True negative rate on test set\n",
      "0.923363348169\n"
     ]
    }
   ],
   "source": [
    "# MODEL: logistic regression\n",
    "from sklearn import linear_model\n",
    "clf = linear_model.SGDClassifier(loss='log', n_iter=50, alpha=0.00001)\n",
    "clf.fit(X_train_std, y_train)\n",
    "y_pred = clf.fit(X_train_std, y_train).predict(X_train_std)\n",
    "y_pred_test = clf.predict(X_test_std)\n",
    "print_results()"
   ]
  },
  {
   "cell_type": "code",
   "execution_count": 22,
   "metadata": {
    "collapsed": false
   },
   "outputs": [
    {
     "name": "stdout",
     "output_type": "stream",
     "text": [
      "Error rate on training set: \n",
      "0.108185243328\n",
      "Accuracy rate on training set: \n",
      "0.891814756672\n",
      "True positive rate on training set:\n",
      "0.581582572757\n",
      "**************\n",
      "Error rate on test set: \n",
      "0.148622710623\n",
      "Accuracy rate on test set: \n",
      "0.851377289377\n",
      "True positive rate on test set\n",
      "0.324073148796\n",
      "True negative rate on test set\n",
      "0.893092898421\n"
     ]
    }
   ],
   "source": [
    "# MODEL: Naive Bayes\n",
    "from sklearn.naive_bayes import MultinomialNB\n",
    "clf = MultinomialNB()\n",
    "clf.fit(X_train_std, y_train)\n",
    "y_pred = clf.fit(X_train_std, y_train).predict(X_train_std)\n",
    "y_pred_test = clf.predict(X_test_std)\n",
    "print_results()"
   ]
  },
  {
   "cell_type": "code",
   "execution_count": 23,
   "metadata": {
    "collapsed": false
   },
   "outputs": [
    {
     "name": "stdout",
     "output_type": "stream",
     "text": [
      "Error rate on training set: \n",
      "0.0689481946625\n",
      "Accuracy rate on training set: \n",
      "0.931051805338\n",
      "True positive rate on training set:\n",
      "0.0547184432581\n",
      "**************\n",
      "Error rate on test set: \n",
      "0.0734945054945\n",
      "Accuracy rate on test set: \n",
      "0.926505494505\n",
      "True positive rate on test set\n",
      "0.0208853802338\n",
      "True negative rate on test set\n",
      "0.998150095262\n"
     ]
    }
   ],
   "source": [
    "# Perceptron\n",
    "from sklearn import linear_model\n",
    "clf = linear_model.SGDClassifier(loss='perceptron')\n",
    "clf.fit(X_train_std, y_train)\n",
    "y_pred = clf.fit(X_train_std, y_train).predict(X_train_std)\n",
    "y_pred_test = clf.predict(X_test_std)\n",
    "print_results()"
   ]
  },
  {
   "cell_type": "code",
   "execution_count": null,
   "metadata": {
    "collapsed": false
   },
   "outputs": [],
   "source": []
  }
 ],
 "metadata": {
  "kernelspec": {
   "display_name": "Python 3",
   "language": "python",
   "name": "python3"
  },
  "language_info": {
   "codemirror_mode": {
    "name": "ipython",
    "version": 3
   },
   "file_extension": ".py",
   "mimetype": "text/x-python",
   "name": "python",
   "nbconvert_exporter": "python",
   "pygments_lexer": "ipython3",
   "version": "3.5.1"
  }
 },
 "nbformat": 4,
 "nbformat_minor": 0
}
