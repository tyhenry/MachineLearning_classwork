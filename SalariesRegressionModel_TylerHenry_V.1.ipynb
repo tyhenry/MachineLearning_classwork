{
 "cells": [
  {
   "cell_type": "code",
   "execution_count": 1,
   "metadata": {
    "collapsed": false
   },
   "outputs": [],
   "source": [
    "import numpy as np\n",
    "import pandas as pd\n",
    "import matplotlib.pyplot as plt\n",
    "%matplotlib inline"
   ]
  },
  {
   "cell_type": "code",
   "execution_count": 2,
   "metadata": {
    "collapsed": true
   },
   "outputs": [],
   "source": [
    "sal = pd.read_csv('salaries-merged.csv')"
   ]
  },
  {
   "cell_type": "code",
   "execution_count": 3,
   "metadata": {
    "collapsed": false
   },
   "outputs": [
    {
     "data": {
      "text/html": [
       "<div>\n",
       "<table border=\"1\" class=\"dataframe\">\n",
       "  <thead>\n",
       "    <tr style=\"text-align: right;\">\n",
       "      <th></th>\n",
       "      <th>Unnamed: 0</th>\n",
       "      <th>function</th>\n",
       "      <th>sup1</th>\n",
       "      <th>sup2</th>\n",
       "      <th>sup3</th>\n",
       "      <th>sup4</th>\n",
       "      <th>sup5</th>\n",
       "      <th>salary</th>\n",
       "      <th>gender</th>\n",
       "      <th>disabled</th>\n",
       "      <th>...</th>\n",
       "      <th>sex_by_age:__female:_67_to_69_years_</th>\n",
       "      <th>sex_by_age:__female:_70_to_74_years_</th>\n",
       "      <th>sex_by_age:__female:_75_to_79_years_</th>\n",
       "      <th>sex_by_age:__female:_80_to_84_years_</th>\n",
       "      <th>sex_by_age:__female:_85_years_and_over_</th>\n",
       "      <th>commute_over_60</th>\n",
       "      <th>full_time</th>\n",
       "      <th>part_time</th>\n",
       "      <th>high_rent_burden</th>\n",
       "      <th>extreme_rent_burden</th>\n",
       "    </tr>\n",
       "  </thead>\n",
       "  <tbody>\n",
       "    <tr>\n",
       "      <th>0</th>\n",
       "      <td>2211</td>\n",
       "      <td>position22</td>\n",
       "      <td>0</td>\n",
       "      <td>0</td>\n",
       "      <td>0</td>\n",
       "      <td>4</td>\n",
       "      <td>1</td>\n",
       "      <td>49088</td>\n",
       "      <td>Man</td>\n",
       "      <td>False</td>\n",
       "      <td>...</td>\n",
       "      <td>0</td>\n",
       "      <td>0</td>\n",
       "      <td>0</td>\n",
       "      <td>0</td>\n",
       "      <td>0</td>\n",
       "      <td>0</td>\n",
       "      <td>65.276074</td>\n",
       "      <td>34.723926</td>\n",
       "      <td>37.5</td>\n",
       "      <td>37.5</td>\n",
       "    </tr>\n",
       "    <tr>\n",
       "      <th>1</th>\n",
       "      <td>2212</td>\n",
       "      <td>position15</td>\n",
       "      <td>0</td>\n",
       "      <td>0</td>\n",
       "      <td>0</td>\n",
       "      <td>0</td>\n",
       "      <td>0</td>\n",
       "      <td>48131</td>\n",
       "      <td>Man</td>\n",
       "      <td>True</td>\n",
       "      <td>...</td>\n",
       "      <td>0</td>\n",
       "      <td>0</td>\n",
       "      <td>0</td>\n",
       "      <td>0</td>\n",
       "      <td>0</td>\n",
       "      <td>0</td>\n",
       "      <td>65.276074</td>\n",
       "      <td>34.723926</td>\n",
       "      <td>37.5</td>\n",
       "      <td>37.5</td>\n",
       "    </tr>\n",
       "    <tr>\n",
       "      <th>2</th>\n",
       "      <td>2216</td>\n",
       "      <td>position20</td>\n",
       "      <td>1</td>\n",
       "      <td>0</td>\n",
       "      <td>1</td>\n",
       "      <td>6</td>\n",
       "      <td>1</td>\n",
       "      <td>51625</td>\n",
       "      <td>Man</td>\n",
       "      <td>False</td>\n",
       "      <td>...</td>\n",
       "      <td>0</td>\n",
       "      <td>0</td>\n",
       "      <td>0</td>\n",
       "      <td>0</td>\n",
       "      <td>0</td>\n",
       "      <td>0</td>\n",
       "      <td>65.276074</td>\n",
       "      <td>34.723926</td>\n",
       "      <td>37.5</td>\n",
       "      <td>37.5</td>\n",
       "    </tr>\n",
       "    <tr>\n",
       "      <th>3</th>\n",
       "      <td>2217</td>\n",
       "      <td>position6</td>\n",
       "      <td>0</td>\n",
       "      <td>0</td>\n",
       "      <td>1</td>\n",
       "      <td>30</td>\n",
       "      <td>5</td>\n",
       "      <td>54225</td>\n",
       "      <td>Woman</td>\n",
       "      <td>False</td>\n",
       "      <td>...</td>\n",
       "      <td>0</td>\n",
       "      <td>0</td>\n",
       "      <td>0</td>\n",
       "      <td>0</td>\n",
       "      <td>0</td>\n",
       "      <td>0</td>\n",
       "      <td>65.276074</td>\n",
       "      <td>34.723926</td>\n",
       "      <td>37.5</td>\n",
       "      <td>37.5</td>\n",
       "    </tr>\n",
       "    <tr>\n",
       "      <th>4</th>\n",
       "      <td>2218</td>\n",
       "      <td>position10</td>\n",
       "      <td>0</td>\n",
       "      <td>0</td>\n",
       "      <td>0</td>\n",
       "      <td>7</td>\n",
       "      <td>0</td>\n",
       "      <td>67495</td>\n",
       "      <td>Woman</td>\n",
       "      <td>False</td>\n",
       "      <td>...</td>\n",
       "      <td>0</td>\n",
       "      <td>0</td>\n",
       "      <td>0</td>\n",
       "      <td>0</td>\n",
       "      <td>0</td>\n",
       "      <td>0</td>\n",
       "      <td>65.276074</td>\n",
       "      <td>34.723926</td>\n",
       "      <td>37.5</td>\n",
       "      <td>37.5</td>\n",
       "    </tr>\n",
       "  </tbody>\n",
       "</table>\n",
       "<p>5 rows × 124 columns</p>\n",
       "</div>"
      ],
      "text/plain": [
       "   Unnamed: 0    function  sup1  sup2  sup3  sup4  sup5  salary gender  \\\n",
       "0        2211  position22     0     0     0     4     1   49088    Man   \n",
       "1        2212  position15     0     0     0     0     0   48131    Man   \n",
       "2        2216  position20     1     0     1     6     1   51625    Man   \n",
       "3        2217   position6     0     0     1    30     5   54225  Woman   \n",
       "4        2218  position10     0     0     0     7     0   67495  Woman   \n",
       "\n",
       "  disabled         ...          sex_by_age:__female:_67_to_69_years_  \\\n",
       "0    False         ...                                             0   \n",
       "1     True         ...                                             0   \n",
       "2    False         ...                                             0   \n",
       "3    False         ...                                             0   \n",
       "4    False         ...                                             0   \n",
       "\n",
       "   sex_by_age:__female:_70_to_74_years_  sex_by_age:__female:_75_to_79_years_  \\\n",
       "0                                     0                                     0   \n",
       "1                                     0                                     0   \n",
       "2                                     0                                     0   \n",
       "3                                     0                                     0   \n",
       "4                                     0                                     0   \n",
       "\n",
       "   sex_by_age:__female:_80_to_84_years_  \\\n",
       "0                                     0   \n",
       "1                                     0   \n",
       "2                                     0   \n",
       "3                                     0   \n",
       "4                                     0   \n",
       "\n",
       "  sex_by_age:__female:_85_years_and_over_ commute_over_60  full_time  \\\n",
       "0                                       0               0  65.276074   \n",
       "1                                       0               0  65.276074   \n",
       "2                                       0               0  65.276074   \n",
       "3                                       0               0  65.276074   \n",
       "4                                       0               0  65.276074   \n",
       "\n",
       "   part_time  high_rent_burden  extreme_rent_burden  \n",
       "0  34.723926              37.5                 37.5  \n",
       "1  34.723926              37.5                 37.5  \n",
       "2  34.723926              37.5                 37.5  \n",
       "3  34.723926              37.5                 37.5  \n",
       "4  34.723926              37.5                 37.5  \n",
       "\n",
       "[5 rows x 124 columns]"
      ]
     },
     "execution_count": 3,
     "metadata": {},
     "output_type": "execute_result"
    }
   ],
   "source": [
    "sal.head(5)"
   ]
  },
  {
   "cell_type": "code",
   "execution_count": 4,
   "metadata": {
    "collapsed": false
   },
   "outputs": [
    {
     "data": {
      "text/plain": [
       "Unnamed: 0                                    1110.500000\n",
       "sup1                                             1.431593\n",
       "sup2                                             0.763726\n",
       "sup3                                             0.624212\n",
       "sup4                                            49.639514\n",
       "sup5                                             3.945995\n",
       "salary                                       48756.163901\n",
       "disabled                                         0.013051\n",
       "yearsinposition                                  5.689307\n",
       "yearsinprofession                                9.327103\n",
       "age                                             38.260094\n",
       "cred1                                            0.069307\n",
       "cred2                                            0.031503\n",
       "inst1                                           16.674617\n",
       "inst2                                            6.648965\n",
       "inst3                                            3.680468\n",
       "inst4                                          336.729523\n",
       "inst5                                           40.371737\n",
       "instbudget                                 4826742.328460\n",
       "zip                                          56712.063006\n",
       "instsize                                     25194.286552\n",
       "b19013_001                                   48670.322905\n",
       "median                                       41996.324201\n",
       "mean                                         60528.307396\n",
       "pop                                          19183.624810\n",
       "no_male_hs_p                                     7.880182\n",
       "no_female_hs_p                                   8.354468\n",
       "at_least_hs_male_p                              92.119818\n",
       "at_least_hs_female_p                            91.645532\n",
       "at_least_bach_male_p                            47.259724\n",
       "                                                ...      \n",
       "sex_by_age:__male:_85_years_and_over_           92.784627\n",
       "sex_by_age:__female:_                        10111.229833\n",
       "sex_by_age:__female:_under_5_years_            477.404871\n",
       "sex_by_age:__female:_5_to_9_years_             428.936834\n",
       "sex_by_age:__female:_10_to_14_years_           411.923896\n",
       "sex_by_age:__female:_15_to_17_years_           294.162861\n",
       "sex_by_age:__female:_18_and_19_years_         1437.153729\n",
       "sex_by_age:__female:_20_years_                 549.543379\n",
       "sex_by_age:__female:_21_years_                 476.490107\n",
       "sex_by_age:__female:_22_to_24_years_           718.789954\n",
       "sex_by_age:__female:_25_to_29_years_           743.124810\n",
       "sex_by_age:__female:_30_to_34_years_           541.089802\n",
       "sex_by_age:__female:_35_to_39_years_           505.652207\n",
       "sex_by_age:__female:_40_to_44_years_           501.490107\n",
       "sex_by_age:__female:_45_to_49_years_           510.817352\n",
       "sex_by_age:__female:_50_to_54_years_           536.961187\n",
       "sex_by_age:__female:_55_to_59_years_           491.843988\n",
       "sex_by_age:__female:_60_and_61_years_          188.231355\n",
       "sex_by_age:__female:_62_to_64_years_           224.789193\n",
       "sex_by_age:__female:_65_and_66_years_          125.289954\n",
       "sex_by_age:__female:_67_to_69_years_           154.544901\n",
       "sex_by_age:__female:_70_to_74_years_           228.536530\n",
       "sex_by_age:__female:_75_to_79_years_           189.363014\n",
       "sex_by_age:__female:_80_to_84_years_           171.121766\n",
       "sex_by_age:__female:_85_years_and_over_        203.968037\n",
       "commute_over_60                                  4.083454\n",
       "full_time                                       46.706917\n",
       "part_time                                       53.293083\n",
       "high_rent_burden                                56.853816\n",
       "extreme_rent_burden                             37.304541\n",
       "dtype: float64"
      ]
     },
     "execution_count": 4,
     "metadata": {},
     "output_type": "execute_result"
    }
   ],
   "source": [
    "sal.mean()"
   ]
  },
  {
   "cell_type": "code",
   "execution_count": 5,
   "metadata": {
    "collapsed": true
   },
   "outputs": [],
   "source": [
    "sal['missingSalary'] = pd.isnull(sal['salary'])\n",
    "sal2 = sal[(sal.missingSalary == False)]\n",
    "# elminates missing Y values"
   ]
  },
  {
   "cell_type": "code",
   "execution_count": 6,
   "metadata": {
    "collapsed": false
   },
   "outputs": [],
   "source": [
    "# list of X vars to include\n",
    "X_numeric_features = ['sup1', 'sup2', 'sup3', 'sup4', 'sup5', 'disabled', 'yearsinposition', \n",
    "         'yearsinprofession', 'age', 'cred1', 'cred2', 'inst1', 'inst2', 'inst3', 'inst4', 'inst5', 'instbudget', 'instsize']\n",
    "X_numeric = sal2[X_numeric_features]\n",
    "X_categorical_features = ['function', 'gender', 'race', 'highestdegree', 'category', 'insttype']\n",
    "X_categorical = sal2[X_categorical_features]"
   ]
  },
  {
   "cell_type": "code",
   "execution_count": 7,
   "metadata": {
    "collapsed": false
   },
   "outputs": [],
   "source": [
    "# extra data\n",
    "# X_extra_features = ['median', 'mean', 'pop', 'snap', 'renter', 'median_rent', 'full_time', 'high_rent_burden']\n",
    "# X_extra = sal2[X_extra_features]\n",
    "\n",
    "X_extra = sal2.iloc[:,30:124].values"
   ]
  },
  {
   "cell_type": "code",
   "execution_count": 8,
   "metadata": {
    "collapsed": true
   },
   "outputs": [],
   "source": [
    "# create dummy variables for each of the categorical features\n",
    "# DOC: http://pandas.pydata.org/pandas-docs/stable/generated/pandas.get_dummies.html\n",
    "\n",
    "function_dummies = pd.get_dummies(X_categorical['function'])\n",
    "gender_dummies = pd.get_dummies(X_categorical['gender'])\n",
    "race_dummies = pd.get_dummies(X_categorical['race'])\n",
    "highestdegree_dummies = pd.get_dummies(X_categorical['highestdegree'])\n",
    "category_dummies = pd.get_dummies(X_categorical['category'])\n",
    "insttype_dummies = pd.get_dummies(X_categorical['insttype'])\n",
    "\n",
    "X_dummy_features = pd.concat([function_dummies, gender_dummies, race_dummies, highestdegree_dummies, category_dummies, insttype_dummies], axis=1)\n",
    "\n",
    "# convert to ndarray\n",
    "X_dummy_features = X_dummy_features.as_matrix()"
   ]
  },
  {
   "cell_type": "code",
   "execution_count": 9,
   "metadata": {
    "collapsed": true
   },
   "outputs": [],
   "source": [
    "# impute missing values in numerical features\n",
    "# DOC: http://scikit-learn.org/stable/modules/preprocessing.html\n",
    "\n",
    "from sklearn.preprocessing import Imputer\n",
    "imp = Imputer()\n",
    "imp.fit(X_numeric)\n",
    "X_numeric_imputed = imp.transform(X_numeric)"
   ]
  },
  {
   "cell_type": "code",
   "execution_count": 10,
   "metadata": {
    "collapsed": false
   },
   "outputs": [],
   "source": [
    "imp.fit(X_extra)\n",
    "X_extra_imputed = imp.transform(X_extra)"
   ]
  },
  {
   "cell_type": "code",
   "execution_count": 11,
   "metadata": {
    "collapsed": true
   },
   "outputs": [],
   "source": [
    "X = np.concatenate((X_dummy_features, X_numeric_imputed, X_extra_imputed), axis=1)"
   ]
  },
  {
   "cell_type": "code",
   "execution_count": 12,
   "metadata": {
    "collapsed": false
   },
   "outputs": [],
   "source": [
    "# y is salary\n",
    "y = sal2.iloc[:, 7].values"
   ]
  },
  {
   "cell_type": "code",
   "execution_count": 13,
   "metadata": {
    "collapsed": true
   },
   "outputs": [],
   "source": [
    "# create training and test sets\n",
    "from sklearn.cross_validation import train_test_split\n",
    "\n",
    "X_train, X_test, y_train, y_test = train_test_split(\n",
    "         X, y, test_size=0.3, random_state=0)"
   ]
  },
  {
   "cell_type": "code",
   "execution_count": 14,
   "metadata": {
    "collapsed": true
   },
   "outputs": [],
   "source": [
    "# keep track of variance on test data, to graph\n",
    "var_to_graph = {}\n",
    "# bring residual sum of squares from regression1.ipynb\n",
    "var_to_graph['simpReg'] = 265376883.08"
   ]
  },
  {
   "cell_type": "code",
   "execution_count": 15,
   "metadata": {
    "collapsed": true
   },
   "outputs": [],
   "source": [
    "from sklearn import datasets, linear_model\n",
    "# DOC: http://scikit-learn.org/stable/modules/generated/sklearn.linear_model.LinearRegression.html"
   ]
  },
  {
   "cell_type": "code",
   "execution_count": 16,
   "metadata": {
    "collapsed": false
   },
   "outputs": [
    {
     "name": "stdout",
     "output_type": "stream",
     "text": [
      "Intercept: \n",
      " 28248.0356464\n",
      "Coefficients: \n",
      " [ -7.35946450e+03  -2.00257325e+04  -2.31755827e+04  -2.41310028e+04\n",
      "  -1.81233763e+04  -1.24138167e+04  -2.35329824e+04  -2.51442971e+04\n",
      "  -2.28206431e+04  -2.52211838e+04  -1.84598098e+04  -1.56031848e+04\n",
      "  -2.55625859e+04  -2.79707899e+04  -2.12336769e+04  -2.59084211e+04\n",
      "  -2.27557812e+04  -2.67280292e+04  -1.88797157e+04  -2.14092798e+04\n",
      "  -1.68393593e+04  -1.59342539e+04  -2.25037476e+04  -2.11271744e+04\n",
      "  -2.37600530e+04  -2.40041780e+04  -2.41613962e+04  -2.49893827e+04\n",
      "  -2.24765467e+03  -3.68209727e+03  -4.24581929e+03  -3.97624752e+02\n",
      "  -5.63246154e+03  -1.25083294e+03  -5.61532577e+03   3.37078765e+03\n",
      "  -2.24283674e+03   4.71967140e+03   8.40343580e+03   1.96735069e+04\n",
      "   1.24026067e+04   1.10561361e+03   1.79044623e+03  -1.79044623e+03\n",
      "   1.31656366e+04   1.39615649e+04   1.38587122e+03   6.51539791e+02\n",
      "  -1.04534720e+02   7.36015686e+00   2.30313357e+01   7.76247451e+02\n",
      "   2.92823249e+01   4.78150236e+02   1.78812876e+02   1.44987718e+03\n",
      "  -1.93485047e+03   1.04034814e+02  -6.13309833e+01  -8.17207919e+01\n",
      "   3.24251653e+00  -2.10290845e+00   2.41946392e-04   1.04722319e-01\n",
      "   1.29080566e-01   2.63290706e-01  -1.13484166e-01  -8.17880126e-02\n",
      "   1.86583316e+01   9.40235255e+01  -1.86582010e+01  -9.40234300e+01\n",
      "   4.40295776e+01   2.97649124e+01   2.34495846e+02  -6.32380351e+02\n",
      "   2.46056108e+02   1.12462474e+01   6.59260735e+00  -2.42792736e+02\n",
      "  -2.46033099e+00   9.72090662e+00  -4.64989767e+01   2.92175588e+01\n",
      "  -3.24192695e+01   3.04347585e+01   4.74769664e+01  -7.03604547e+01\n",
      "   1.95504956e+00  -1.21009432e+01   1.95989058e+01  -2.19354815e+01\n",
      "  -7.96589671e+00   4.49219687e+01  -7.68918624e+00   1.38276919e+01\n",
      "  -1.31559631e+00  -1.43856434e+01   4.16439642e-03   1.79877997e+01\n",
      "   5.94339941e-01  -1.70873338e+00   5.75281383e+00   1.28733637e+01\n",
      "  -2.04464373e+01   1.94530609e+00   5.84891989e+00   1.20055937e+01\n",
      "   1.34775114e+00  -8.51967613e+00  -2.99039217e+00   3.50632670e+00\n",
      "  -1.64784890e+00  -9.64761011e-01  -1.93306877e+00  -8.54047474e+00\n",
      "   7.73748756e+00   5.46755031e+00  -7.47629156e+00  -1.76610605e+01\n",
      "  -7.71625533e+00   4.83534972e+00  -9.09651849e+00   1.95075174e+01\n",
      "  -5.80816312e+00  -4.30498975e+00  -3.04457034e+01   2.97385798e+01\n",
      "   1.90554370e+01   5.25613659e-02  -1.86300825e+01   4.12286518e-01\n",
      "   3.74287115e-01   1.40355481e+01   8.43274063e-01  -3.25374893e+00\n",
      "  -8.10281167e+00   5.80550010e+00   7.56940732e+00  -1.01537538e+01\n",
      "   3.15664972e-02  -1.76409130e+01   2.40110835e+01  -1.27926516e+01\n",
      "  -1.42783726e+01   3.20221973e+01   2.26945809e+01   1.05302391e+01\n",
      "  -4.61286409e+01   1.43247208e+01   1.62990348e+00  -2.05778898e+01\n",
      "   1.73268324e+01   1.53489274e+02   1.76033456e+01  -1.76033368e+01\n",
      "  -1.98322103e+02   1.23812113e+02]\n",
      "Residual sum of squares, training data: 74138985.84\n",
      "Residual sum of squares, test data: 107871030.66\n",
      "Variance score, training data: 0.79\n",
      "Distribution of prediction error on training data:\n"
     ]
    },
    {
     "data": {
      "image/png": "[encoded data removed]",
      "text/plain": [
       "<matplotlib.figure.Figure at 0x10c107e10>"
      ]
     },
     "metadata": {},
     "output_type": "display_data"
    },
    {
     "name": "stdout",
     "output_type": "stream",
     "text": [
      "Distribution of prediction error on test data:\n"
     ]
    },
    {
     "data": {
      "image/png": "[encoded data removed]",
      "text/plain": [
       "<matplotlib.figure.Figure at 0x116589400>"
      ]
     },
     "metadata": {},
     "output_type": "display_data"
    }
   ],
   "source": [
    "# Create linear regression object\n",
    "regr = linear_model.LinearRegression()\n",
    "\n",
    "# Train the model using the training sets\n",
    "X_train_no_intercept = X_train\n",
    "X_train = X_train.reshape(-1, X_train.shape[1])\n",
    "regr.fit(X_train, y_train)\n",
    "\n",
    "# The intercept\n",
    "print('Intercept: \\n', regr.intercept_)\n",
    "# The coefficients\n",
    "print('Coefficients: \\n', regr.coef_)\n",
    "# The mean square error\n",
    "print(\"Residual sum of squares, training data: %.2f\"\n",
    "      % np.mean((regr.predict(X_train) - y_train) ** 2))\n",
    "print(\"Residual sum of squares, test data: %.2f\"\n",
    "      % np.mean((regr.predict(X_test) - y_test) ** 2))\n",
    "var_to_graph['multReg_linear'] = np.mean((regr.predict(X_test) - y_test) ** 2)\n",
    "# Explained variance score: 1 is perfect prediction\n",
    "print('Variance score, training data: %.2f' % regr.score(X_train, y_train))\n",
    "#vector of prediction error\n",
    "print('Distribution of prediction error on training data:')\n",
    "predError = regr.predict(X_train) - y_train\n",
    "plt.hist(predError)\n",
    "plt.show()\n",
    "\n",
    "print('Distribution of prediction error on test data:')\n",
    "predError = regr.predict(X_test) - y_test\n",
    "plt.hist(predError)\n",
    "plt.show()"
   ]
  },
  {
   "cell_type": "code",
   "execution_count": 17,
   "metadata": {
    "collapsed": true
   },
   "outputs": [],
   "source": [
    "from sklearn.preprocessing import PolynomialFeatures\n",
    "# DOC: http://scikit-learn.org/stable/modules/preprocessing.html\n",
    "\n",
    "poly = PolynomialFeatures(2)\n",
    "X_poly = poly.fit_transform(X)"
   ]
  },
  {
   "cell_type": "code",
   "execution_count": 18,
   "metadata": {
    "collapsed": true
   },
   "outputs": [],
   "source": [
    "# create training and test sets\n",
    "from sklearn.cross_validation import train_test_split\n",
    "\n",
    "X_train, X_test, y_train, y_test = train_test_split(\n",
    "         X_poly, y, test_size=0.3, random_state=0)"
   ]
  },
  {
   "cell_type": "code",
   "execution_count": 19,
   "metadata": {
    "collapsed": false
   },
   "outputs": [
    {
     "name": "stdout",
     "output_type": "stream",
     "text": [
      "Intercept: \n",
      " 40744733561.0\n",
      "Coefficients: \n",
      " [  2.07537409e+08   2.45534106e+07   4.22621186e+07 ...,  -6.21331707e+04\n",
      "   1.35036363e+05   2.34677005e+05]\n",
      "Residual sum of squares, training data: 58162.61\n",
      "Residual sum of squares, test data: 1123478604091223424.00\n",
      "Variance score, training data: 1.00\n",
      "Distribution of prediction error on training data:\n"
     ]
    },
    {
     "data": {
      "image/png": "[encoded data removed]",
      "text/plain": [
       "<matplotlib.figure.Figure at 0x10c107da0>"
      ]
     },
     "metadata": {},
     "output_type": "display_data"
    },
    {
     "name": "stdout",
     "output_type": "stream",
     "text": [
      "Distribution of prediction error on test data:\n"
     ]
    },
    {
     "data": {
      "image/png": "[encoded data removed]",
      "text/plain": [
       "<matplotlib.figure.Figure at 0x116b57400>"
      ]
     },
     "metadata": {},
     "output_type": "display_data"
    }
   ],
   "source": [
    "## POLYNOMINAL \n",
    "# Create linear regression object\n",
    "poly = linear_model.LinearRegression(normalize=True)\n",
    "\n",
    "# Train the model using the training sets\n",
    "X_train_no_intercept = X_train\n",
    "X_train = X_train.reshape(-1, X_train.shape[1])\n",
    "poly.fit(X_train, y_train)\n",
    "\n",
    "# The intercept\n",
    "print('Intercept: \\n', poly.intercept_)\n",
    "# The coefficients\n",
    "print('Coefficients: \\n', poly.coef_)\n",
    "# The mean square error\n",
    "print(\"Residual sum of squares, training data: %.2f\"\n",
    "      % np.mean((poly.predict(X_train) - y_train) ** 2))\n",
    "print(\"Residual sum of squares, test data: %.2f\"\n",
    "      % np.mean((poly.predict(X_test) - y_test) ** 2))\n",
    "var_to_graph['multReg_poly'] = np.mean((poly.predict(X_test) - y_test) ** 2)\n",
    "# Explained variance score: 1 is perfect prediction\n",
    "print('Variance score, training data: %.2f' % poly.score(X_train, y_train))\n",
    "#vector of prediction error\n",
    "print('Distribution of prediction error on training data:')\n",
    "predError = poly.predict(X_train) - y_train\n",
    "plt.hist(predError)\n",
    "plt.show()\n",
    "\n",
    "print('Distribution of prediction error on test data:')\n",
    "predError = poly.predict(X_test) - y_test\n",
    "plt.hist(predError)\n",
    "plt.show()"
   ]
  },
  {
   "cell_type": "code",
   "execution_count": 20,
   "metadata": {
    "collapsed": false
   },
   "outputs": [
    {
     "name": "stdout",
     "output_type": "stream",
     "text": [
      "Intercept: \n",
      " 16277.4104161\n",
      "Coefficients: \n",
      " [  1.06231585e+04  -1.26751996e+03  -4.49830545e+03  -5.19001860e+03\n",
      "   2.74163711e+02   6.15611219e+03  -5.03556844e+03  -5.87313906e+03\n",
      "  -4.01951655e+03  -3.89859725e+03   1.16034577e+02   2.59228869e+03\n",
      "  -6.68717448e+03  -8.58200438e+03  -2.55325310e+03  -4.73567384e+03\n",
      "  -3.48532319e+03  -8.01737198e+03  -3.07426477e+02  -2.84192068e+03\n",
      "   8.84490033e+02   2.37109094e+03  -3.81506727e+03  -2.31747233e+03\n",
      "  -4.98701598e+03  -5.29089009e+03  -4.71001546e+03  -6.32337389e+03\n",
      "  -8.22780525e+02  -2.24483229e+03  -3.40296052e+03   4.81638362e+02\n",
      "  -4.10560523e+03  -4.50889355e+02  -4.52179257e+03   3.38991720e+03\n",
      "  -1.21387614e+03   1.51719322e+03   4.98400852e+03   1.54331919e+04\n",
      "   9.11036657e+03  -2.09061910e+03   2.59697221e+03  -2.59697221e+03\n",
      "   5.87624269e+03   6.57111959e+03   1.43814956e+03   6.55119837e+02\n",
      "  -1.19324378e+02   6.30133395e+00   2.21891656e+01   6.39083833e+02\n",
      "  -5.98316574e+00   5.12634453e+02   1.78681953e+02   1.87919587e+03\n",
      "  -2.16363221e+03   9.44906641e+01  -5.74942007e+01  -9.90115499e+01\n",
      "   3.07507902e+00  -2.09315724e+00   2.46909074e-04   1.00808889e-01\n",
      "   9.72791316e-02   2.76553349e-01  -1.23482976e-01  -1.33194227e-01\n",
      "   1.07858432e+01   8.50953038e+01  -1.07855048e+01  -8.50949836e+01\n",
      "   3.69035082e+01   2.88444268e+01   2.23889780e+02  -6.11350541e+02\n",
      "   1.86759409e+02   1.52304062e+01   7.11752673e+00  -2.30561375e+02\n",
      "  -3.41211447e+00   1.24939194e+01  -4.24083231e+01   2.79603900e+01\n",
      "  -4.19439552e+01   2.55743187e+01   5.39959553e+01  -7.17614325e+01\n",
      "  -2.73247174e+00  -5.49130013e+00   2.44331204e+01  -2.86698929e+01\n",
      "  -9.35157029e+00   4.51456891e+01  -7.12145199e+00   1.27611437e+01\n",
      "  -1.25284976e+00  -1.10174079e+01  -2.13781467e+00   1.93837268e+01\n",
      "  -1.43079748e+00   2.95129220e+00   2.82034782e+00   1.40788208e+01\n",
      "  -1.96913141e+01   2.28058014e+00   9.93281959e+00   1.23231064e+01\n",
      "  -2.83874880e+00  -1.00815255e+01  -3.53516310e+00   2.38592280e+00\n",
      "  -3.02012168e+00   7.95816339e-01  -2.65600521e+00  -8.74123244e+00\n",
      "   8.35108668e-01   4.00433268e+00  -7.54468170e+00  -1.74227346e+01\n",
      "  -6.53509333e+00  -2.02494842e+00  -3.15903291e+00   2.96235671e+01\n",
      "  -2.25713453e+00  -4.16602799e+00  -3.22084454e+01   3.19403487e+01\n",
      "   1.66302798e+01  -3.90850965e-02  -1.66654535e+01  -2.04662311e+00\n",
      "  -1.14985698e+00   1.18411376e+01   1.33725261e+00  -1.85176377e+00\n",
      "  -8.34853562e+00   4.09889442e+00   7.05853770e+00  -1.00995819e+01\n",
      "   6.23274258e+00  -1.48972578e+01   3.12165448e+01  -1.16381913e+01\n",
      "  -1.20147002e+01   2.60043765e+01   1.89725785e+01  -8.96789323e-01\n",
      "  -5.05698789e+01   1.21322199e+01   6.61957104e+00  -1.73016618e+01\n",
      "   2.19275659e+01   1.45713379e+02   1.01858684e+01  -1.01858930e+01\n",
      "  -1.65682570e+02   9.91320340e+01]\n",
      "Residual sum of squares, training data: 75186675.53\n",
      "Residual sum of squares, test data: 106240083.59\n",
      "Variance score, training data: 0.79\n",
      "Distribution of prediction error on training data:\n"
     ]
    },
    {
     "data": {
      "image/png": "[encoded data removed]",
      "text/plain": [
       "<matplotlib.figure.Figure at 0x113eb1160>"
      ]
     },
     "metadata": {},
     "output_type": "display_data"
    },
    {
     "name": "stdout",
     "output_type": "stream",
     "text": [
      "Distribution of prediction error on test data:\n"
     ]
    },
    {
     "data": {
      "image/png": "[encoded data removed]",
      "text/plain": [
       "<matplotlib.figure.Figure at 0x11376bd30>"
      ]
     },
     "metadata": {},
     "output_type": "display_data"
    }
   ],
   "source": [
    "## RIDGE REGRESSION\n",
    "# DOC: http://scikit-learn.org/stable/modules/generated/sklearn.linear_model.Ridge.html\n",
    "\n",
    "# create training and test sets\n",
    "from sklearn.cross_validation import train_test_split\n",
    "\n",
    "X_train, X_test, y_train, y_test = train_test_split(\n",
    "         X, y, test_size=0.3, random_state=0)\n",
    "\n",
    "# Create linear regression object\n",
    "regr = linear_model.Ridge()\n",
    "\n",
    "# Train the model using the training sets\n",
    "X_train_no_intercept = X_train\n",
    "X_train = X_train.reshape(-1, X_train.shape[1])\n",
    "regr.fit(X_train, y_train)\n",
    "\n",
    "# The intercept\n",
    "print('Intercept: \\n', regr.intercept_)\n",
    "# The coefficients\n",
    "print('Coefficients: \\n', regr.coef_)\n",
    "# The mean square error\n",
    "print(\"Residual sum of squares, training data: %.2f\"\n",
    "      % np.mean((regr.predict(X_train) - y_train) ** 2))\n",
    "print(\"Residual sum of squares, test data: %.2f\"\n",
    "      % np.mean((regr.predict(X_test) - y_test) ** 2))\n",
    "var_to_graph['multReg_ridge'] = np.mean((regr.predict(X_test) - y_test) ** 2)\n",
    "# Explained variance score: 1 is perfect prediction\n",
    "print('Variance score, training data: %.2f' % regr.score(X_train, y_train))\n",
    "#vector of prediction error\n",
    "print('Distribution of prediction error on training data:')\n",
    "predError = regr.predict(X_train) - y_train\n",
    "plt.hist(predError)\n",
    "plt.show()\n",
    "\n",
    "print('Distribution of prediction error on test data:')\n",
    "predError = regr.predict(X_test) - y_test\n",
    "plt.hist(predError)\n",
    "plt.show()"
   ]
  },
  {
   "cell_type": "code",
   "execution_count": 21,
   "metadata": {
    "collapsed": false
   },
   "outputs": [
    {
     "data": {
      "image/png": "[encoded data removed]",
      "text/plain": [
       "<matplotlib.figure.Figure at 0x113ea1b38>"
      ]
     },
     "metadata": {},
     "output_type": "display_data"
    }
   ],
   "source": [
    "# bar graph of dict with Residual Sum of Squares on test datasets\n",
    "\n",
    "#var_to_graph['multReg_poly'] = 0\n",
    "plt.bar(range(len(var_to_graph)), var_to_graph.values(), align='center')\n",
    "plt.xticks(range(len(var_to_graph)), var_to_graph.keys())\n",
    "\n",
    "plt.show()"
   ]
  },
  {
   "cell_type": "code",
   "execution_count": null,
   "metadata": {
    "collapsed": true
   },
   "outputs": [],
   "source": []
  }
 ],
 "metadata": {
  "kernelspec": {
   "display_name": "Python 3",
   "language": "python",
   "name": "python3"
  },
  "language_info": {
   "codemirror_mode": {
    "name": "ipython",
    "version": 3
   },
   "file_extension": ".py",
   "mimetype": "text/x-python",
   "name": "python",
   "nbconvert_exporter": "python",
   "pygments_lexer": "ipython3",
   "version": "3.5.1"
  }
 },
 "nbformat": 4,
 "nbformat_minor": 0
}
