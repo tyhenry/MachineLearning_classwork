{
 "cells": [
  {
   "cell_type": "code",
   "execution_count": 1,
   "metadata": {
    "collapsed": false
   },
   "outputs": [],
   "source": [
    "import numpy as np\n",
    "import pandas as pd\n",
    "import matplotlib.pyplot as plt\n",
    "%matplotlib inline"
   ]
  },
  {
   "cell_type": "code",
   "execution_count": 2,
   "metadata": {
    "collapsed": false
   },
   "outputs": [],
   "source": [
    "sal = pd.read_csv('merged_cbsa_salary.csv')"
   ]
  },
  {
   "cell_type": "code",
   "execution_count": 3,
   "metadata": {
    "collapsed": false
   },
   "outputs": [
    {
     "data": {
      "text/html": [
       "<div>\n",
       "<table border=\"1\" class=\"dataframe\">\n",
       "  <thead>\n",
       "    <tr style=\"text-align: right;\">\n",
       "      <th></th>\n",
       "      <th>Unnamed: 0</th>\n",
       "      <th>zip</th>\n",
       "      <th>function.</th>\n",
       "      <th>sup1</th>\n",
       "      <th>sup2</th>\n",
       "      <th>sup3</th>\n",
       "      <th>sup4</th>\n",
       "      <th>sup5</th>\n",
       "      <th>salary</th>\n",
       "      <th>gender</th>\n",
       "      <th>...</th>\n",
       "      <th>Types.of.Health.Insurance.Coverage.by.Age..65.years.and.over..With.two.or.more.types.of.health.insurance.coverage.With.direct.purchase.and.Medicare.coverage</th>\n",
       "      <th>Types.of.Health.Insurance.Coverage.by.Age..65.years.and.over..With.two.or.more.types.of.health.insurance.coverage.With.Medicare.and.Medicaid.means.tested.public.coverage</th>\n",
       "      <th>Types.of.Health.Insurance.Coverage.by.Age..65.years.and.over..With.two.or.more.types.of.health.insurance.coverage.Other.private.only.combinations</th>\n",
       "      <th>Types.of.Health.Insurance.Coverage.by.Age..65.years.and.over..With.two.or.more.types.of.health.insurance.coverage.Other.public.only.combinations</th>\n",
       "      <th>Types.of.Health.Insurance.Coverage.by.Age..65.years.and.over..With.two.or.more.types.of.health.insurance.coverage.Other.coverage.combinations</th>\n",
       "      <th>Types.of.Health.Insurance.Coverage.by.Age..65.years.and.over..No.health.insurance.coverage</th>\n",
       "      <th>married</th>\n",
       "      <th>divorced</th>\n",
       "      <th>bad_english</th>\n",
       "      <th>poverty</th>\n",
       "    </tr>\n",
       "  </thead>\n",
       "  <tbody>\n",
       "    <tr>\n",
       "      <th>0</th>\n",
       "      <td>1</td>\n",
       "      <td>1003</td>\n",
       "      <td>position1</td>\n",
       "      <td>4</td>\n",
       "      <td>4</td>\n",
       "      <td>0</td>\n",
       "      <td>0</td>\n",
       "      <td>0</td>\n",
       "      <td>77308</td>\n",
       "      <td>M</td>\n",
       "      <td>...</td>\n",
       "      <td>16686</td>\n",
       "      <td>9442</td>\n",
       "      <td>0</td>\n",
       "      <td>1289</td>\n",
       "      <td>18508</td>\n",
       "      <td>194</td>\n",
       "      <td>42.023943</td>\n",
       "      <td>10.485747</td>\n",
       "      <td>7.930932</td>\n",
       "      <td>16.801532</td>\n",
       "    </tr>\n",
       "    <tr>\n",
       "      <th>1</th>\n",
       "      <td>2</td>\n",
       "      <td>1003</td>\n",
       "      <td>position15</td>\n",
       "      <td>0</td>\n",
       "      <td>2</td>\n",
       "      <td>0</td>\n",
       "      <td>60</td>\n",
       "      <td>0</td>\n",
       "      <td>38120</td>\n",
       "      <td>M</td>\n",
       "      <td>...</td>\n",
       "      <td>16686</td>\n",
       "      <td>9442</td>\n",
       "      <td>0</td>\n",
       "      <td>1289</td>\n",
       "      <td>18508</td>\n",
       "      <td>194</td>\n",
       "      <td>42.023943</td>\n",
       "      <td>10.485747</td>\n",
       "      <td>7.930932</td>\n",
       "      <td>16.801532</td>\n",
       "    </tr>\n",
       "    <tr>\n",
       "      <th>2</th>\n",
       "      <td>3</td>\n",
       "      <td>1003</td>\n",
       "      <td>position15</td>\n",
       "      <td>1</td>\n",
       "      <td>0</td>\n",
       "      <td>0</td>\n",
       "      <td>60</td>\n",
       "      <td>2</td>\n",
       "      <td>55335</td>\n",
       "      <td>W</td>\n",
       "      <td>...</td>\n",
       "      <td>16686</td>\n",
       "      <td>9442</td>\n",
       "      <td>0</td>\n",
       "      <td>1289</td>\n",
       "      <td>18508</td>\n",
       "      <td>194</td>\n",
       "      <td>42.023943</td>\n",
       "      <td>10.485747</td>\n",
       "      <td>7.930932</td>\n",
       "      <td>16.801532</td>\n",
       "    </tr>\n",
       "    <tr>\n",
       "      <th>3</th>\n",
       "      <td>4</td>\n",
       "      <td>1003</td>\n",
       "      <td>position4</td>\n",
       "      <td>1</td>\n",
       "      <td>0</td>\n",
       "      <td>0</td>\n",
       "      <td>35</td>\n",
       "      <td>1</td>\n",
       "      <td>70863</td>\n",
       "      <td>W</td>\n",
       "      <td>...</td>\n",
       "      <td>16686</td>\n",
       "      <td>9442</td>\n",
       "      <td>0</td>\n",
       "      <td>1289</td>\n",
       "      <td>18508</td>\n",
       "      <td>194</td>\n",
       "      <td>42.023943</td>\n",
       "      <td>10.485747</td>\n",
       "      <td>7.930932</td>\n",
       "      <td>16.801532</td>\n",
       "    </tr>\n",
       "    <tr>\n",
       "      <th>4</th>\n",
       "      <td>5</td>\n",
       "      <td>1003</td>\n",
       "      <td>position9</td>\n",
       "      <td>1</td>\n",
       "      <td>0</td>\n",
       "      <td>0</td>\n",
       "      <td>100</td>\n",
       "      <td>0</td>\n",
       "      <td>56557</td>\n",
       "      <td>M</td>\n",
       "      <td>...</td>\n",
       "      <td>16686</td>\n",
       "      <td>9442</td>\n",
       "      <td>0</td>\n",
       "      <td>1289</td>\n",
       "      <td>18508</td>\n",
       "      <td>194</td>\n",
       "      <td>42.023943</td>\n",
       "      <td>10.485747</td>\n",
       "      <td>7.930932</td>\n",
       "      <td>16.801532</td>\n",
       "    </tr>\n",
       "  </tbody>\n",
       "</table>\n",
       "<p>5 rows × 201 columns</p>\n",
       "</div>"
      ],
      "text/plain": [
       "   Unnamed: 0   zip   function.  sup1  sup2  sup3  sup4  sup5  salary gender  \\\n",
       "0           1  1003   position1     4     4     0     0     0   77308      M   \n",
       "1           2  1003  position15     0     2     0    60     0   38120      M   \n",
       "2           3  1003  position15     1     0     0    60     2   55335      W   \n",
       "3           4  1003   position4     1     0     0    35     1   70863      W   \n",
       "4           5  1003   position9     1     0     0   100     0   56557      M   \n",
       "\n",
       "     ...      \\\n",
       "0    ...       \n",
       "1    ...       \n",
       "2    ...       \n",
       "3    ...       \n",
       "4    ...       \n",
       "\n",
       "  Types.of.Health.Insurance.Coverage.by.Age..65.years.and.over..With.two.or.more.types.of.health.insurance.coverage.With.direct.purchase.and.Medicare.coverage  \\\n",
       "0                                              16686                                                                                                             \n",
       "1                                              16686                                                                                                             \n",
       "2                                              16686                                                                                                             \n",
       "3                                              16686                                                                                                             \n",
       "4                                              16686                                                                                                             \n",
       "\n",
       "  Types.of.Health.Insurance.Coverage.by.Age..65.years.and.over..With.two.or.more.types.of.health.insurance.coverage.With.Medicare.and.Medicaid.means.tested.public.coverage  \\\n",
       "0                                               9442                                                                                                                          \n",
       "1                                               9442                                                                                                                          \n",
       "2                                               9442                                                                                                                          \n",
       "3                                               9442                                                                                                                          \n",
       "4                                               9442                                                                                                                          \n",
       "\n",
       "   Types.of.Health.Insurance.Coverage.by.Age..65.years.and.over..With.two.or.more.types.of.health.insurance.coverage.Other.private.only.combinations  \\\n",
       "0                                                  0                                                                                                   \n",
       "1                                                  0                                                                                                   \n",
       "2                                                  0                                                                                                   \n",
       "3                                                  0                                                                                                   \n",
       "4                                                  0                                                                                                   \n",
       "\n",
       "   Types.of.Health.Insurance.Coverage.by.Age..65.years.and.over..With.two.or.more.types.of.health.insurance.coverage.Other.public.only.combinations  \\\n",
       "0                                               1289                                                                                                  \n",
       "1                                               1289                                                                                                  \n",
       "2                                               1289                                                                                                  \n",
       "3                                               1289                                                                                                  \n",
       "4                                               1289                                                                                                  \n",
       "\n",
       "   Types.of.Health.Insurance.Coverage.by.Age..65.years.and.over..With.two.or.more.types.of.health.insurance.coverage.Other.coverage.combinations  \\\n",
       "0                                              18508                                                                                               \n",
       "1                                              18508                                                                                               \n",
       "2                                              18508                                                                                               \n",
       "3                                              18508                                                                                               \n",
       "4                                              18508                                                                                               \n",
       "\n",
       "  Types.of.Health.Insurance.Coverage.by.Age..65.years.and.over..No.health.insurance.coverage  \\\n",
       "0                                                194                                           \n",
       "1                                                194                                           \n",
       "2                                                194                                           \n",
       "3                                                194                                           \n",
       "4                                                194                                           \n",
       "\n",
       "     married   divorced  bad_english    poverty  \n",
       "0  42.023943  10.485747     7.930932  16.801532  \n",
       "1  42.023943  10.485747     7.930932  16.801532  \n",
       "2  42.023943  10.485747     7.930932  16.801532  \n",
       "3  42.023943  10.485747     7.930932  16.801532  \n",
       "4  42.023943  10.485747     7.930932  16.801532  \n",
       "\n",
       "[5 rows x 201 columns]"
      ]
     },
     "execution_count": 3,
     "metadata": {},
     "output_type": "execute_result"
    }
   ],
   "source": [
    "sal.head(5)"
   ]
  },
  {
   "cell_type": "code",
   "execution_count": 4,
   "metadata": {
    "collapsed": false
   },
   "outputs": [
    {
     "data": {
      "text/plain": [
       "Unnamed: 0                                                                                                                                                                      1111.500000\n",
       "zip                                                                                                                                                                            56712.063006\n",
       "sup1                                                                                                                                                                               1.431593\n",
       "sup2                                                                                                                                                                               0.763726\n",
       "sup3                                                                                                                                                                               0.624212\n",
       "sup4                                                                                                                                                                              49.639514\n",
       "sup5                                                                                                                                                                               3.945995\n",
       "salary                                                                                                                                                                         48756.163901\n",
       "disabled                                                                                                                                                                           0.013051\n",
       "yearsinposition                                                                                                                                                                    5.689307\n",
       "yearsinprofession                                                                                                                                                                  9.327103\n",
       "age                                                                                                                                                                               38.260094\n",
       "cred1                                                                                                                                                                              0.069307\n",
       "cred2                                                                                                                                                                              0.031503\n",
       "inst1                                                                                                                                                                             16.674617\n",
       "inst2                                                                                                                                                                              6.648965\n",
       "inst3                                                                                                                                                                              3.680468\n",
       "inst4                                                                                                                                                                            336.729523\n",
       "inst5                                                                                                                                                                             40.371737\n",
       "instbudget                                                                                                                                                                   4826742.328460\n",
       "instsize                                                                                                                                                                       25194.286552\n",
       "ZCTA5                                                                                                                                                                          56702.459946\n",
       "cbsa                                                                                                                                                                           28928.028803\n",
       "total_population                                                                                                                                                             1917887.127363\n",
       "Median_Household_Income                                                                                                                                                        53044.824482\n",
       "no_male_hs                                                                                                                                                                        11.982734\n",
       "no_female_hs                                                                                                                                                                      10.869711\n",
       "no_hs                                                                                                                                                                             11.406605\n",
       "at_least_hs_male                                                                                                                                                                  88.017266\n",
       "at_least_hs_female                                                                                                                                                                89.130289\n",
       "                                                                                                                                                                                  ...      \n",
       "Types.of.Health.Insurance.Coverage.by.Age..35.to.64.years..With.one.type.of.health.insurance.coverage..With.VA.Health.Care.only                                                 3799.316832\n",
       "Types.of.Health.Insurance.Coverage.by.Age..35.to.64.years..With.two.or.more.types.of.health.insurance.coverage.                                                                55574.820882\n",
       "Types.of.Health.Insurance.Coverage.by.Age..35.to.64.years..With.two.or.more.types.of.health.insurance.coverage..With.employer.based.and.direct.purchase.coverage               16483.628713\n",
       "Types.of.Health.Insurance.Coverage.by.Age..35.to.64.years..With.two.or.more.types.of.health.insurance.coverage..With.employer.based.and.Medicare.coverage                       3459.031953\n",
       "Types.of.Health.Insurance.Coverage.by.Age..35.to.64.years..With.two.or.more.types.of.health.insurance.coverage..With.direct.purchase.and.Medicare.coverage                      1583.561206\n",
       "Types.of.Health.Insurance.Coverage.by.Age..35.to.64.years..With.two.or.more.types.of.health.insurance.coverage..With.Medicare.and.Medicaid.means.tested.public.coverage        10689.977498\n",
       "Types.of.Health.Insurance.Coverage.by.Age..35.to.64.years..With.two.or.more.types.of.health.insurance.coverage..Other.private.only.combinations                                 3549.045455\n",
       "Types.of.Health.Insurance.Coverage.by.Age..35.to.64.years..With.two.or.more.types.of.health.insurance.coverage..Other.public.only.combinations                                  1354.982448\n",
       "Types.of.Health.Insurance.Coverage.by.Age..35.to.64.years..With.two.or.more.types.of.health.insurance.coverage..Other.coverage.combinations                                    18454.593609\n",
       "Types.of.Health.Insurance.Coverage.by.Age..35.to.64.years..No.health.insurance.coverage                                                                                       125320.339334\n",
       "Types.of.Health.Insurance.Coverage.by.Age..65.years.and.over.                                                                                                                 228914.139964\n",
       "Types.of.Health.Insurance.Coverage.by.Age..65.years.and.over..With.one.type.of.health.insurance.coverage.                                                                      67032.781278\n",
       "Types.of.Health.Insurance.Coverage.by.Age..65.years.and.over..With.one.type.of.health.insurance.coverage..With.employer.based.health.insurance.only                             6187.648065\n",
       "Types.of.Health.Insurance.Coverage.by.Age..65.years.and.over..With.one.type.of.health.insurance.coverage..With.direct.purchase.health.insurance.only                             938.951395\n",
       "Types.of.Health.Insurance.Coverage.by.Age..65.years.and.over..With.one.type.of.health.insurance.coverage..With.Medicare.coverage.only                                          59688.923492\n",
       "Types.of.Health.Insurance.Coverage.by.Age..65.years.and.over..With.one.type.of.health.insurance.coverage..With.TRICARE.military.health.coverage.only                              83.119262\n",
       "Types.of.Health.Insurance.Coverage.by.Age..65.years.and.over..With.one.type.of.health.insurance.coverage..With.VA.Health.Care.only                                               134.139064\n",
       "Types.of.Health.Insurance.Coverage.by.Age..65.years.and.over..With.two.or.more.types.of.health.insurance.coverage                                                             158656.151665\n",
       "Types.of.Health.Insurance.Coverage.by.Age..65.years.and.over..With.two.or.more.types.of.health.insurance.coverage.With.employer.based.and.direct.purchase.coverage               250.040504\n",
       "Types.of.Health.Insurance.Coverage.by.Age..65.years.and.over..With.two.or.more.types.of.health.insurance.coverage.With.employer.based.and.Medicare.coverage                    48645.462646\n",
       "Types.of.Health.Insurance.Coverage.by.Age..65.years.and.over..With.two.or.more.types.of.health.insurance.coverage.With.direct.purchase.and.Medicare.coverage                   39912.031053\n",
       "Types.of.Health.Insurance.Coverage.by.Age..65.years.and.over..With.two.or.more.types.of.health.insurance.coverage.With.Medicare.and.Medicaid.means.tested.public.coverage      21917.255626\n",
       "Types.of.Health.Insurance.Coverage.by.Age..65.years.and.over..With.two.or.more.types.of.health.insurance.coverage.Other.private.only.combinations                                 40.810981\n",
       "Types.of.Health.Insurance.Coverage.by.Age..65.years.and.over..With.two.or.more.types.of.health.insurance.coverage.Other.public.only.combinations                                4016.001350\n",
       "Types.of.Health.Insurance.Coverage.by.Age..65.years.and.over..With.two.or.more.types.of.health.insurance.coverage.Other.coverage.combinations                                  43874.549505\n",
       "Types.of.Health.Insurance.Coverage.by.Age..65.years.and.over..No.health.insurance.coverage                                                                                      3225.207021\n",
       "married                                                                                                                                                                           46.505610\n",
       "divorced                                                                                                                                                                          10.653497\n",
       "bad_english                                                                                                                                                                        6.581784\n",
       "poverty                                                                                                                                                                           17.348598\n",
       "dtype: float64"
      ]
     },
     "execution_count": 4,
     "metadata": {},
     "output_type": "execute_result"
    }
   ],
   "source": [
    "sal.mean()"
   ]
  },
  {
   "cell_type": "code",
   "execution_count": 5,
   "metadata": {
    "collapsed": true
   },
   "outputs": [],
   "source": [
    "sal['missingSalary'] = pd.isnull(sal['salary'])\n",
    "sal2 = sal[(sal.missingSalary == False)]\n",
    "# elminates missing Y values"
   ]
  },
  {
   "cell_type": "code",
   "execution_count": 7,
   "metadata": {
    "collapsed": false
   },
   "outputs": [],
   "source": [
    "# list of X vars to include\n",
    "X_numeric_features = ['sup1', 'sup2', 'sup3', 'sup4', 'sup5', 'disabled', 'yearsinposition', \n",
    "         'yearsinprofession', 'age', 'cred1', 'cred2', 'inst1', 'inst2', 'inst3', 'inst4', 'inst5', 'instbudget', 'instsize']\n",
    "X_numeric = sal2[X_numeric_features]\n",
    "X_categorical_features = ['function.', 'gender', 'race', 'highestdegree', 'category', 'insttype']\n",
    "X_categorical = sal2[X_categorical_features]"
   ]
  },
  {
   "cell_type": "code",
   "execution_count": 11,
   "metadata": {
    "collapsed": false
   },
   "outputs": [],
   "source": [
    "# extra data\n",
    "# X_extra_features = ['median', 'mean', 'pop', 'snap', 'renter', 'median_rent', 'full_time', 'high_rent_burden']\n",
    "# X_extra = sal2[X_extra_features]\n",
    "\n",
    "#X_extra = sal2.iloc[:,30:124].values\n",
    "X_extra = sal2.loc[:,'ZCTA5':'poverty'].values"
   ]
  },
  {
   "cell_type": "code",
   "execution_count": 13,
   "metadata": {
    "collapsed": false
   },
   "outputs": [],
   "source": [
    "# create dummy variables for each of the categorical features\n",
    "# DOC: http://pandas.pydata.org/pandas-docs/stable/generated/pandas.get_dummies.html\n",
    "\n",
    "function_dummies = pd.get_dummies(X_categorical['function.'])\n",
    "gender_dummies = pd.get_dummies(X_categorical['gender'])\n",
    "race_dummies = pd.get_dummies(X_categorical['race'])\n",
    "highestdegree_dummies = pd.get_dummies(X_categorical['highestdegree'])\n",
    "category_dummies = pd.get_dummies(X_categorical['category'])\n",
    "insttype_dummies = pd.get_dummies(X_categorical['insttype'])\n",
    "\n",
    "X_dummy_features = pd.concat([function_dummies, gender_dummies, race_dummies, highestdegree_dummies, category_dummies, insttype_dummies], axis=1)\n",
    "\n",
    "# convert to ndarray\n",
    "X_dummy_features = X_dummy_features.as_matrix()"
   ]
  },
  {
   "cell_type": "code",
   "execution_count": 14,
   "metadata": {
    "collapsed": true
   },
   "outputs": [],
   "source": [
    "# impute missing values in numerical features\n",
    "# DOC: http://scikit-learn.org/stable/modules/preprocessing.html\n",
    "\n",
    "from sklearn.preprocessing import Imputer\n",
    "imp = Imputer()\n",
    "imp.fit(X_numeric)\n",
    "X_numeric_imputed = imp.transform(X_numeric)"
   ]
  },
  {
   "cell_type": "code",
   "execution_count": 15,
   "metadata": {
    "collapsed": false
   },
   "outputs": [],
   "source": [
    "imp.fit(X_extra)\n",
    "X_extra_imputed = imp.transform(X_extra)"
   ]
  },
  {
   "cell_type": "code",
   "execution_count": 16,
   "metadata": {
    "collapsed": true
   },
   "outputs": [],
   "source": [
    "X = np.concatenate((X_dummy_features, X_numeric_imputed, X_extra_imputed), axis=1)"
   ]
  },
  {
   "cell_type": "code",
   "execution_count": 17,
   "metadata": {
    "collapsed": false
   },
   "outputs": [],
   "source": [
    "# y is salary\n",
    "y = sal2.iloc[:, 7].values"
   ]
  },
  {
   "cell_type": "code",
   "execution_count": 18,
   "metadata": {
    "collapsed": true
   },
   "outputs": [],
   "source": [
    "# create training and test sets\n",
    "from sklearn.cross_validation import train_test_split\n",
    "\n",
    "X_train, X_test, y_train, y_test = train_test_split(\n",
    "         X, y, test_size=0.3, random_state=0)"
   ]
  },
  {
   "cell_type": "code",
   "execution_count": 19,
   "metadata": {
    "collapsed": true
   },
   "outputs": [],
   "source": [
    "# keep track of variance on test data, to graph\n",
    "var_to_graph = {}\n",
    "# bring residual sum of squares from regression1.ipynb\n",
    "var_to_graph['simpReg'] = 265376883.08"
   ]
  },
  {
   "cell_type": "code",
   "execution_count": 20,
   "metadata": {
    "collapsed": true
   },
   "outputs": [],
   "source": [
    "from sklearn import datasets, linear_model\n",
    "# DOC: http://scikit-learn.org/stable/modules/generated/sklearn.linear_model.LinearRegression.html"
   ]
  },
  {
   "cell_type": "code",
   "execution_count": 21,
   "metadata": {
    "collapsed": false
   },
   "outputs": [
    {
     "name": "stdout",
     "output_type": "stream",
     "text": [
      "Intercept: \n",
      " 3.35065308832e-10\n",
      "Coefficients: \n",
      " [  6.80008992e-12   5.10615270e-12  -7.71544254e-12   4.97476341e-12\n",
      "   4.04901861e-13   2.23718859e-11   6.06820835e-12  -7.74577115e-12\n",
      "   8.86256942e-12   1.47050170e-11   1.24808012e-11   7.39600574e-12\n",
      "   5.01887772e-12   1.21967839e-11   1.07202762e-11   1.27052279e-11\n",
      "   2.80894060e-11   8.04610187e-12   6.40355684e-11   6.18169795e-12\n",
      "   1.73674899e-11   8.66069282e-12   6.53384877e-12   9.93399259e-12\n",
      "   8.83055304e-12   7.50089238e-12   5.13230246e-13   1.06091510e-11\n",
      "   2.35243261e-11   2.41885467e-11  -2.80904707e-11  -2.15130158e-11\n",
      "  -2.16861153e-11  -2.65367484e-11  -2.35912998e-11  -2.95007883e-11\n",
      "  -2.91824715e-11   3.76992437e-13  -2.19518880e-12  -3.82350550e-12\n",
      "  -3.57334832e-12  -1.63238412e-12   2.28961697e-11  -2.28850116e-11\n",
      "  -6.97680853e-11  -7.83654120e-11  -1.71515905e-13  -1.06784373e-13\n",
      "  -6.11421504e-13   2.01973854e-14   1.00000000e+00   3.32315005e-12\n",
      "  -4.46190936e-14   5.04232073e-14  -4.77534678e-14   4.40984746e-13\n",
      "   3.30544007e-12  -1.12160281e-13  -1.79641892e-13  -1.06455643e-14\n",
      "  -2.67906357e-14   1.93317584e-14  -4.68040231e-17   5.62131721e-16\n",
      "  -3.25531702e-17  -7.19503667e-17  -5.51146281e-12  -4.84638371e-17\n",
      "  -6.54358946e-13  -3.66321773e-13   9.94781948e-13   6.56033387e-13\n",
      "   3.65194854e-13  -9.93950582e-13   1.15833038e-12   1.49061319e-12\n",
      "  -2.73320602e-12   9.65120345e-13   1.07879330e-12  -2.11894564e-12\n",
      "   1.88520033e-12   2.20584315e-12  -4.11888579e-12   9.19627222e-13\n",
      "   1.12651381e-12  -1.99719581e-12   4.29517533e-15  -2.13249557e-14\n",
      "  -4.13991758e-15   6.04629194e-14  -1.02121003e-13   1.09917175e-13\n",
      "   3.35560572e-17   1.77809156e-17   2.24971951e-18  -2.04046849e-16\n",
      "   6.45100293e-18   1.42050000e-14  -2.37935756e-14   1.31257852e-14\n",
      "   1.28846586e-15  -1.33140027e-15  -3.12944115e-15   5.40512947e-12\n",
      "   1.06206710e-13   1.05596087e-13   1.06158138e-13   1.05526698e-13\n",
      "   1.05939563e-13   1.06213649e-13   1.07035908e-13   1.06536308e-13\n",
      "   1.06384086e-13   1.05253046e-13   1.06765291e-13   1.06175485e-13\n",
      "   1.07154303e-13   1.05796448e-13   1.06241405e-13   1.05707110e-13\n",
      "   1.06002013e-13   1.06456510e-13   1.06603962e-13   1.05911807e-13\n",
      "   1.06534573e-13   1.06865905e-13   1.06990805e-13   5.38248005e-12\n",
      "   1.28327904e-13   1.28688726e-13   1.28549948e-13   1.28098920e-13\n",
      "   1.29410371e-13   1.28435457e-13   1.28203004e-13   1.28029531e-13\n",
      "   1.28376476e-13   1.29056488e-13   1.28490968e-13   1.28778932e-13\n",
      "   1.28474163e-13   1.28820565e-13   1.29538741e-13   1.28749008e-13\n",
      "   1.28834443e-13   1.29197407e-13   1.28716482e-13   1.28175248e-13\n",
      "   1.28525662e-13   1.28003077e-13   1.28968017e-13   3.12089764e-14\n",
      "   1.05254211e-13   5.16151791e-14  -2.06518830e-14   2.06189232e-14\n",
      "  -2.69836237e-14   8.21352535e-14  -1.19418364e-14   1.18516308e-14\n",
      "   2.12841897e-14  -2.94382574e-14  -1.08566251e-11   3.99949171e-14\n",
      "  -1.02934588e-13  -7.77341733e-13   1.08246745e-13   6.07135869e-13\n",
      "   6.25038216e-14   6.26165786e-14   6.22748381e-14   6.24465757e-14\n",
      "   6.25801494e-14   6.17058488e-14   5.64137279e-13   1.05210979e-13\n",
      "   1.03111963e-13   1.04276830e-13   1.06144260e-13   1.03729525e-13\n",
      "   1.05415676e-13   6.69599792e-13   6.35964371e-13  -7.15920379e-14\n",
      "   2.13220067e-13   2.13190576e-13   2.14370188e-13   2.13339763e-13\n",
      "   2.13284251e-13   2.11559936e-13   1.13666021e-13   2.78457812e-14\n",
      "   3.23074900e-14   2.67771916e-14   2.67980083e-14   2.88657986e-14\n",
      "   2.77694534e-14   1.41633233e-13   2.80961018e-13   3.27390025e-13\n",
      "   1.69010639e-13   1.68850177e-13   1.69213276e-13   1.68825891e-13\n",
      "   1.69089569e-13   1.69832898e-13   4.48084278e-13   4.86850144e-14\n",
      "   4.81212292e-14   4.89079263e-14   4.83051099e-14   4.80535750e-14\n",
      "   4.73752981e-14   4.82973037e-14   4.96393942e-13   5.74384290e-13\n",
      "   2.69090306e-13  -6.57113253e-14  -6.86117829e-14  -6.59194921e-14\n",
      "  -6.95502683e-14  -5.98548988e-14   1.95246163e-13   7.94503352e-15\n",
      "   7.84615428e-15   7.90686960e-15   8.13064893e-15   1.26183786e-14\n",
      "   7.12927981e-15   8.07166833e-15   2.02546313e-13   3.67169403e-14\n",
      "  -1.51380644e-14  -3.17966140e-14  -1.18952157e-14]\n",
      "Residual sum of squares, training data: 0.00\n",
      "Residual sum of squares, test data: 0.00\n",
      "Variance score, training data: 1.00\n",
      "Distribution of prediction error on training data:\n"
     ]
    },
    {
     "data": {
      "image/png": "[encoded data removed]",
      "text/plain": [
       "<matplotlib.figure.Figure at 0x10c008da0>"
      ]
     },
     "metadata": {},
     "output_type": "display_data"
    },
    {
     "name": "stdout",
     "output_type": "stream",
     "text": [
      "Distribution of prediction error on test data:\n"
     ]
    },
    {
     "data": {
      "image/png": "[encoded data removed]",
      "text/plain": [
       "<matplotlib.figure.Figure at 0x115556080>"
      ]
     },
     "metadata": {},
     "output_type": "display_data"
    }
   ],
   "source": [
    "# Create linear regression object\n",
    "regr = linear_model.LinearRegression()\n",
    "\n",
    "# Train the model using the training sets\n",
    "X_train_no_intercept = X_train\n",
    "X_train = X_train.reshape(-1, X_train.shape[1])\n",
    "regr.fit(X_train, y_train)\n",
    "\n",
    "# The intercept\n",
    "print('Intercept: \\n', regr.intercept_)\n",
    "# The coefficients\n",
    "print('Coefficients: \\n', regr.coef_)\n",
    "# The mean square error\n",
    "print(\"Residual sum of squares, training data: %.2f\"\n",
    "      % np.mean((regr.predict(X_train) - y_train) ** 2))\n",
    "print(\"Residual sum of squares, test data: %.2f\"\n",
    "      % np.mean((regr.predict(X_test) - y_test) ** 2))\n",
    "var_to_graph['multReg_linear'] = np.mean((regr.predict(X_test) - y_test) ** 2)\n",
    "# Explained variance score: 1 is perfect prediction\n",
    "print('Variance score, training data: %.2f' % regr.score(X_train, y_train))\n",
    "#vector of prediction error\n",
    "print('Distribution of prediction error on training data:')\n",
    "predError = regr.predict(X_train) - y_train\n",
    "plt.hist(predError)\n",
    "plt.show()\n",
    "\n",
    "print('Distribution of prediction error on test data:')\n",
    "predError = regr.predict(X_test) - y_test\n",
    "plt.hist(predError)\n",
    "plt.show()"
   ]
  },
  {
   "cell_type": "code",
   "execution_count": 22,
   "metadata": {
    "collapsed": true
   },
   "outputs": [],
   "source": [
    "from sklearn.preprocessing import PolynomialFeatures\n",
    "# DOC: http://scikit-learn.org/stable/modules/preprocessing.html\n",
    "\n",
    "poly = PolynomialFeatures(2)\n",
    "X_poly = poly.fit_transform(X)"
   ]
  },
  {
   "cell_type": "code",
   "execution_count": 23,
   "metadata": {
    "collapsed": true
   },
   "outputs": [],
   "source": [
    "# create training and test sets\n",
    "from sklearn.cross_validation import train_test_split\n",
    "\n",
    "X_train, X_test, y_train, y_test = train_test_split(\n",
    "         X_poly, y, test_size=0.3, random_state=0)"
   ]
  },
  {
   "cell_type": "code",
   "execution_count": 24,
   "metadata": {
    "collapsed": false
   },
   "outputs": [
    {
     "name": "stdout",
     "output_type": "stream",
     "text": [
      "Intercept: \n",
      " 1.13283511063\n",
      "Coefficients: \n",
      " [  1.26150960e-04  -1.04952406e-02   4.71779009e-03 ...,   1.94770305e-05\n",
      "   5.82777282e-06  -7.41057887e-06]\n",
      "Residual sum of squares, training data: 0.00\n",
      "Residual sum of squares, test data: 0.18\n",
      "Variance score, training data: 1.00\n",
      "Distribution of prediction error on training data:\n"
     ]
    },
    {
     "data": {
      "image/png": "[encoded data removed]",
      "text/plain": [
       "<matplotlib.figure.Figure at 0x11513d6d8>"
      ]
     },
     "metadata": {},
     "output_type": "display_data"
    },
    {
     "name": "stdout",
     "output_type": "stream",
     "text": [
      "Distribution of prediction error on test data:\n"
     ]
    },
    {
     "data": {
      "image/png": "[encoded data removed]",
      "text/plain": [
       "<matplotlib.figure.Figure at 0x1155a63c8>"
      ]
     },
     "metadata": {},
     "output_type": "display_data"
    }
   ],
   "source": [
    "## POLYNOMINAL \n",
    "# Create linear regression object\n",
    "poly = linear_model.LinearRegression(normalize=True)\n",
    "\n",
    "# Train the model using the training sets\n",
    "X_train_no_intercept = X_train\n",
    "X_train = X_train.reshape(-1, X_train.shape[1])\n",
    "poly.fit(X_train, y_train)\n",
    "\n",
    "# The intercept\n",
    "print('Intercept: \\n', poly.intercept_)\n",
    "# The coefficients\n",
    "print('Coefficients: \\n', poly.coef_)\n",
    "# The mean square error\n",
    "print(\"Residual sum of squares, training data: %.2f\"\n",
    "      % np.mean((poly.predict(X_train) - y_train) ** 2))\n",
    "print(\"Residual sum of squares, test data: %.2f\"\n",
    "      % np.mean((poly.predict(X_test) - y_test) ** 2))\n",
    "var_to_graph['multReg_poly'] = np.mean((poly.predict(X_test) - y_test) ** 2)\n",
    "# Explained variance score: 1 is perfect prediction\n",
    "print('Variance score, training data: %.2f' % poly.score(X_train, y_train))\n",
    "#vector of prediction error\n",
    "print('Distribution of prediction error on training data:')\n",
    "predError = poly.predict(X_train) - y_train\n",
    "plt.hist(predError)\n",
    "plt.show()\n",
    "\n",
    "print('Distribution of prediction error on test data:')\n",
    "predError = poly.predict(X_test) - y_test\n",
    "plt.hist(predError)\n",
    "plt.show()"
   ]
  },
  {
   "cell_type": "code",
   "execution_count": 25,
   "metadata": {
    "collapsed": false
   },
   "outputs": [
    {
     "name": "stdout",
     "output_type": "stream",
     "text": [
      "Intercept: \n",
      " -0.00130189941234\n",
      "Coefficients: \n",
      " [ -9.91202158e-06  -1.65015495e-05   1.20594788e-05   2.17921128e-05\n",
      "   4.56471682e-05  -7.13303712e-06  -8.01553751e-06   9.09264140e-05\n",
      "  -1.41901608e-05   3.41957693e-07  -1.44419426e-06   3.07385366e-05\n",
      "   9.45633722e-07  -9.21461598e-06  -5.26944391e-07  -2.68502874e-06\n",
      "  -7.20307648e-06  -1.30721306e-05  -4.97422809e-06   3.18009973e-05\n",
      "   5.73746672e-06   1.83009939e-06   9.65806383e-07  -1.20952093e-05\n",
      "   2.94361761e-05  -5.72974278e-06   1.60693900e-05  -2.50899582e-06\n",
      "  -1.87471727e-05  -1.68913510e-05   3.30655697e-06   1.47630308e-06\n",
      "   2.78699232e-06   3.04035745e-06   3.14261648e-09   2.60910309e-05\n",
      "   6.26061183e-06   4.57180027e-06   1.61487732e-06   1.33967964e-06\n",
      "   1.07312659e-05   4.18178852e-06  -3.06175310e-05   3.06175310e-05\n",
      "   1.76496686e-05  -1.00191400e-06   9.37532303e-06  -1.28595495e-06\n",
      "  -5.70149576e-06  -9.01196196e-09   9.99994707e-01   3.04590474e-06\n",
      "  -1.01064377e-06   7.50197365e-07   5.70967598e-08  -1.09798923e-05\n",
      "  -2.08323618e-05  -4.77918025e-07  -5.84188859e-07  -5.02143196e-07\n",
      "   4.04784528e-08   1.17149110e-07   1.65190461e-12  -3.84359939e-10\n",
      "   1.40994195e-10  -2.48032941e-10  -1.90181393e-08  -2.49540914e-09\n",
      "  -3.01266732e-06   3.58610764e-06   1.46700997e-06   3.01266732e-06\n",
      "  -3.58610764e-06  -1.46700997e-06  -6.29734385e-06   9.66630653e-06\n",
      "   1.70410418e-06  -1.40389714e-06   2.41826982e-07   1.71894781e-06\n",
      "  -2.32614963e-06   5.12133239e-06   1.82619693e-06  -9.22252491e-07\n",
      "   4.87950541e-06   1.07249125e-07   1.02895930e-05   8.86897370e-06\n",
      "   7.88472262e-06   7.72905277e-06   8.07728893e-06   5.17250988e-06\n",
      "  -6.87577200e-10  -3.83726472e-10  -6.41439659e-10   1.69038431e-10\n",
      "   1.24181209e-09   5.50319544e-06  -5.22888408e-06   4.17193541e-06\n",
      "  -7.95369172e-07   7.95369172e-07   1.00494990e-07  -4.10749339e-09\n",
      "  -1.34109665e-07  -1.67624818e-07  -1.43656888e-07  -8.95536311e-08\n",
      "   2.10998501e-08   2.44496856e-08   8.23417760e-09  -3.01022928e-09\n",
      "   3.07546191e-09   5.40050858e-09   4.83605563e-08   3.56179132e-08\n",
      "   7.17959712e-08   6.35254560e-09   2.40552788e-08  -1.15275094e-08\n",
      "   1.37659448e-08   8.65223335e-08   2.02139193e-08   4.59790065e-08\n",
      "   4.24156326e-09   8.46195701e-08   4.15881534e-08  -1.48943748e-08\n",
      "  -1.61511851e-07  -1.29676482e-07  -1.57678282e-07  -1.91754706e-07\n",
      "   1.35952066e-08   1.82459330e-08   2.36038692e-09   1.48313808e-08\n",
      "   1.98138307e-08   1.06463934e-08   1.47038596e-08  -4.46246429e-09\n",
      "   4.45819091e-08  -4.57309740e-09   3.86411206e-08   3.64245349e-08\n",
      "   8.90480285e-08   7.06662875e-08   5.73046101e-09   6.78206167e-08\n",
      "   2.97378469e-08   7.54953064e-08   8.24170002e-08  -4.56650008e-06\n",
      "  -1.05946896e-05  -9.65712705e-06   2.80195253e-06  -2.80195253e-06\n",
      "  -3.01778466e-06   1.72965307e-06  -1.75406255e-06   1.75406255e-06\n",
      "   1.91791244e-06   1.43018644e-06   8.76092806e-06  -8.38088257e-07\n",
      "   2.70627254e-06   4.52372996e-08   8.15203430e-08   2.72616993e-08\n",
      "   2.39264677e-08   3.10997328e-08  -1.03567651e-08   2.26881021e-08\n",
      "  -1.85615322e-08  -2.15345670e-08  -2.49499730e-09   3.11394243e-08\n",
      "  -4.86880639e-08   8.39519754e-08   6.32185515e-08  -1.72751917e-07\n",
      "   4.06350863e-08   5.67553046e-08  -1.47437310e-08   7.77432397e-09\n",
      "  -1.88519800e-08  -2.95325986e-08   1.52072152e-07  -6.09106700e-09\n",
      "   4.62112183e-08  -1.36031960e-07  -1.26889051e-08  -1.30533355e-10\n",
      "  -1.19989566e-07  -5.61141619e-08  -2.94484299e-08   1.92871125e-07\n",
      "   1.22713439e-10  -9.82968340e-09  -2.85297710e-08  -1.18986420e-08\n",
      "  -5.82233391e-09  -5.49461037e-10   4.84554123e-09  -1.71456240e-08\n",
      "   1.19544989e-08  -5.18087294e-09   3.08680652e-09  -1.95396659e-08\n",
      "  -4.83615395e-08   1.07429565e-09  -7.69351046e-09  -2.27684789e-08\n",
      "   1.07215265e-07  -6.83967948e-09  -1.97169991e-08   6.99312692e-09\n",
      "   1.53552799e-08  -2.79434485e-08  -2.04826958e-07  -8.92801722e-08\n",
      "   3.50355311e-07  -1.29500302e-08   7.02805327e-08   7.22216846e-08\n",
      "  -1.45433863e-07  -1.40867018e-07  -1.43793088e-07   7.88911952e-07\n",
      "  -2.15202268e-07  -1.45557083e-07  -7.86425116e-08   3.82341253e-07\n",
      "  -1.21066100e-06  -7.52000931e-06   1.28498642e-07]\n",
      "Residual sum of squares, training data: 0.00\n",
      "Residual sum of squares, test data: 0.00\n",
      "Variance score, training data: 1.00\n",
      "Distribution of prediction error on training data:\n"
     ]
    },
    {
     "data": {
      "image/png": "[encoded data removed]",
      "text/plain": [
       "<matplotlib.figure.Figure at 0x1151d0278>"
      ]
     },
     "metadata": {},
     "output_type": "display_data"
    },
    {
     "name": "stdout",
     "output_type": "stream",
     "text": [
      "Distribution of prediction error on test data:\n"
     ]
    },
    {
     "data": {
      "image/png": "[encoded data removed]",
      "text/plain": [
       "<matplotlib.figure.Figure at 0x1368ebb38>"
      ]
     },
     "metadata": {},
     "output_type": "display_data"
    }
   ],
   "source": [
    "## RIDGE REGRESSION\n",
    "# DOC: http://scikit-learn.org/stable/modules/generated/sklearn.linear_model.Ridge.html\n",
    "\n",
    "# create training and test sets\n",
    "from sklearn.cross_validation import train_test_split\n",
    "\n",
    "X_train, X_test, y_train, y_test = train_test_split(\n",
    "         X, y, test_size=0.3, random_state=0)\n",
    "\n",
    "# Create linear regression object\n",
    "regr = linear_model.Ridge()\n",
    "\n",
    "# Train the model using the training sets\n",
    "X_train_no_intercept = X_train\n",
    "X_train = X_train.reshape(-1, X_train.shape[1])\n",
    "regr.fit(X_train, y_train)\n",
    "\n",
    "# The intercept\n",
    "print('Intercept: \\n', regr.intercept_)\n",
    "# The coefficients\n",
    "print('Coefficients: \\n', regr.coef_)\n",
    "# The mean square error\n",
    "print(\"Residual sum of squares, training data: %.2f\"\n",
    "      % np.mean((regr.predict(X_train) - y_train) ** 2))\n",
    "print(\"Residual sum of squares, test data: %.2f\"\n",
    "      % np.mean((regr.predict(X_test) - y_test) ** 2))\n",
    "var_to_graph['multReg_ridge'] = np.mean((regr.predict(X_test) - y_test) ** 2)\n",
    "# Explained variance score: 1 is perfect prediction\n",
    "print('Variance score, training data: %.2f' % regr.score(X_train, y_train))\n",
    "#vector of prediction error\n",
    "print('Distribution of prediction error on training data:')\n",
    "predError = regr.predict(X_train) - y_train\n",
    "plt.hist(predError)\n",
    "plt.show()\n",
    "\n",
    "print('Distribution of prediction error on test data:')\n",
    "predError = regr.predict(X_test) - y_test\n",
    "plt.hist(predError)\n",
    "plt.show()"
   ]
  },
  {
   "cell_type": "code",
   "execution_count": 26,
   "metadata": {
    "collapsed": false
   },
   "outputs": [
    {
     "data": {
      "image/png": "[encoded data removed]",
      "text/plain": [
       "<matplotlib.figure.Figure at 0x18166c940>"
      ]
     },
     "metadata": {},
     "output_type": "display_data"
    }
   ],
   "source": [
    "# bar graph of dict with Residual Sum of Squares on test datasets\n",
    "\n",
    "#var_to_graph['multReg_poly'] = 0\n",
    "plt.bar(range(len(var_to_graph)), var_to_graph.values(), align='center')\n",
    "plt.xticks(range(len(var_to_graph)), var_to_graph.keys())\n",
    "\n",
    "plt.show()"
   ]
  },
  {
   "cell_type": "code",
   "execution_count": null,
   "metadata": {
    "collapsed": true
   },
   "outputs": [],
   "source": []
  }
 ],
 "metadata": {
  "kernelspec": {
   "display_name": "Python 3",
   "language": "python",
   "name": "python3"
  },
  "language_info": {
   "codemirror_mode": {
    "name": "ipython",
    "version": 3
   },
   "file_extension": ".py",
   "mimetype": "text/x-python",
   "name": "python",
   "nbconvert_exporter": "python",
   "pygments_lexer": "ipython3",
   "version": "3.5.1"
  }
 },
 "nbformat": 4,
 "nbformat_minor": 0
}
