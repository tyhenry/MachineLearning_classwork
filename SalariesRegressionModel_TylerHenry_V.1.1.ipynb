{
 "cells": [
  {
   "cell_type": "code",
   "execution_count": 1,
   "metadata": {
    "collapsed": false
   },
   "outputs": [],
   "source": [
    "import numpy as np\n",
    "import pandas as pd\n",
    "import matplotlib.pyplot as plt\n",
    "%matplotlib inline"
   ]
  },
  {
   "cell_type": "code",
   "execution_count": 2,
   "metadata": {
    "collapsed": false
   },
   "outputs": [],
   "source": [
    "sal = pd.read_csv('merged_cbsa_salary.csv')"
   ]
  },
  {
   "cell_type": "code",
   "execution_count": 3,
   "metadata": {
    "collapsed": false
   },
   "outputs": [
    {
     "data": {
      "text/html": [
       "<div>\n",
       "<table border=\"1\" class=\"dataframe\">\n",
       "  <thead>\n",
       "    <tr style=\"text-align: right;\">\n",
       "      <th></th>\n",
       "      <th>Unnamed: 0</th>\n",
       "      <th>zip</th>\n",
       "      <th>function.</th>\n",
       "      <th>sup1</th>\n",
       "      <th>sup2</th>\n",
       "      <th>sup3</th>\n",
       "      <th>sup4</th>\n",
       "      <th>sup5</th>\n",
       "      <th>salary</th>\n",
       "      <th>gender</th>\n",
       "      <th>...</th>\n",
       "      <th>Types.of.Health.Insurance.Coverage.by.Age..65.years.and.over..With.two.or.more.types.of.health.insurance.coverage.With.direct.purchase.and.Medicare.coverage</th>\n",
       "      <th>Types.of.Health.Insurance.Coverage.by.Age..65.years.and.over..With.two.or.more.types.of.health.insurance.coverage.With.Medicare.and.Medicaid.means.tested.public.coverage</th>\n",
       "      <th>Types.of.Health.Insurance.Coverage.by.Age..65.years.and.over..With.two.or.more.types.of.health.insurance.coverage.Other.private.only.combinations</th>\n",
       "      <th>Types.of.Health.Insurance.Coverage.by.Age..65.years.and.over..With.two.or.more.types.of.health.insurance.coverage.Other.public.only.combinations</th>\n",
       "      <th>Types.of.Health.Insurance.Coverage.by.Age..65.years.and.over..With.two.or.more.types.of.health.insurance.coverage.Other.coverage.combinations</th>\n",
       "      <th>Types.of.Health.Insurance.Coverage.by.Age..65.years.and.over..No.health.insurance.coverage</th>\n",
       "      <th>married</th>\n",
       "      <th>divorced</th>\n",
       "      <th>bad_english</th>\n",
       "      <th>poverty</th>\n",
       "    </tr>\n",
       "  </thead>\n",
       "  <tbody>\n",
       "    <tr>\n",
       "      <th>0</th>\n",
       "      <td>1</td>\n",
       "      <td>1003</td>\n",
       "      <td>position1</td>\n",
       "      <td>4</td>\n",
       "      <td>4</td>\n",
       "      <td>0</td>\n",
       "      <td>0</td>\n",
       "      <td>0</td>\n",
       "      <td>77308</td>\n",
       "      <td>M</td>\n",
       "      <td>...</td>\n",
       "      <td>16686</td>\n",
       "      <td>9442</td>\n",
       "      <td>0</td>\n",
       "      <td>1289</td>\n",
       "      <td>18508</td>\n",
       "      <td>194</td>\n",
       "      <td>42.023943</td>\n",
       "      <td>10.485747</td>\n",
       "      <td>7.930932</td>\n",
       "      <td>16.801532</td>\n",
       "    </tr>\n",
       "    <tr>\n",
       "      <th>1</th>\n",
       "      <td>2</td>\n",
       "      <td>1003</td>\n",
       "      <td>position15</td>\n",
       "      <td>0</td>\n",
       "      <td>2</td>\n",
       "      <td>0</td>\n",
       "      <td>60</td>\n",
       "      <td>0</td>\n",
       "      <td>38120</td>\n",
       "      <td>M</td>\n",
       "      <td>...</td>\n",
       "      <td>16686</td>\n",
       "      <td>9442</td>\n",
       "      <td>0</td>\n",
       "      <td>1289</td>\n",
       "      <td>18508</td>\n",
       "      <td>194</td>\n",
       "      <td>42.023943</td>\n",
       "      <td>10.485747</td>\n",
       "      <td>7.930932</td>\n",
       "      <td>16.801532</td>\n",
       "    </tr>\n",
       "    <tr>\n",
       "      <th>2</th>\n",
       "      <td>3</td>\n",
       "      <td>1003</td>\n",
       "      <td>position15</td>\n",
       "      <td>1</td>\n",
       "      <td>0</td>\n",
       "      <td>0</td>\n",
       "      <td>60</td>\n",
       "      <td>2</td>\n",
       "      <td>55335</td>\n",
       "      <td>W</td>\n",
       "      <td>...</td>\n",
       "      <td>16686</td>\n",
       "      <td>9442</td>\n",
       "      <td>0</td>\n",
       "      <td>1289</td>\n",
       "      <td>18508</td>\n",
       "      <td>194</td>\n",
       "      <td>42.023943</td>\n",
       "      <td>10.485747</td>\n",
       "      <td>7.930932</td>\n",
       "      <td>16.801532</td>\n",
       "    </tr>\n",
       "    <tr>\n",
       "      <th>3</th>\n",
       "      <td>4</td>\n",
       "      <td>1003</td>\n",
       "      <td>position4</td>\n",
       "      <td>1</td>\n",
       "      <td>0</td>\n",
       "      <td>0</td>\n",
       "      <td>35</td>\n",
       "      <td>1</td>\n",
       "      <td>70863</td>\n",
       "      <td>W</td>\n",
       "      <td>...</td>\n",
       "      <td>16686</td>\n",
       "      <td>9442</td>\n",
       "      <td>0</td>\n",
       "      <td>1289</td>\n",
       "      <td>18508</td>\n",
       "      <td>194</td>\n",
       "      <td>42.023943</td>\n",
       "      <td>10.485747</td>\n",
       "      <td>7.930932</td>\n",
       "      <td>16.801532</td>\n",
       "    </tr>\n",
       "    <tr>\n",
       "      <th>4</th>\n",
       "      <td>5</td>\n",
       "      <td>1003</td>\n",
       "      <td>position9</td>\n",
       "      <td>1</td>\n",
       "      <td>0</td>\n",
       "      <td>0</td>\n",
       "      <td>100</td>\n",
       "      <td>0</td>\n",
       "      <td>56557</td>\n",
       "      <td>M</td>\n",
       "      <td>...</td>\n",
       "      <td>16686</td>\n",
       "      <td>9442</td>\n",
       "      <td>0</td>\n",
       "      <td>1289</td>\n",
       "      <td>18508</td>\n",
       "      <td>194</td>\n",
       "      <td>42.023943</td>\n",
       "      <td>10.485747</td>\n",
       "      <td>7.930932</td>\n",
       "      <td>16.801532</td>\n",
       "    </tr>\n",
       "  </tbody>\n",
       "</table>\n",
       "<p>5 rows × 201 columns</p>\n",
       "</div>"
      ],
      "text/plain": [
       "   Unnamed: 0   zip   function.  sup1  sup2  sup3  sup4  sup5  salary gender  \\\n",
       "0           1  1003   position1     4     4     0     0     0   77308      M   \n",
       "1           2  1003  position15     0     2     0    60     0   38120      M   \n",
       "2           3  1003  position15     1     0     0    60     2   55335      W   \n",
       "3           4  1003   position4     1     0     0    35     1   70863      W   \n",
       "4           5  1003   position9     1     0     0   100     0   56557      M   \n",
       "\n",
       "     ...      \\\n",
       "0    ...       \n",
       "1    ...       \n",
       "2    ...       \n",
       "3    ...       \n",
       "4    ...       \n",
       "\n",
       "  Types.of.Health.Insurance.Coverage.by.Age..65.years.and.over..With.two.or.more.types.of.health.insurance.coverage.With.direct.purchase.and.Medicare.coverage  \\\n",
       "0                                              16686                                                                                                             \n",
       "1                                              16686                                                                                                             \n",
       "2                                              16686                                                                                                             \n",
       "3                                              16686                                                                                                             \n",
       "4                                              16686                                                                                                             \n",
       "\n",
       "  Types.of.Health.Insurance.Coverage.by.Age..65.years.and.over..With.two.or.more.types.of.health.insurance.coverage.With.Medicare.and.Medicaid.means.tested.public.coverage  \\\n",
       "0                                               9442                                                                                                                          \n",
       "1                                               9442                                                                                                                          \n",
       "2                                               9442                                                                                                                          \n",
       "3                                               9442                                                                                                                          \n",
       "4                                               9442                                                                                                                          \n",
       "\n",
       "   Types.of.Health.Insurance.Coverage.by.Age..65.years.and.over..With.two.or.more.types.of.health.insurance.coverage.Other.private.only.combinations  \\\n",
       "0                                                  0                                                                                                   \n",
       "1                                                  0                                                                                                   \n",
       "2                                                  0                                                                                                   \n",
       "3                                                  0                                                                                                   \n",
       "4                                                  0                                                                                                   \n",
       "\n",
       "   Types.of.Health.Insurance.Coverage.by.Age..65.years.and.over..With.two.or.more.types.of.health.insurance.coverage.Other.public.only.combinations  \\\n",
       "0                                               1289                                                                                                  \n",
       "1                                               1289                                                                                                  \n",
       "2                                               1289                                                                                                  \n",
       "3                                               1289                                                                                                  \n",
       "4                                               1289                                                                                                  \n",
       "\n",
       "   Types.of.Health.Insurance.Coverage.by.Age..65.years.and.over..With.two.or.more.types.of.health.insurance.coverage.Other.coverage.combinations  \\\n",
       "0                                              18508                                                                                               \n",
       "1                                              18508                                                                                               \n",
       "2                                              18508                                                                                               \n",
       "3                                              18508                                                                                               \n",
       "4                                              18508                                                                                               \n",
       "\n",
       "  Types.of.Health.Insurance.Coverage.by.Age..65.years.and.over..No.health.insurance.coverage  \\\n",
       "0                                                194                                           \n",
       "1                                                194                                           \n",
       "2                                                194                                           \n",
       "3                                                194                                           \n",
       "4                                                194                                           \n",
       "\n",
       "     married   divorced  bad_english    poverty  \n",
       "0  42.023943  10.485747     7.930932  16.801532  \n",
       "1  42.023943  10.485747     7.930932  16.801532  \n",
       "2  42.023943  10.485747     7.930932  16.801532  \n",
       "3  42.023943  10.485747     7.930932  16.801532  \n",
       "4  42.023943  10.485747     7.930932  16.801532  \n",
       "\n",
       "[5 rows x 201 columns]"
      ]
     },
     "execution_count": 3,
     "metadata": {},
     "output_type": "execute_result"
    }
   ],
   "source": [
    "sal.head(5)"
   ]
  },
  {
   "cell_type": "code",
   "execution_count": 4,
   "metadata": {
    "collapsed": false
   },
   "outputs": [
    {
     "data": {
      "text/plain": [
       "Unnamed: 0                                                                                                                                                                      1111.500000\n",
       "zip                                                                                                                                                                            56712.063006\n",
       "sup1                                                                                                                                                                               1.431593\n",
       "sup2                                                                                                                                                                               0.763726\n",
       "sup3                                                                                                                                                                               0.624212\n",
       "sup4                                                                                                                                                                              49.639514\n",
       "sup5                                                                                                                                                                               3.945995\n",
       "salary                                                                                                                                                                         48756.163901\n",
       "disabled                                                                                                                                                                           0.013051\n",
       "yearsinposition                                                                                                                                                                    5.689307\n",
       "yearsinprofession                                                                                                                                                                  9.327103\n",
       "age                                                                                                                                                                               38.260094\n",
       "cred1                                                                                                                                                                              0.069307\n",
       "cred2                                                                                                                                                                              0.031503\n",
       "inst1                                                                                                                                                                             16.674617\n",
       "inst2                                                                                                                                                                              6.648965\n",
       "inst3                                                                                                                                                                              3.680468\n",
       "inst4                                                                                                                                                                            336.729523\n",
       "inst5                                                                                                                                                                             40.371737\n",
       "instbudget                                                                                                                                                                   4826742.328460\n",
       "instsize                                                                                                                                                                       25194.286552\n",
       "ZCTA5                                                                                                                                                                          56702.459946\n",
       "cbsa                                                                                                                                                                           28928.028803\n",
       "total_population                                                                                                                                                             1917887.127363\n",
       "Median_Household_Income                                                                                                                                                        53044.824482\n",
       "no_male_hs                                                                                                                                                                        11.982734\n",
       "no_female_hs                                                                                                                                                                      10.869711\n",
       "no_hs                                                                                                                                                                             11.406605\n",
       "at_least_hs_male                                                                                                                                                                  88.017266\n",
       "at_least_hs_female                                                                                                                                                                89.130289\n",
       "                                                                                                                                                                                  ...      \n",
       "Types.of.Health.Insurance.Coverage.by.Age..35.to.64.years..With.one.type.of.health.insurance.coverage..With.VA.Health.Care.only                                                 3799.316832\n",
       "Types.of.Health.Insurance.Coverage.by.Age..35.to.64.years..With.two.or.more.types.of.health.insurance.coverage.                                                                55574.820882\n",
       "Types.of.Health.Insurance.Coverage.by.Age..35.to.64.years..With.two.or.more.types.of.health.insurance.coverage..With.employer.based.and.direct.purchase.coverage               16483.628713\n",
       "Types.of.Health.Insurance.Coverage.by.Age..35.to.64.years..With.two.or.more.types.of.health.insurance.coverage..With.employer.based.and.Medicare.coverage                       3459.031953\n",
       "Types.of.Health.Insurance.Coverage.by.Age..35.to.64.years..With.two.or.more.types.of.health.insurance.coverage..With.direct.purchase.and.Medicare.coverage                      1583.561206\n",
       "Types.of.Health.Insurance.Coverage.by.Age..35.to.64.years..With.two.or.more.types.of.health.insurance.coverage..With.Medicare.and.Medicaid.means.tested.public.coverage        10689.977498\n",
       "Types.of.Health.Insurance.Coverage.by.Age..35.to.64.years..With.two.or.more.types.of.health.insurance.coverage..Other.private.only.combinations                                 3549.045455\n",
       "Types.of.Health.Insurance.Coverage.by.Age..35.to.64.years..With.two.or.more.types.of.health.insurance.coverage..Other.public.only.combinations                                  1354.982448\n",
       "Types.of.Health.Insurance.Coverage.by.Age..35.to.64.years..With.two.or.more.types.of.health.insurance.coverage..Other.coverage.combinations                                    18454.593609\n",
       "Types.of.Health.Insurance.Coverage.by.Age..35.to.64.years..No.health.insurance.coverage                                                                                       125320.339334\n",
       "Types.of.Health.Insurance.Coverage.by.Age..65.years.and.over.                                                                                                                 228914.139964\n",
       "Types.of.Health.Insurance.Coverage.by.Age..65.years.and.over..With.one.type.of.health.insurance.coverage.                                                                      67032.781278\n",
       "Types.of.Health.Insurance.Coverage.by.Age..65.years.and.over..With.one.type.of.health.insurance.coverage..With.employer.based.health.insurance.only                             6187.648065\n",
       "Types.of.Health.Insurance.Coverage.by.Age..65.years.and.over..With.one.type.of.health.insurance.coverage..With.direct.purchase.health.insurance.only                             938.951395\n",
       "Types.of.Health.Insurance.Coverage.by.Age..65.years.and.over..With.one.type.of.health.insurance.coverage..With.Medicare.coverage.only                                          59688.923492\n",
       "Types.of.Health.Insurance.Coverage.by.Age..65.years.and.over..With.one.type.of.health.insurance.coverage..With.TRICARE.military.health.coverage.only                              83.119262\n",
       "Types.of.Health.Insurance.Coverage.by.Age..65.years.and.over..With.one.type.of.health.insurance.coverage..With.VA.Health.Care.only                                               134.139064\n",
       "Types.of.Health.Insurance.Coverage.by.Age..65.years.and.over..With.two.or.more.types.of.health.insurance.coverage                                                             158656.151665\n",
       "Types.of.Health.Insurance.Coverage.by.Age..65.years.and.over..With.two.or.more.types.of.health.insurance.coverage.With.employer.based.and.direct.purchase.coverage               250.040504\n",
       "Types.of.Health.Insurance.Coverage.by.Age..65.years.and.over..With.two.or.more.types.of.health.insurance.coverage.With.employer.based.and.Medicare.coverage                    48645.462646\n",
       "Types.of.Health.Insurance.Coverage.by.Age..65.years.and.over..With.two.or.more.types.of.health.insurance.coverage.With.direct.purchase.and.Medicare.coverage                   39912.031053\n",
       "Types.of.Health.Insurance.Coverage.by.Age..65.years.and.over..With.two.or.more.types.of.health.insurance.coverage.With.Medicare.and.Medicaid.means.tested.public.coverage      21917.255626\n",
       "Types.of.Health.Insurance.Coverage.by.Age..65.years.and.over..With.two.or.more.types.of.health.insurance.coverage.Other.private.only.combinations                                 40.810981\n",
       "Types.of.Health.Insurance.Coverage.by.Age..65.years.and.over..With.two.or.more.types.of.health.insurance.coverage.Other.public.only.combinations                                4016.001350\n",
       "Types.of.Health.Insurance.Coverage.by.Age..65.years.and.over..With.two.or.more.types.of.health.insurance.coverage.Other.coverage.combinations                                  43874.549505\n",
       "Types.of.Health.Insurance.Coverage.by.Age..65.years.and.over..No.health.insurance.coverage                                                                                      3225.207021\n",
       "married                                                                                                                                                                           46.505610\n",
       "divorced                                                                                                                                                                          10.653497\n",
       "bad_english                                                                                                                                                                        6.581784\n",
       "poverty                                                                                                                                                                           17.348598\n",
       "dtype: float64"
      ]
     },
     "execution_count": 4,
     "metadata": {},
     "output_type": "execute_result"
    }
   ],
   "source": [
    "sal.mean()"
   ]
  },
  {
   "cell_type": "code",
   "execution_count": 5,
   "metadata": {
    "collapsed": true
   },
   "outputs": [],
   "source": [
    "sal['missingSalary'] = pd.isnull(sal['salary'])\n",
    "sal2 = sal[(sal.missingSalary == False)]\n",
    "# elminates missing Y values"
   ]
  },
  {
   "cell_type": "code",
   "execution_count": 6,
   "metadata": {
    "collapsed": false
   },
   "outputs": [],
   "source": [
    "# list of X vars to include\n",
    "X_numeric_features = ['sup1', 'sup2', 'sup3', 'sup4', 'sup5', 'disabled', 'yearsinposition', \n",
    "         'yearsinprofession', 'age', 'cred1', 'cred2', 'inst1', 'inst2', 'inst3', 'inst4', 'inst5', 'instbudget', 'instsize']\n",
    "X_numeric = sal2[X_numeric_features]\n",
    "X_categorical_features = ['function.', 'gender', 'race', 'highestdegree', 'category', 'insttype']\n",
    "X_categorical = sal2[X_categorical_features]"
   ]
  },
  {
   "cell_type": "code",
   "execution_count": 7,
   "metadata": {
    "collapsed": false
   },
   "outputs": [],
   "source": [
    "# extra data\n",
    "# X_extra_features = ['median', 'mean', 'pop', 'snap', 'renter', 'median_rent', 'full_time', 'high_rent_burden']\n",
    "# X_extra = sal2[X_extra_features]\n",
    "\n",
    "#X_extra = sal2.iloc[:,30:124].values\n",
    "X_extra = sal2.loc[:,'ZCTA5':'poverty'].values"
   ]
  },
  {
   "cell_type": "code",
   "execution_count": 8,
   "metadata": {
    "collapsed": false
   },
   "outputs": [],
   "source": [
    "# create dummy variables for each of the categorical features\n",
    "# DOC: http://pandas.pydata.org/pandas-docs/stable/generated/pandas.get_dummies.html\n",
    "\n",
    "function_dummies = pd.get_dummies(X_categorical['function.'])\n",
    "gender_dummies = pd.get_dummies(X_categorical['gender'])\n",
    "race_dummies = pd.get_dummies(X_categorical['race'])\n",
    "highestdegree_dummies = pd.get_dummies(X_categorical['highestdegree'])\n",
    "category_dummies = pd.get_dummies(X_categorical['category'])\n",
    "insttype_dummies = pd.get_dummies(X_categorical['insttype'])\n",
    "\n",
    "X_dummy_features = pd.concat([function_dummies, gender_dummies, race_dummies, highestdegree_dummies, category_dummies, insttype_dummies], axis=1)\n",
    "\n",
    "# convert to ndarray\n",
    "X_dummy_features = X_dummy_features.as_matrix()"
   ]
  },
  {
   "cell_type": "code",
   "execution_count": 9,
   "metadata": {
    "collapsed": true
   },
   "outputs": [],
   "source": [
    "# impute missing values in numerical features\n",
    "# DOC: http://scikit-learn.org/stable/modules/preprocessing.html\n",
    "\n",
    "from sklearn.preprocessing import Imputer\n",
    "imp = Imputer()\n",
    "imp.fit(X_numeric)\n",
    "X_numeric_imputed = imp.transform(X_numeric)"
   ]
  },
  {
   "cell_type": "code",
   "execution_count": 10,
   "metadata": {
    "collapsed": false
   },
   "outputs": [],
   "source": [
    "imp.fit(X_extra)\n",
    "X_extra_imputed = imp.transform(X_extra)"
   ]
  },
  {
   "cell_type": "code",
   "execution_count": 11,
   "metadata": {
    "collapsed": true
   },
   "outputs": [],
   "source": [
    "X = np.concatenate((X_dummy_features, X_numeric_imputed, X_extra_imputed), axis=1)"
   ]
  },
  {
   "cell_type": "code",
   "execution_count": 13,
   "metadata": {
    "collapsed": false
   },
   "outputs": [],
   "source": [
    "# y is salary\n",
    "y = sal2.loc[:, 'salary'].values"
   ]
  },
  {
   "cell_type": "code",
   "execution_count": 14,
   "metadata": {
    "collapsed": true
   },
   "outputs": [],
   "source": [
    "# create training and test sets\n",
    "from sklearn.cross_validation import train_test_split\n",
    "\n",
    "X_train, X_test, y_train, y_test = train_test_split(\n",
    "         X, y, test_size=0.3, random_state=0)"
   ]
  },
  {
   "cell_type": "code",
   "execution_count": 15,
   "metadata": {
    "collapsed": true
   },
   "outputs": [],
   "source": [
    "# keep track of variance on test data, to graph\n",
    "var_to_graph = {}\n",
    "# bring residual sum of squares from regression1.ipynb\n",
    "var_to_graph['simpReg'] = 265376883.08"
   ]
  },
  {
   "cell_type": "code",
   "execution_count": 16,
   "metadata": {
    "collapsed": true
   },
   "outputs": [],
   "source": [
    "from sklearn import datasets, linear_model\n",
    "# DOC: http://scikit-learn.org/stable/modules/generated/sklearn.linear_model.LinearRegression.html"
   ]
  },
  {
   "cell_type": "code",
   "execution_count": 17,
   "metadata": {
    "collapsed": false
   },
   "outputs": [
    {
     "name": "stdout",
     "output_type": "stream",
     "text": [
      "Intercept: \n",
      " 1220224.84142\n",
      "Coefficients: \n",
      " [ -1.95421435e+03  -1.46554525e+04  -1.81752632e+04  -1.83757877e+04\n",
      "  -1.11103607e+04  -1.02356410e+04  -1.74610733e+04  -1.87352852e+04\n",
      "  -1.64908849e+04  -1.03376418e+04  -1.41015046e+04  -9.55814226e+03\n",
      "  -1.89853115e+04  -2.01825453e+04  -1.53971377e+04  -2.00437842e+04\n",
      "  -1.66789786e+04  -2.00702700e+04  -1.87010661e+04  -1.70165578e+04\n",
      "  -1.03705736e+04  -1.00508650e+04  -1.61142087e+04  -1.39560795e+04\n",
      "  -1.68618107e+04  -1.57483090e+04  -1.56938502e+04  -1.83562269e+04\n",
      "  -2.60616243e+03  -4.11931563e+03   2.27548146e+03   4.74584081e+03\n",
      "   2.06620729e+03   4.59597643e+03   3.27912912e+02   1.25095092e+04\n",
      "   5.28069770e+03   3.56810071e+03   5.57822230e+03   1.63044353e+04\n",
      "   9.93266881e+03  -1.74241434e+03  -2.84250446e+03   2.84250446e+03\n",
      "   6.03006088e+03   3.64033141e+03   1.68167130e+03   5.06608742e+02\n",
      "  -1.93671537e+01  -2.47231539e+00   4.18742230e+00   1.49161799e+03\n",
      "   3.54154109e+01   3.54430409e+02   2.36561617e+02   2.02277673e+03\n",
      "  -3.88232369e+02  -5.60323744e+01   1.90814888e+02  -4.31849412e+02\n",
      "   8.30656501e+00  -3.14744453e+01   4.90211439e-04   7.51493925e-02\n",
      "   1.17274201e-01   2.73392190e-01  -5.18771132e-01   1.10263840e-04\n",
      "   3.71776351e+03   2.33913272e+03  -6.70955667e+03  -3.71776351e+03\n",
      "  -2.33913272e+03   6.70955667e+03   2.76697723e+04   2.82234875e+04\n",
      "  -5.52944560e+04   8.97345889e+03   8.56935313e+03  -1.93334038e+04\n",
      "   1.02563439e+04   9.51966675e+03  -2.04287359e+04   1.28288502e+03\n",
      "   9.50313618e+02  -1.09533205e+03  -1.12323852e+04  -1.24320085e+04\n",
      "  -1.19132117e+04  -1.09515747e+04  -1.28294910e+04  -1.03290232e+04\n",
      "   2.54176052e-02  -6.67281843e-02  -5.70880595e-04  -3.38253503e-01\n",
      "   1.14060559e-01   1.12905255e+03   9.72085841e+02  -6.40427584e+02\n",
      "  -3.31693698e+02   3.31693698e+02   1.55088478e+01  -3.03050495e-01\n",
      "   8.66785863e-01   2.78245715e+00   7.08718503e+00   9.73886917e+00\n",
      "   2.70273144e+00  -3.35348028e+00   1.88466118e+00   4.77989718e-02\n",
      "   6.49900741e+00  -2.00097831e+00  -4.62819030e-01   5.62780028e+00\n",
      "  -5.08337407e+00  -2.36963538e+00  -3.47657509e+00   9.94017087e-01\n",
      "  -3.59123504e-01   6.52908482e+00  -1.04284193e+01   4.79351825e+00\n",
      "  -1.16574895e+01  -6.05070423e+00  -4.61491864e+00  -2.22160904e-01\n",
      "   6.99017873e-01  -3.49976264e+00  -2.01841753e+00  -5.31484427e+00\n",
      "  -1.17068673e+00   3.00674517e+00   8.29731706e+00   1.35104816e+00\n",
      "   2.88955979e+00   6.62239393e-01  -1.17244880e+00  -9.33372733e+00\n",
      "   7.46226912e+00  -8.55689353e+00   3.30726307e+00  -4.26564389e-01\n",
      "  -2.86816494e+00  -3.09653145e+00  -1.56753267e+00   2.57145219e+00\n",
      "   5.02172542e+00  -1.21505666e+00   4.75231623e+00  -3.99022932e+03\n",
      "  -3.04145337e+03  -2.16938267e+03  -4.92839475e+02   4.92839476e+02\n",
      "   4.39799338e+01  -1.25544225e+03   3.19046621e+02  -3.19046621e+02\n",
      "  -8.37891577e+02   6.88274489e+02   3.68154241e+05   3.28987091e+01\n",
      "   1.09598540e+03  -7.43008003e-01  -7.75079994e-01   3.68982000e+00\n",
      "  -2.16101716e+00   8.80046032e-01  -3.62345560e+00  -1.95308806e+00\n",
      "  -7.49927310e+00   1.80458015e+01  -6.26732211e+00   3.10180031e+00\n",
      "  -3.87853126e+00   2.18814845e+01   9.70035182e+00  -4.57429498e+01\n",
      "   8.67059806e+00   1.80162162e+00  -3.20675254e+00   6.31563115e-01\n",
      "   2.61169350e+00   7.23171980e-01  -4.50973937e+00   1.39088705e+00\n",
      "   5.86205834e+00  -5.44642919e+00  -6.09938253e+00   8.83301111e+00\n",
      "   2.11763633e+01  -1.69375236e+00   3.54062518e+00  -4.94091352e+01\n",
      "   1.14535447e+01   2.26124456e+00   1.81554462e+00   1.44686498e+00\n",
      "  -8.11527187e-01   1.68792004e-01   4.22923308e+00  -8.75674983e-02\n",
      "   6.85522654e+00  -8.90776443e+00  -4.99030010e-01   4.26076621e+00\n",
      "  -1.12040560e+01  -5.45759612e+00   6.03792931e+00  -4.72369858e+00\n",
      "   1.33073845e+01  -2.71960960e+00   8.65666919e-01   1.42265413e+00\n",
      "   3.52622867e-01  -1.12209963e+00   1.31451676e+01  -6.41686163e-01\n",
      "   6.61011200e+00  -1.76394227e+01  -1.10868641e+01  -7.58637152e-01\n",
      "   1.27795407e+01   1.08166378e+01   1.05869880e+01  -7.62589326e+01\n",
      "   1.86213422e+01   1.31265914e+01   1.21566160e+01   1.18195194e+03\n",
      "  -3.28167566e+02  -6.37531157e+02  -2.08578400e+03]\n",
      "Residual sum of squares, training data: 64660303.74\n",
      "Residual sum of squares, test data: 93278409.05\n",
      "Variance score, training data: 0.80\n",
      "Distribution of prediction error on training data:\n"
     ]
    },
    {
     "data": {
      "image/png": "[encoded data removed]",
      "text/plain": [
       "<matplotlib.figure.Figure at 0x10b6e0e48>"
      ]
     },
     "metadata": {},
     "output_type": "display_data"
    },
    {
     "name": "stdout",
     "output_type": "stream",
     "text": [
      "Distribution of prediction error on test data:\n"
     ]
    },
    {
     "data": {
      "image/png": "[encoded data removed]",
      "text/plain": [
       "<matplotlib.figure.Figure at 0x1159a1c18>"
      ]
     },
     "metadata": {},
     "output_type": "display_data"
    }
   ],
   "source": [
    "# Create linear regression object\n",
    "regr = linear_model.LinearRegression()\n",
    "\n",
    "# Train the model using the training sets\n",
    "X_train_no_intercept = X_train\n",
    "X_train = X_train.reshape(-1, X_train.shape[1])\n",
    "regr.fit(X_train, y_train)\n",
    "\n",
    "# The intercept\n",
    "print('Intercept: \\n', regr.intercept_)\n",
    "# The coefficients\n",
    "print('Coefficients: \\n', regr.coef_)\n",
    "# The mean square error\n",
    "print(\"Residual sum of squares, training data: %.2f\"\n",
    "      % np.mean((regr.predict(X_train) - y_train) ** 2))\n",
    "print(\"Residual sum of squares, test data: %.2f\"\n",
    "      % np.mean((regr.predict(X_test) - y_test) ** 2))\n",
    "var_to_graph['multReg_linear'] = np.mean((regr.predict(X_test) - y_test) ** 2)\n",
    "# Explained variance score: 1 is perfect prediction\n",
    "print('Variance score, training data: %.2f' % regr.score(X_train, y_train))\n",
    "#vector of prediction error\n",
    "print('Distribution of prediction error on training data:')\n",
    "predError = regr.predict(X_train) - y_train\n",
    "plt.hist(predError)\n",
    "plt.show()\n",
    "\n",
    "print('Distribution of prediction error on test data:')\n",
    "predError = regr.predict(X_test) - y_test\n",
    "plt.hist(predError)\n",
    "plt.show()"
   ]
  },
  {
   "cell_type": "code",
   "execution_count": 18,
   "metadata": {
    "collapsed": true
   },
   "outputs": [],
   "source": [
    "from sklearn.preprocessing import PolynomialFeatures\n",
    "# DOC: http://scikit-learn.org/stable/modules/preprocessing.html\n",
    "\n",
    "poly = PolynomialFeatures(2)\n",
    "X_poly = poly.fit_transform(X)"
   ]
  },
  {
   "cell_type": "code",
   "execution_count": 19,
   "metadata": {
    "collapsed": true
   },
   "outputs": [],
   "source": [
    "# create training and test sets\n",
    "from sklearn.cross_validation import train_test_split\n",
    "\n",
    "X_train, X_test, y_train, y_test = train_test_split(\n",
    "         X_poly, y, test_size=0.3, random_state=0)"
   ]
  },
  {
   "cell_type": "code",
   "execution_count": 20,
   "metadata": {
    "collapsed": false
   },
   "outputs": [
    {
     "name": "stdout",
     "output_type": "stream",
     "text": [
      "Intercept: \n",
      " 20193.8272361\n",
      "Coefficients: \n",
      " [ -2.04304955e+01   2.27528937e+03   1.06552081e+03 ...,   2.07320413e+00\n",
      "   6.40272127e+00  -4.58300209e-01]\n",
      "Residual sum of squares, training data: 0.00\n",
      "Residual sum of squares, test data: 9908494149.85\n",
      "Variance score, training data: 1.00\n",
      "Distribution of prediction error on training data:\n"
     ]
    },
    {
     "data": {
      "image/png": "[encoded data removed]",
      "text/plain": [
       "<matplotlib.figure.Figure at 0x1158bca58>"
      ]
     },
     "metadata": {},
     "output_type": "display_data"
    },
    {
     "name": "stdout",
     "output_type": "stream",
     "text": [
      "Distribution of prediction error on test data:\n"
     ]
    },
    {
     "data": {
      "image/png": "[encoded data removed]",
      "text/plain": [
       "<matplotlib.figure.Figure at 0x1159b8390>"
      ]
     },
     "metadata": {},
     "output_type": "display_data"
    }
   ],
   "source": [
    "## POLYNOMINAL \n",
    "# Create linear regression object\n",
    "poly = linear_model.LinearRegression(normalize=True)\n",
    "\n",
    "# Train the model using the training sets\n",
    "X_train_no_intercept = X_train\n",
    "X_train = X_train.reshape(-1, X_train.shape[1])\n",
    "poly.fit(X_train, y_train)\n",
    "\n",
    "# The intercept\n",
    "print('Intercept: \\n', poly.intercept_)\n",
    "# The coefficients\n",
    "print('Coefficients: \\n', poly.coef_)\n",
    "# The mean square error\n",
    "print(\"Residual sum of squares, training data: %.2f\"\n",
    "      % np.mean((poly.predict(X_train) - y_train) ** 2))\n",
    "print(\"Residual sum of squares, test data: %.2f\"\n",
    "      % np.mean((poly.predict(X_test) - y_test) ** 2))\n",
    "var_to_graph['multReg_poly'] = np.mean((poly.predict(X_test) - y_test) ** 2)\n",
    "# Explained variance score: 1 is perfect prediction\n",
    "print('Variance score, training data: %.2f' % poly.score(X_train, y_train))\n",
    "#vector of prediction error\n",
    "print('Distribution of prediction error on training data:')\n",
    "predError = poly.predict(X_train) - y_train\n",
    "plt.hist(predError)\n",
    "plt.show()\n",
    "\n",
    "print('Distribution of prediction error on test data:')\n",
    "predError = poly.predict(X_test) - y_test\n",
    "plt.hist(predError)\n",
    "plt.show()"
   ]
  },
  {
   "cell_type": "code",
   "execution_count": 21,
   "metadata": {
    "collapsed": false
   },
   "outputs": [
    {
     "name": "stdout",
     "output_type": "stream",
     "text": [
      "Intercept: \n",
      " 243500.929049\n",
      "Coefficients: \n",
      " [  9.93210784e+03  -1.67025292e+03  -5.15476721e+03  -4.84253860e+03\n",
      "   1.48723576e+03   2.73574270e+03  -4.36751397e+03  -5.25571399e+03\n",
      "  -3.04908862e+03   2.08702178e+03  -9.68774693e+02   2.89723660e+03\n",
      "  -5.99111518e+03  -6.68749002e+03  -2.28466030e+03  -5.53177808e+03\n",
      "  -3.33040767e+03  -6.86208327e+03  -2.81914330e+03  -3.86722636e+03\n",
      "   1.66735175e+03   2.57648950e+03  -3.15073442e+03  -9.17429834e+02\n",
      "  -3.82470465e+03  -2.43785447e+03  -2.43667950e+03  -5.35453515e+03\n",
      "  -2.25789996e+02  -1.71124712e+03   1.35341000e+01   2.51667538e+03\n",
      "  -1.46266211e+02   2.47913498e+03  -1.70060847e+03   8.13995542e+03\n",
      "   2.87297697e+03   1.83243715e+02   1.93824858e+03   1.22876792e+04\n",
      "   6.25846743e+03  -5.34806234e+03  -1.71408688e+02   1.71408743e+02\n",
      "   4.65816950e+03   2.57539949e+03   1.76695865e+03   5.04721189e+02\n",
      "  -1.49766402e+01  -3.91362129e+00   5.01912264e+00   1.52293141e+03\n",
      "   2.51480350e+01   3.77277259e+02   2.31421749e+02   2.34286540e+03\n",
      "  -3.46757639e+02  -6.91610381e+01   2.99199960e+02  -3.36699320e+02\n",
      "   8.32291078e+00  -2.53566977e+01   1.49629491e-04   8.91434984e-02\n",
      "   1.66942897e-01   1.54694710e-01  -9.56812187e-01   3.38648360e-01\n",
      "   4.41265666e+02  -3.64169836e+02  -1.16918262e+02  -4.41265294e+02\n",
      "   3.64170040e+02   1.16918381e+02   3.34107713e+02   2.32222384e+02\n",
      "   5.30841775e+02  -1.31707490e+02  -2.51000289e+02  -3.44625728e+02\n",
      "   7.46860164e+02  -7.15532507e+00  -4.84558950e+02   8.78568420e+02\n",
      "   2.43844796e+02  -1.39933504e+02  -2.72865519e+03  -3.28823827e+03\n",
      "  -2.70406729e+03  -2.67420519e+03  -3.06931590e+03  -2.47786686e+03\n",
      "   5.29901007e-02  -4.64447479e-02  -1.29116179e-02  -2.48974521e-01\n",
      "  -6.94241220e-02   5.17221831e+02  -3.72663395e+02  -3.67341033e+02\n",
      "  -2.94613823e+02   2.94613820e+02   3.11072562e+00  -6.33570105e-01\n",
      "  -3.22156378e+00  -7.49066560e+00  -3.58771549e+00   3.70284256e+00\n",
      "   5.96778680e+00  -2.44193321e-01  -8.22780260e-01  -1.92909823e+00\n",
      "   2.38338853e+00   6.65425936e+00   6.98336296e-01   2.04641878e+00\n",
      "   2.35379054e+00  -9.47055655e+00  -2.52850184e+00  -1.28472872e+00\n",
      "  -2.02253287e-01   9.92407487e+00  -2.72666675e+00   2.32950537e+00\n",
      "  -1.00107409e+01   8.58135101e+00  -1.75479031e+00  -3.22557234e-01\n",
      "  -7.22585014e+00  -1.00152278e+01  -9.31433200e+00  -1.02763793e+01\n",
      "  -6.72227933e-01   3.65421510e+00   6.58185077e+00   5.63813187e+00\n",
      "   1.26947875e+00  -2.38474162e+00  -3.58444989e+00  -8.97370778e+00\n",
      "   2.33575723e+00  -2.86207853e+00  -1.66997719e+00  -5.25120969e+00\n",
      "  -4.16079476e-01   6.57122821e+00   4.11189380e+00   1.53118049e+01\n",
      "   4.52371696e+00   7.70896365e+00   4.61549285e+00  -4.33448920e+03\n",
      "  -2.06399802e+03  -1.95496568e+03   3.79461781e+02  -3.79461561e+02\n",
      "   3.57164260e+02  -4.83194407e+02  -5.78747017e+02   5.78747509e+02\n",
      "   2.57139437e+01   3.93904058e+02   3.28388627e+03  -2.39800716e+02\n",
      "   9.25758309e+02   1.26217421e+00   2.70493276e+00   7.14035584e+00\n",
      "  -3.15527249e+00  -2.48326676e-01   6.53526774e+00  -3.11125833e+00\n",
      "  -7.54731632e+00   1.46668198e+01  -9.01510761e+00   7.27758121e+00\n",
      "  -1.39809640e+01   1.47276838e+01   1.64877747e+01  -4.72718635e+01\n",
      "   1.37446157e+01   4.57948132e+00  -7.86719191e-01  -4.44119293e-01\n",
      "  -4.88710985e-01  -1.94389045e+00  -3.04926446e+00  -1.41805749e+00\n",
      "   3.75370913e+00   2.70203802e+00   2.21378153e+00  -3.16239954e+00\n",
      "   1.31942090e+01  -7.33249145e-01  -8.78207250e+00  -7.47536637e-01\n",
      "   2.44481209e+00  -2.55590522e+00   1.53834796e+00   5.03838965e-01\n",
      "  -9.89413968e-02   3.00554041e-01   2.51524632e+00   2.09129419e-01\n",
      "   5.10084997e+00  -7.52240599e+00  -3.15089205e-01   1.51700537e+00\n",
      "  -8.67472291e+00  -2.26249009e+00   4.36651935e+00  -3.23271221e+00\n",
      "   9.89480019e+00  -1.92418750e+00   1.34951888e+00  -2.19430162e+00\n",
      "   7.67111042e+00  -7.04861529e+00   1.16518834e+01  -1.05633263e+01\n",
      "   2.31722432e+01  -9.54132872e+00  -9.74373407e+00   3.60578643e+01\n",
      "   8.40584478e+00   6.99984416e+00   5.66780624e+00  -8.60898778e+01\n",
      "   1.12771508e+01   7.93762459e+00  -1.21093182e-01   2.43280368e+02\n",
      "  -3.11151736e+02   2.12470016e+03   2.09366525e+02]\n",
      "Residual sum of squares, training data: 66144772.80\n",
      "Residual sum of squares, test data: 89629429.78\n",
      "Variance score, training data: 0.79\n",
      "Distribution of prediction error on training data:\n"
     ]
    },
    {
     "data": {
      "image/png": "[encoded data removed]",
      "text/plain": [
       "<matplotlib.figure.Figure at 0x1155832e8>"
      ]
     },
     "metadata": {},
     "output_type": "display_data"
    },
    {
     "name": "stdout",
     "output_type": "stream",
     "text": [
      "Distribution of prediction error on test data:\n"
     ]
    },
    {
     "data": {
      "image/png": "[encoded data removed]",
      "text/plain": [
       "<matplotlib.figure.Figure at 0x136c7dc50>"
      ]
     },
     "metadata": {},
     "output_type": "display_data"
    }
   ],
   "source": [
    "## RIDGE REGRESSION\n",
    "# DOC: http://scikit-learn.org/stable/modules/generated/sklearn.linear_model.Ridge.html\n",
    "\n",
    "# create training and test sets\n",
    "from sklearn.cross_validation import train_test_split\n",
    "\n",
    "X_train, X_test, y_train, y_test = train_test_split(\n",
    "         X, y, test_size=0.3, random_state=0)\n",
    "\n",
    "# Create linear regression object\n",
    "regr = linear_model.Ridge()\n",
    "\n",
    "# Train the model using the training sets\n",
    "X_train_no_intercept = X_train\n",
    "X_train = X_train.reshape(-1, X_train.shape[1])\n",
    "regr.fit(X_train, y_train)\n",
    "\n",
    "# The intercept\n",
    "print('Intercept: \\n', regr.intercept_)\n",
    "# The coefficients\n",
    "print('Coefficients: \\n', regr.coef_)\n",
    "# The mean square error\n",
    "print(\"Residual sum of squares, training data: %.2f\"\n",
    "      % np.mean((regr.predict(X_train) - y_train) ** 2))\n",
    "print(\"Residual sum of squares, test data: %.2f\"\n",
    "      % np.mean((regr.predict(X_test) - y_test) ** 2))\n",
    "var_to_graph['multReg_ridge'] = np.mean((regr.predict(X_test) - y_test) ** 2)\n",
    "# Explained variance score: 1 is perfect prediction\n",
    "print('Variance score, training data: %.2f' % regr.score(X_train, y_train))\n",
    "#vector of prediction error\n",
    "print('Distribution of prediction error on training data:')\n",
    "predError = regr.predict(X_train) - y_train\n",
    "plt.hist(predError)\n",
    "plt.show()\n",
    "\n",
    "print('Distribution of prediction error on test data:')\n",
    "predError = regr.predict(X_test) - y_test\n",
    "plt.hist(predError)\n",
    "plt.show()"
   ]
  },
  {
   "cell_type": "code",
   "execution_count": 22,
   "metadata": {
    "collapsed": false
   },
   "outputs": [
    {
     "data": {
      "image/png": "[encoded data removed]",
      "text/plain": [
       "<matplotlib.figure.Figure at 0x115570b00>"
      ]
     },
     "metadata": {},
     "output_type": "display_data"
    }
   ],
   "source": [
    "# bar graph of dict with Residual Sum of Squares on test datasets\n",
    "\n",
    "#var_to_graph['multReg_poly'] = 0\n",
    "plt.bar(range(len(var_to_graph)), var_to_graph.values(), align='center')\n",
    "plt.xticks(range(len(var_to_graph)), var_to_graph.keys())\n",
    "\n",
    "plt.show()"
   ]
  },
  {
   "cell_type": "code",
   "execution_count": null,
   "metadata": {
    "collapsed": true
   },
   "outputs": [],
   "source": []
  }
 ],
 "metadata": {
  "kernelspec": {
   "display_name": "Python 3",
   "language": "python",
   "name": "python3"
  },
  "language_info": {
   "codemirror_mode": {
    "name": "ipython",
    "version": 3
   },
   "file_extension": ".py",
   "mimetype": "text/x-python",
   "name": "python",
   "nbconvert_exporter": "python",
   "pygments_lexer": "ipython3",
   "version": "3.5.1"
  }
 },
 "nbformat": 4,
 "nbformat_minor": 0
}
