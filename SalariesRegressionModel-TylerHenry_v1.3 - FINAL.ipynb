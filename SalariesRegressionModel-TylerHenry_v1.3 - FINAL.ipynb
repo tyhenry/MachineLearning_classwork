{
 "cells": [
  {
   "cell_type": "code",
   "execution_count": 1,
   "metadata": {
    "collapsed": false
   },
   "outputs": [],
   "source": [
    "import numpy as np\n",
    "import pandas as pd\n",
    "import matplotlib.pyplot as plt\n",
    "%matplotlib inline"
   ]
  },
  {
   "cell_type": "code",
   "execution_count": 2,
   "metadata": {
    "collapsed": false
   },
   "outputs": [],
   "source": [
    "sal = pd.read_csv('merged_cbsa_salary.csv')\n",
    "# note: using Andrew's census data here - Thanks Andrew!"
   ]
  },
  {
   "cell_type": "code",
   "execution_count": 3,
   "metadata": {
    "collapsed": false
   },
   "outputs": [
    {
     "data": {
      "text/html": [
       "<div>\n",
       "<table border=\"1\" class=\"dataframe\">\n",
       "  <thead>\n",
       "    <tr style=\"text-align: right;\">\n",
       "      <th></th>\n",
       "      <th>Unnamed: 0</th>\n",
       "      <th>zip</th>\n",
       "      <th>function.</th>\n",
       "      <th>sup1</th>\n",
       "      <th>sup2</th>\n",
       "      <th>sup3</th>\n",
       "      <th>sup4</th>\n",
       "      <th>sup5</th>\n",
       "      <th>salary</th>\n",
       "      <th>gender</th>\n",
       "      <th>...</th>\n",
       "      <th>Types.of.Health.Insurance.Coverage.by.Age..65.years.and.over..With.two.or.more.types.of.health.insurance.coverage.With.direct.purchase.and.Medicare.coverage</th>\n",
       "      <th>Types.of.Health.Insurance.Coverage.by.Age..65.years.and.over..With.two.or.more.types.of.health.insurance.coverage.With.Medicare.and.Medicaid.means.tested.public.coverage</th>\n",
       "      <th>Types.of.Health.Insurance.Coverage.by.Age..65.years.and.over..With.two.or.more.types.of.health.insurance.coverage.Other.private.only.combinations</th>\n",
       "      <th>Types.of.Health.Insurance.Coverage.by.Age..65.years.and.over..With.two.or.more.types.of.health.insurance.coverage.Other.public.only.combinations</th>\n",
       "      <th>Types.of.Health.Insurance.Coverage.by.Age..65.years.and.over..With.two.or.more.types.of.health.insurance.coverage.Other.coverage.combinations</th>\n",
       "      <th>Types.of.Health.Insurance.Coverage.by.Age..65.years.and.over..No.health.insurance.coverage</th>\n",
       "      <th>married</th>\n",
       "      <th>divorced</th>\n",
       "      <th>bad_english</th>\n",
       "      <th>poverty</th>\n",
       "    </tr>\n",
       "  </thead>\n",
       "  <tbody>\n",
       "    <tr>\n",
       "      <th>0</th>\n",
       "      <td>1</td>\n",
       "      <td>1003</td>\n",
       "      <td>position1</td>\n",
       "      <td>4</td>\n",
       "      <td>4</td>\n",
       "      <td>0</td>\n",
       "      <td>0</td>\n",
       "      <td>0</td>\n",
       "      <td>77308</td>\n",
       "      <td>M</td>\n",
       "      <td>...</td>\n",
       "      <td>16686</td>\n",
       "      <td>9442</td>\n",
       "      <td>0</td>\n",
       "      <td>1289</td>\n",
       "      <td>18508</td>\n",
       "      <td>194</td>\n",
       "      <td>42.023943</td>\n",
       "      <td>10.485747</td>\n",
       "      <td>7.930932</td>\n",
       "      <td>16.801532</td>\n",
       "    </tr>\n",
       "    <tr>\n",
       "      <th>1</th>\n",
       "      <td>2</td>\n",
       "      <td>1003</td>\n",
       "      <td>position15</td>\n",
       "      <td>0</td>\n",
       "      <td>2</td>\n",
       "      <td>0</td>\n",
       "      <td>60</td>\n",
       "      <td>0</td>\n",
       "      <td>38120</td>\n",
       "      <td>M</td>\n",
       "      <td>...</td>\n",
       "      <td>16686</td>\n",
       "      <td>9442</td>\n",
       "      <td>0</td>\n",
       "      <td>1289</td>\n",
       "      <td>18508</td>\n",
       "      <td>194</td>\n",
       "      <td>42.023943</td>\n",
       "      <td>10.485747</td>\n",
       "      <td>7.930932</td>\n",
       "      <td>16.801532</td>\n",
       "    </tr>\n",
       "    <tr>\n",
       "      <th>2</th>\n",
       "      <td>3</td>\n",
       "      <td>1003</td>\n",
       "      <td>position15</td>\n",
       "      <td>1</td>\n",
       "      <td>0</td>\n",
       "      <td>0</td>\n",
       "      <td>60</td>\n",
       "      <td>2</td>\n",
       "      <td>55335</td>\n",
       "      <td>W</td>\n",
       "      <td>...</td>\n",
       "      <td>16686</td>\n",
       "      <td>9442</td>\n",
       "      <td>0</td>\n",
       "      <td>1289</td>\n",
       "      <td>18508</td>\n",
       "      <td>194</td>\n",
       "      <td>42.023943</td>\n",
       "      <td>10.485747</td>\n",
       "      <td>7.930932</td>\n",
       "      <td>16.801532</td>\n",
       "    </tr>\n",
       "    <tr>\n",
       "      <th>3</th>\n",
       "      <td>4</td>\n",
       "      <td>1003</td>\n",
       "      <td>position4</td>\n",
       "      <td>1</td>\n",
       "      <td>0</td>\n",
       "      <td>0</td>\n",
       "      <td>35</td>\n",
       "      <td>1</td>\n",
       "      <td>70863</td>\n",
       "      <td>W</td>\n",
       "      <td>...</td>\n",
       "      <td>16686</td>\n",
       "      <td>9442</td>\n",
       "      <td>0</td>\n",
       "      <td>1289</td>\n",
       "      <td>18508</td>\n",
       "      <td>194</td>\n",
       "      <td>42.023943</td>\n",
       "      <td>10.485747</td>\n",
       "      <td>7.930932</td>\n",
       "      <td>16.801532</td>\n",
       "    </tr>\n",
       "    <tr>\n",
       "      <th>4</th>\n",
       "      <td>5</td>\n",
       "      <td>1003</td>\n",
       "      <td>position9</td>\n",
       "      <td>1</td>\n",
       "      <td>0</td>\n",
       "      <td>0</td>\n",
       "      <td>100</td>\n",
       "      <td>0</td>\n",
       "      <td>56557</td>\n",
       "      <td>M</td>\n",
       "      <td>...</td>\n",
       "      <td>16686</td>\n",
       "      <td>9442</td>\n",
       "      <td>0</td>\n",
       "      <td>1289</td>\n",
       "      <td>18508</td>\n",
       "      <td>194</td>\n",
       "      <td>42.023943</td>\n",
       "      <td>10.485747</td>\n",
       "      <td>7.930932</td>\n",
       "      <td>16.801532</td>\n",
       "    </tr>\n",
       "  </tbody>\n",
       "</table>\n",
       "<p>5 rows × 201 columns</p>\n",
       "</div>"
      ],
      "text/plain": [
       "   Unnamed: 0   zip   function.  sup1  sup2  sup3  sup4  sup5  salary gender  \\\n",
       "0           1  1003   position1     4     4     0     0     0   77308      M   \n",
       "1           2  1003  position15     0     2     0    60     0   38120      M   \n",
       "2           3  1003  position15     1     0     0    60     2   55335      W   \n",
       "3           4  1003   position4     1     0     0    35     1   70863      W   \n",
       "4           5  1003   position9     1     0     0   100     0   56557      M   \n",
       "\n",
       "     ...      \\\n",
       "0    ...       \n",
       "1    ...       \n",
       "2    ...       \n",
       "3    ...       \n",
       "4    ...       \n",
       "\n",
       "  Types.of.Health.Insurance.Coverage.by.Age..65.years.and.over..With.two.or.more.types.of.health.insurance.coverage.With.direct.purchase.and.Medicare.coverage  \\\n",
       "0                                              16686                                                                                                             \n",
       "1                                              16686                                                                                                             \n",
       "2                                              16686                                                                                                             \n",
       "3                                              16686                                                                                                             \n",
       "4                                              16686                                                                                                             \n",
       "\n",
       "  Types.of.Health.Insurance.Coverage.by.Age..65.years.and.over..With.two.or.more.types.of.health.insurance.coverage.With.Medicare.and.Medicaid.means.tested.public.coverage  \\\n",
       "0                                               9442                                                                                                                          \n",
       "1                                               9442                                                                                                                          \n",
       "2                                               9442                                                                                                                          \n",
       "3                                               9442                                                                                                                          \n",
       "4                                               9442                                                                                                                          \n",
       "\n",
       "   Types.of.Health.Insurance.Coverage.by.Age..65.years.and.over..With.two.or.more.types.of.health.insurance.coverage.Other.private.only.combinations  \\\n",
       "0                                                  0                                                                                                   \n",
       "1                                                  0                                                                                                   \n",
       "2                                                  0                                                                                                   \n",
       "3                                                  0                                                                                                   \n",
       "4                                                  0                                                                                                   \n",
       "\n",
       "   Types.of.Health.Insurance.Coverage.by.Age..65.years.and.over..With.two.or.more.types.of.health.insurance.coverage.Other.public.only.combinations  \\\n",
       "0                                               1289                                                                                                  \n",
       "1                                               1289                                                                                                  \n",
       "2                                               1289                                                                                                  \n",
       "3                                               1289                                                                                                  \n",
       "4                                               1289                                                                                                  \n",
       "\n",
       "   Types.of.Health.Insurance.Coverage.by.Age..65.years.and.over..With.two.or.more.types.of.health.insurance.coverage.Other.coverage.combinations  \\\n",
       "0                                              18508                                                                                               \n",
       "1                                              18508                                                                                               \n",
       "2                                              18508                                                                                               \n",
       "3                                              18508                                                                                               \n",
       "4                                              18508                                                                                               \n",
       "\n",
       "  Types.of.Health.Insurance.Coverage.by.Age..65.years.and.over..No.health.insurance.coverage  \\\n",
       "0                                                194                                           \n",
       "1                                                194                                           \n",
       "2                                                194                                           \n",
       "3                                                194                                           \n",
       "4                                                194                                           \n",
       "\n",
       "     married   divorced  bad_english    poverty  \n",
       "0  42.023943  10.485747     7.930932  16.801532  \n",
       "1  42.023943  10.485747     7.930932  16.801532  \n",
       "2  42.023943  10.485747     7.930932  16.801532  \n",
       "3  42.023943  10.485747     7.930932  16.801532  \n",
       "4  42.023943  10.485747     7.930932  16.801532  \n",
       "\n",
       "[5 rows x 201 columns]"
      ]
     },
     "execution_count": 3,
     "metadata": {},
     "output_type": "execute_result"
    }
   ],
   "source": [
    "sal.head(5)"
   ]
  },
  {
   "cell_type": "code",
   "execution_count": 4,
   "metadata": {
    "collapsed": false
   },
   "outputs": [
    {
     "name": "stdout",
     "output_type": "stream",
     "text": [
      "(2222, 201)\n"
     ]
    }
   ],
   "source": [
    "print(sal.shape)"
   ]
  },
  {
   "cell_type": "code",
   "execution_count": 5,
   "metadata": {
    "collapsed": true
   },
   "outputs": [],
   "source": [
    "sal['missingSalary'] = pd.isnull(sal['salary'])\n",
    "sal2 = sal[(sal.missingSalary == False)]\n",
    "# elminates missing Y values"
   ]
  },
  {
   "cell_type": "code",
   "execution_count": 6,
   "metadata": {
    "collapsed": false
   },
   "outputs": [],
   "source": [
    "# list of X vars to include\n",
    "X_numeric_features = ['sup1', 'sup2', 'sup3', 'sup4', 'sup5', 'disabled', 'yearsinposition', \n",
    "         'yearsinprofession', 'age', 'cred1', 'cred2', 'inst1', 'inst2', 'inst3', 'inst4', 'inst5', 'instbudget', 'instsize']\n",
    "X_numeric = sal2[X_numeric_features]\n",
    "X_categorical_features = ['function.', 'gender', 'race', 'highestdegree', 'category', 'insttype']\n",
    "X_categorical = sal2[X_categorical_features]"
   ]
  },
  {
   "cell_type": "code",
   "execution_count": 7,
   "metadata": {
    "collapsed": false
   },
   "outputs": [],
   "source": [
    "X_extra = sal2.loc[:,'ZCTA5':'poverty'].values # catch em all"
   ]
  },
  {
   "cell_type": "code",
   "execution_count": 8,
   "metadata": {
    "collapsed": false
   },
   "outputs": [],
   "source": [
    "# create dummy variables for each of the categorical features\n",
    "# DOC: http://pandas.pydata.org/pandas-docs/stable/generated/pandas.get_dummies.html\n",
    "\n",
    "function_dummies = pd.get_dummies(X_categorical['function.'])\n",
    "gender_dummies = pd.get_dummies(X_categorical['gender'])\n",
    "race_dummies = pd.get_dummies(X_categorical['race'])\n",
    "highestdegree_dummies = pd.get_dummies(X_categorical['highestdegree'])\n",
    "category_dummies = pd.get_dummies(X_categorical['category'])\n",
    "insttype_dummies = pd.get_dummies(X_categorical['insttype'])\n",
    "\n",
    "X_dummy_features = pd.concat([function_dummies, gender_dummies, race_dummies, highestdegree_dummies, category_dummies, insttype_dummies], axis=1)\n",
    "\n",
    "# convert to ndarray\n",
    "X_dummy_features = X_dummy_features.as_matrix()"
   ]
  },
  {
   "cell_type": "code",
   "execution_count": 9,
   "metadata": {
    "collapsed": true
   },
   "outputs": [],
   "source": [
    "# impute missing values in numerical features\n",
    "# DOC: http://scikit-learn.org/stable/modules/preprocessing.html\n",
    "\n",
    "from sklearn.preprocessing import Imputer\n",
    "imp = Imputer()\n",
    "imp.fit(X_numeric)\n",
    "X_numeric_imputed = imp.transform(X_numeric)\n",
    "\n",
    "imp.fit(X_extra)\n",
    "X_extra_imputed = imp.transform(X_extra)"
   ]
  },
  {
   "cell_type": "code",
   "execution_count": 10,
   "metadata": {
    "collapsed": true
   },
   "outputs": [],
   "source": [
    "X = np.concatenate((X_dummy_features, X_numeric_imputed, X_extra_imputed), axis=1)"
   ]
  },
  {
   "cell_type": "code",
   "execution_count": 11,
   "metadata": {
    "collapsed": false
   },
   "outputs": [],
   "source": [
    "# y is salary\n",
    "y = sal2.loc[:, 'salary'].values"
   ]
  },
  {
   "cell_type": "code",
   "execution_count": 12,
   "metadata": {
    "collapsed": true
   },
   "outputs": [],
   "source": [
    "# create training and test sets\n",
    "from sklearn.cross_validation import train_test_split\n",
    "\n",
    "X_train, X_test, y_train, y_test = train_test_split(\n",
    "         X, y, test_size=0.3, random_state=0)"
   ]
  },
  {
   "cell_type": "code",
   "execution_count": 13,
   "metadata": {
    "collapsed": true
   },
   "outputs": [],
   "source": [
    "# keep track of variance on test data, to graph\n",
    "var_to_graph = {}\n",
    "# bring residual sum of squares from regression1.ipynb\n",
    "var_to_graph['simpReg'] = 265376883.08"
   ]
  },
  {
   "cell_type": "code",
   "execution_count": 14,
   "metadata": {
    "collapsed": false
   },
   "outputs": [
    {
     "data": {
      "text/plain": [
       "LinearRegression(copy_X=True, fit_intercept=True, n_jobs=1, normalize=False)"
      ]
     },
     "execution_count": 14,
     "metadata": {},
     "output_type": "execute_result"
    }
   ],
   "source": [
    "## LINEAR REGRESSION - NOT NORMALIZED\n",
    "\n",
    "from sklearn import datasets, linear_model\n",
    "# DOC: http://scikit-learn.org/stable/modules/generated/sklearn.linear_model.LinearRegression.html\n",
    "\n",
    "regr = linear_model.LinearRegression()\n",
    "\n",
    "# Train the model using the training sets\n",
    "X_train_no_intercept = X_train\n",
    "X_train = X_train.reshape(-1, X_train.shape[1])\n",
    "regr.fit(X_train, y_train)"
   ]
  },
  {
   "cell_type": "code",
   "execution_count": 15,
   "metadata": {
    "collapsed": false
   },
   "outputs": [
    {
     "name": "stdout",
     "output_type": "stream",
     "text": [
      "Mean Squared Error, training data: 64660303\n",
      "Mean Squared Error, test data: 93278409\n",
      "* * * * * * * * * * * * * * * * * * * * * * * * * * * * * * \n",
      "Variance score, training data: 0.80\n",
      "Variance score, test data: 0.75\n",
      "* * * * * * * * * * * * * * * * * * * * * * * * * * * * * * \n",
      "Distribution of prediction error on training data:\n"
     ]
    },
    {
     "data": {
      "image/png": "[encoded data removed]",
      "text/plain": [
       "<matplotlib.figure.Figure at 0x1152f8e48>"
      ]
     },
     "metadata": {},
     "output_type": "display_data"
    },
    {
     "name": "stdout",
     "output_type": "stream",
     "text": [
      "Distribution of prediction error on test data:\n"
     ]
    },
    {
     "data": {
      "image/png": "[encoded data removed]",
      "text/plain": [
       "<matplotlib.figure.Figure at 0x1156af908>"
      ]
     },
     "metadata": {},
     "output_type": "display_data"
    }
   ],
   "source": [
    "### MODEL PERFORMANCE - LINEAR REGRESSION ###\n",
    "\n",
    "# The Mean Squared Error\n",
    "print(\"Mean Squared Error, training data: %d\"\n",
    "      % np.mean((regr.predict(X_train) - y_train) ** 2))\n",
    "print(\"Mean Squared Error, test data: %d\"\n",
    "      % np.mean((regr.predict(X_test) - y_test) ** 2))\n",
    "print(30 * '* ')\n",
    "\n",
    "# Variance score\n",
    "print('Variance score, training data: %.2f' % regr.score(X_train, y_train))\n",
    "print('Variance score, test data: %.2f' % regr.score(X_test, y_test))\n",
    "print(30 * '* ')\n",
    "\n",
    "### GRAPHS: DISTRIBUTION OF ERROR ###\n",
    "print('Distribution of prediction error on training data:')\n",
    "predError = regr.predict(X_train) - y_train\n",
    "plt.hist(predError)\n",
    "plt.xlim(-80000, 80000)\n",
    "plt.show()\n",
    "\n",
    "print('Distribution of prediction error on test data:')\n",
    "predError = regr.predict(X_test) - y_test\n",
    "plt.hist(predError)\n",
    "plt.xlim(-80000, 80000)\n",
    "plt.show()"
   ]
  },
  {
   "cell_type": "code",
   "execution_count": 16,
   "metadata": {
    "collapsed": false
   },
   "outputs": [
    {
     "data": {
      "text/plain": [
       "LinearRegression(copy_X=True, fit_intercept=True, n_jobs=1, normalize=True)"
      ]
     },
     "execution_count": 16,
     "metadata": {},
     "output_type": "execute_result"
    }
   ],
   "source": [
    "## LINEAR REGRESSION - NORMALIZED\n",
    "\n",
    "from sklearn import datasets, linear_model\n",
    "# DOC: http://scikit-learn.org/stable/modules/generated/sklearn.linear_model.LinearRegression.html\n",
    "\n",
    "regr_n = linear_model.LinearRegression(normalize = True)\n",
    "\n",
    "# Train the model using the training sets\n",
    "X_train_no_intercept = X_train\n",
    "X_train = X_train.reshape(-1, X_train.shape[1])\n",
    "regr_n.fit(X_train, y_train)"
   ]
  },
  {
   "cell_type": "code",
   "execution_count": 17,
   "metadata": {
    "collapsed": false
   },
   "outputs": [
    {
     "name": "stdout",
     "output_type": "stream",
     "text": [
      "Mean Squared Error, training data: 64660299\n",
      "Mean Squared Error, test data: 93279385\n",
      "* * * * * * * * * * * * * * * * * * * * * * * * * * * * * * \n",
      "Variance score, training data: 0.80\n",
      "Variance score, test data: 0.75\n",
      "* * * * * * * * * * * * * * * * * * * * * * * * * * * * * * \n",
      "Distribution of prediction error on training data:\n"
     ]
    },
    {
     "data": {
      "image/png": "[encoded data removed]",
      "text/plain": [
       "<matplotlib.figure.Figure at 0x11575c710>"
      ]
     },
     "metadata": {},
     "output_type": "display_data"
    },
    {
     "name": "stdout",
     "output_type": "stream",
     "text": [
      "Distribution of prediction error on test data:\n"
     ]
    },
    {
     "data": {
      "image/png": "[encoded data removed]",
      "text/plain": [
       "<matplotlib.figure.Figure at 0x1156cb8d0>"
      ]
     },
     "metadata": {},
     "output_type": "display_data"
    }
   ],
   "source": [
    "### MODEL PERFORMANCE - LINEAR REGRESSION ###\n",
    "\n",
    "# The Mean Squared Error\n",
    "print(\"Mean Squared Error, training data: %d\"\n",
    "      % np.mean((regr_n.predict(X_train) - y_train) ** 2))\n",
    "print(\"Mean Squared Error, test data: %d\"\n",
    "      % np.mean((regr_n.predict(X_test) - y_test) ** 2))\n",
    "print(30 * '* ')\n",
    "\n",
    "# Variance score\n",
    "print('Variance score, training data: %.2f' % regr_n.score(X_train, y_train))\n",
    "print('Variance score, test data: %.2f' % regr_n.score(X_test, y_test))\n",
    "print(30 * '* ')\n",
    "\n",
    "### GRAPHS: DISTRIBUTION OF ERROR ###\n",
    "print('Distribution of prediction error on training data:')\n",
    "predError = regr_n.predict(X_train) - y_train\n",
    "plt.hist(predError)\n",
    "plt.xlim(-80000, 80000)\n",
    "plt.show()\n",
    "\n",
    "print('Distribution of prediction error on test data:')\n",
    "predError = regr_n.predict(X_test) - y_test\n",
    "plt.hist(predError)\n",
    "plt.xlim(-80000, 80000)\n",
    "plt.show()"
   ]
  },
  {
   "cell_type": "code",
   "execution_count": 18,
   "metadata": {
    "collapsed": false
   },
   "outputs": [
    {
     "data": {
      "text/plain": [
       "LinearRegression(copy_X=True, fit_intercept=True, n_jobs=1, normalize=True)"
      ]
     },
     "execution_count": 18,
     "metadata": {},
     "output_type": "execute_result"
    }
   ],
   "source": [
    "## POLYNOMINAL \n",
    "\n",
    "from sklearn.preprocessing import PolynomialFeatures\n",
    "# DOC: http://scikit-learn.org/stable/modules/preprocessing.html\n",
    "\n",
    "poly = PolynomialFeatures(2)\n",
    "X_poly = poly.fit_transform(X)\n",
    "\n",
    "# create training and test sets\n",
    "from sklearn.cross_validation import train_test_split\n",
    "\n",
    "X_train, X_test, y_train, y_test = train_test_split(\n",
    "         X_poly, y, test_size=0.3, random_state=0)\n",
    "\n",
    "# Create linear regression object\n",
    "poly = linear_model.LinearRegression(normalize=True)\n",
    "\n",
    "# Train the model using the training sets\n",
    "X_train_no_intercept = X_train\n",
    "X_train = X_train.reshape(-1, X_train.shape[1])\n",
    "poly.fit(X_train, y_train)"
   ]
  },
  {
   "cell_type": "code",
   "execution_count": 19,
   "metadata": {
    "collapsed": false
   },
   "outputs": [
    {
     "name": "stdout",
     "output_type": "stream",
     "text": [
      "Mean Squared Error, training data: 0\n",
      "Mean Squared Error, test data: 9908494149\n",
      "* * * * * * * * * * * * * * * * * * * * * * * * * * * * * * \n",
      "Variance score, training data: 1.00\n",
      "Variance score, test data: -25.42\n",
      "* * * * * * * * * * * * * * * * * * * * * * * * * * * * * * \n",
      "Distribution of prediction error on training data:\n"
     ]
    },
    {
     "data": {
      "image/png": "[encoded data removed]",
      "text/plain": [
       "<matplotlib.figure.Figure at 0x11581c278>"
      ]
     },
     "metadata": {},
     "output_type": "display_data"
    },
    {
     "name": "stdout",
     "output_type": "stream",
     "text": [
      "Distribution of prediction error on test data:\n"
     ]
    },
    {
     "data": {
      "image/png": "[encoded data removed]",
      "text/plain": [
       "<matplotlib.figure.Figure at 0x118334588>"
      ]
     },
     "metadata": {},
     "output_type": "display_data"
    }
   ],
   "source": [
    "### MODEL PERFORMANCE ###\n",
    "\n",
    "var_to_graph['poly'] = np.mean((poly.predict(X_test) - y_test) ** 2)\n",
    "\n",
    "# The Mean Squared Error\n",
    "print(\"Mean Squared Error, training data: %d\"\n",
    "      % np.mean((poly.predict(X_train) - y_train) ** 2))\n",
    "print(\"Mean Squared Error, test data: %d\"\n",
    "      % np.mean((poly.predict(X_test) - y_test) ** 2))\n",
    "print(30 * '* ')\n",
    "\n",
    "# Variance score\n",
    "print('Variance score, training data: %.2f' % poly.score(X_train, y_train))\n",
    "print('Variance score, test data: %.2f' % poly.score(X_test, y_test))\n",
    "print(30 * '* ')\n",
    "\n",
    "### GRAPHS: DISTRIBUTION OF ERROR ###\n",
    "print('Distribution of prediction error on training data:')\n",
    "predError = poly.predict(X_train) - y_train\n",
    "plt.hist(predError)\n",
    "plt.xlim(-80000, 80000)\n",
    "plt.show()\n",
    "\n",
    "print('Distribution of prediction error on test data:')\n",
    "predError = poly.predict(X_test) - y_test\n",
    "plt.hist(predError)\n",
    "plt.xlim(-80000, 80000)\n",
    "plt.show()"
   ]
  },
  {
   "cell_type": "code",
   "execution_count": 20,
   "metadata": {
    "collapsed": false
   },
   "outputs": [
    {
     "data": {
      "text/plain": [
       "Ridge(alpha=1.0, copy_X=True, fit_intercept=True, max_iter=None,\n",
       "   normalize=False, random_state=None, solver='auto', tol=0.001)"
      ]
     },
     "execution_count": 20,
     "metadata": {},
     "output_type": "execute_result"
    }
   ],
   "source": [
    "## RIDGE REGRESSION\n",
    "# DOC: http://scikit-learn.org/stable/modules/generated/sklearn.linear_model.Ridge.html\n",
    "\n",
    "# create training and test sets\n",
    "from sklearn.cross_validation import train_test_split\n",
    "\n",
    "X_train, X_test, y_train, y_test = train_test_split(\n",
    "         X, y, test_size=0.3, random_state=0)\n",
    "\n",
    "# Create linear regression object\n",
    "ridg = linear_model.Ridge()\n",
    "\n",
    "# Train the model using the training sets\n",
    "X_train_no_intercept = X_train\n",
    "X_train = X_train.reshape(-1, X_train.shape[1])\n",
    "ridg.fit(X_train, y_train)"
   ]
  },
  {
   "cell_type": "code",
   "execution_count": 21,
   "metadata": {
    "collapsed": false
   },
   "outputs": [
    {
     "name": "stdout",
     "output_type": "stream",
     "text": [
      "Mean Squared Error, training data: 66144772\n",
      "Mean Squared Error, test data: 89629429\n",
      "* * * * * * * * * * * * * * * * * * * * * * * * * * * * * * \n",
      "Variance score, training data: 0.79\n",
      "Variance score, test data: 0.76\n",
      "* * * * * * * * * * * * * * * * * * * * * * * * * * * * * * \n",
      "Distribution of prediction error on training data:\n"
     ]
    },
    {
     "data": {
      "image/png": "[encoded data removed]",
      "text/plain": [
       "<matplotlib.figure.Figure at 0x181bc86a0>"
      ]
     },
     "metadata": {},
     "output_type": "display_data"
    },
    {
     "name": "stdout",
     "output_type": "stream",
     "text": [
      "Distribution of prediction error on test data:\n"
     ]
    },
    {
     "data": {
      "image/png": "[encoded data removed]",
      "text/plain": [
       "<matplotlib.figure.Figure at 0x11581c908>"
      ]
     },
     "metadata": {},
     "output_type": "display_data"
    }
   ],
   "source": [
    "### MODEL PERFORMANCE - RIDGE ###\n",
    "\n",
    "var_to_graph['ridge'] = np.mean((ridg.predict(X_test) - y_test) ** 2)\n",
    "\n",
    "# The Mean Squared Error\n",
    "print(\"Mean Squared Error, training data: %d\"\n",
    "      % np.mean((ridg.predict(X_train) - y_train) ** 2))\n",
    "print(\"Mean Squared Error, test data: %d\"\n",
    "      % np.mean((ridg.predict(X_test) - y_test) ** 2))\n",
    "print(30 * '* ')\n",
    "\n",
    "# Variance score\n",
    "print('Variance score, training data: %.2f' % ridg.score(X_train, y_train))\n",
    "print('Variance score, test data: %.2f' % ridg.score(X_test, y_test))\n",
    "print(30 * '* ')\n",
    "\n",
    "### GRAPHS: DISTRIBUTION OF ERROR ###\n",
    "print('Distribution of prediction error on training data:')\n",
    "predError = ridg.predict(X_train) - y_train\n",
    "plt.hist(predError)\n",
    "plt.xlim(-80000, 80000)\n",
    "plt.show()\n",
    "\n",
    "print('Distribution of prediction error on test data:')\n",
    "predError = ridg.predict(X_test) - y_test\n",
    "plt.hist(predError)\n",
    "plt.xlim(-80000, 80000)\n",
    "plt.show()"
   ]
  },
  {
   "cell_type": "code",
   "execution_count": 22,
   "metadata": {
    "collapsed": false
   },
   "outputs": [
    {
     "data": {
      "text/plain": [
       "Ridge(alpha=1.0, copy_X=True, fit_intercept=True, max_iter=None,\n",
       "   normalize=True, random_state=None, solver='auto', tol=0.001)"
      ]
     },
     "execution_count": 22,
     "metadata": {},
     "output_type": "execute_result"
    }
   ],
   "source": [
    "## RIDGE REGRESSION - NORMALIZED\n",
    "# DOC: http://scikit-learn.org/stable/modules/generated/sklearn.linear_model.Ridge.html\n",
    "\n",
    "# create training and test sets\n",
    "from sklearn.cross_validation import train_test_split\n",
    "\n",
    "X_train, X_test, y_train, y_test = train_test_split(\n",
    "         X, y, test_size=0.3, random_state=0)\n",
    "\n",
    "# Create linear regression object\n",
    "ridg_n = linear_model.Ridge(normalize=True)\n",
    "\n",
    "# Train the model using the training sets\n",
    "X_train_no_intercept = X_train\n",
    "X_train = X_train.reshape(-1, X_train.shape[1])\n",
    "ridg_n.fit(X_train, y_train)"
   ]
  },
  {
   "cell_type": "code",
   "execution_count": 23,
   "metadata": {
    "collapsed": false
   },
   "outputs": [
    {
     "name": "stdout",
     "output_type": "stream",
     "text": [
      "Mean Squared Error, training data: 95260007\n",
      "Mean Squared Error, test data: 111733355\n",
      "* * * * * * * * * * * * * * * * * * * * * * * * * * * * * * \n",
      "Variance score, training data: 0.70\n",
      "Variance score, test data: 0.70\n",
      "* * * * * * * * * * * * * * * * * * * * * * * * * * * * * * \n",
      "Distribution of prediction error on training data:\n"
     ]
    },
    {
     "data": {
      "image/png": "[encoded data removed]",
      "text/plain": [
       "<matplotlib.figure.Figure at 0x118368470>"
      ]
     },
     "metadata": {},
     "output_type": "display_data"
    },
    {
     "name": "stdout",
     "output_type": "stream",
     "text": [
      "Distribution of prediction error on test data:\n"
     ]
    },
    {
     "data": {
      "image/png": "[encoded data removed]",
      "text/plain": [
       "<matplotlib.figure.Figure at 0x181b72080>"
      ]
     },
     "metadata": {},
     "output_type": "display_data"
    }
   ],
   "source": [
    "### MODEL PERFORMANCE - RIDGE NORMALIZED ###\n",
    "\n",
    "var_to_graph['ridge_norm'] = np.mean((ridg_n.predict(X_test) - y_test) ** 2)\n",
    "\n",
    "# The Mean Squared Error\n",
    "print(\"Mean Squared Error, training data: %d\"\n",
    "      % np.mean((ridg_n.predict(X_train) - y_train) ** 2))\n",
    "print(\"Mean Squared Error, test data: %d\"\n",
    "      % np.mean((ridg_n.predict(X_test) - y_test) ** 2))\n",
    "print(30 * '* ')\n",
    "\n",
    "# Variance score\n",
    "print('Variance score, training data: %.2f' % ridg_n.score(X_train, y_train))\n",
    "print('Variance score, test data: %.2f' % ridg_n.score(X_test, y_test))\n",
    "print(30 * '* ')\n",
    "\n",
    "### GRAPHS: DISTRIBUTION OF ERROR ###\n",
    "print('Distribution of prediction error on training data:')\n",
    "predError = ridg_n.predict(X_train) - y_train\n",
    "plt.hist(predError)\n",
    "plt.xlim(-80000, 80000)\n",
    "plt.show()\n",
    "\n",
    "print('Distribution of prediction error on test data:')\n",
    "predError = ridg_n.predict(X_test) - y_test\n",
    "plt.hist(predError)\n",
    "plt.xlim(-80000, 80000)\n",
    "plt.show()"
   ]
  },
  {
   "cell_type": "code",
   "execution_count": 24,
   "metadata": {
    "collapsed": false
   },
   "outputs": [
    {
     "data": {
      "image/png": "[encoded data removed]",
      "text/plain": [
       "<matplotlib.figure.Figure at 0x1152ecf28>"
      ]
     },
     "metadata": {},
     "output_type": "display_data"
    }
   ],
   "source": [
    "# bar graph of dict with Residual Sum of Squares on test datasets\n",
    "\n",
    "#var_to_graph['multReg_poly'] = 0\n",
    "plt.bar(range(len(var_to_graph)), var_to_graph.values(), align='center')\n",
    "plt.xticks(range(len(var_to_graph)), var_to_graph.keys())\n",
    "\n",
    "plt.show()"
   ]
  },
  {
   "cell_type": "code",
   "execution_count": 25,
   "metadata": {
    "collapsed": false
   },
   "outputs": [
    {
     "name": "stdout",
     "output_type": "stream",
     "text": [
      "Mean Squared Error, training data: 66144772\n",
      "Mean Squared Error, test data: 89629429\n",
      "* * * * * * * * * * * * * * * * * * * * * * * * * * * * * * \n",
      "Variance score, training data: 0.79\n",
      "Variance score, test data: 0.76\n",
      "* * * * * * * * * * * * * * * * * * * * * * * * * * * * * * \n",
      "Distribution of prediction error on training data:\n"
     ]
    },
    {
     "data": {
      "image/png": "[encoded data removed]",
      "text/plain": [
       "<matplotlib.figure.Figure at 0x11830da20>"
      ]
     },
     "metadata": {},
     "output_type": "display_data"
    },
    {
     "name": "stdout",
     "output_type": "stream",
     "text": [
      "Distribution of prediction error on test data:\n"
     ]
    },
    {
     "data": {
      "image/png": "[encoded data removed]",
      "text/plain": [
       "<matplotlib.figure.Figure at 0x1153377f0>"
      ]
     },
     "metadata": {},
     "output_type": "display_data"
    }
   ],
   "source": [
    "## BEST MODEL: RIDGE - NON-NORMALIZED\n",
    "\n",
    "### MODEL PERFORMANCE - RIDGE ###\n",
    "\n",
    "var_to_graph['ridge'] = np.mean((ridg.predict(X_test) - y_test) ** 2)\n",
    "\n",
    "# The Mean Squared Error\n",
    "print(\"Mean Squared Error, training data: %d\"\n",
    "      % np.mean((ridg.predict(X_train) - y_train) ** 2))\n",
    "print(\"Mean Squared Error, test data: %d\"\n",
    "      % np.mean((ridg.predict(X_test) - y_test) ** 2))\n",
    "print(30 * '* ')\n",
    "\n",
    "# Variance score\n",
    "print('Variance score, training data: %.2f' % ridg.score(X_train, y_train))\n",
    "print('Variance score, test data: %.2f' % ridg.score(X_test, y_test))\n",
    "print(30 * '* ')\n",
    "\n",
    "### GRAPHS: DISTRIBUTION OF ERROR ###\n",
    "print('Distribution of prediction error on training data:')\n",
    "predError = ridg.predict(X_train) - y_train\n",
    "plt.hist(predError)\n",
    "plt.xlim(-80000, 80000)\n",
    "plt.show()\n",
    "\n",
    "print('Distribution of prediction error on test data:')\n",
    "predError = ridg.predict(X_test) - y_test\n",
    "plt.hist(predError)\n",
    "plt.xlim(-80000, 80000)\n",
    "plt.show()"
   ]
  },
  {
   "cell_type": "code",
   "execution_count": null,
   "metadata": {
    "collapsed": true
   },
   "outputs": [],
   "source": []
  }
 ],
 "metadata": {
  "kernelspec": {
   "display_name": "Python 3",
   "language": "python",
   "name": "python3"
  },
  "language_info": {
   "codemirror_mode": {
    "name": "ipython",
    "version": 3
   },
   "file_extension": ".py",
   "mimetype": "text/x-python",
   "name": "python",
   "nbconvert_exporter": "python",
   "pygments_lexer": "ipython3",
   "version": "3.5.1"
  }
 },
 "nbformat": 4,
 "nbformat_minor": 0
}
